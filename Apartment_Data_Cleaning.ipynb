{
  "nbformat": 4,
  "nbformat_minor": 0,
  "metadata": {
    "colab": {
      "name": "Apartment_Data_Cleaning",
      "provenance": [],
      "collapsed_sections": [],
      "toc_visible": true,
      "authorship_tag": "ABX9TyP8mkotuaSLZxCVtw8bJNYL",
      "include_colab_link": true
    },
    "kernelspec": {
      "name": "python3",
      "display_name": "Python 3"
    }
  },
  "cells": [
    {
      "cell_type": "markdown",
      "metadata": {
        "id": "view-in-github",
        "colab_type": "text"
      },
      "source": [
        "<a href=\"https://colab.research.google.com/github/bryandaetz1/Apartment_Rent_Prices/blob/master/Apartment_Data_Cleaning.ipynb\" target=\"_parent\"><img src=\"https://colab.research.google.com/assets/colab-badge.svg\" alt=\"Open In Colab\"/></a>"
      ]
    },
    {
      "cell_type": "code",
      "metadata": {
        "id": "6Ntv-aj-2lip",
        "colab_type": "code",
        "colab": {}
      },
      "source": [
        "import pandas as pd\n",
        "import numpy as np\n",
        "import re"
      ],
      "execution_count": 1,
      "outputs": []
    },
    {
      "cell_type": "code",
      "metadata": {
        "id": "v5dKVxwY2nBp",
        "colab_type": "code",
        "colab": {}
      },
      "source": [
        "oak = pd.read_csv('https://raw.githubusercontent.com/bryandaetz1/Apartment_Rent_Prices/master/oakland_apartment_data.csv')\n",
        "sf = pd.read_csv('https://raw.githubusercontent.com/bryandaetz1/Apartment_Rent_Prices/master/san_francisco_apartment_data.csv')\n",
        "sj = pd.read_csv('https://raw.githubusercontent.com/bryandaetz1/Apartment_Rent_Prices/master/san_jose_apartment_data.csv')\n",
        "\n",
        "df = pd.concat([oak,sf,sj], axis = 0, sort = False)"
      ],
      "execution_count": 2,
      "outputs": []
    },
    {
      "cell_type": "code",
      "metadata": {
        "id": "PxmpipRC2pkO",
        "colab_type": "code",
        "colab": {
          "base_uri": "https://localhost:8080/",
          "height": 34
        },
        "outputId": "4ab3ea6c-b362-4dc7-f2b1-d69041967dd8"
      },
      "source": [
        "df.shape"
      ],
      "execution_count": 3,
      "outputs": [
        {
          "output_type": "execute_result",
          "data": {
            "text/plain": [
              "(12470, 8)"
            ]
          },
          "metadata": {
            "tags": []
          },
          "execution_count": 3
        }
      ]
    },
    {
      "cell_type": "code",
      "metadata": {
        "id": "o_-3Xt0P8I_h",
        "colab_type": "code",
        "colab": {
          "base_uri": "https://localhost:8080/",
          "height": 296
        },
        "outputId": "f3c6a57b-815c-42e2-e1db-fcac96e99758"
      },
      "source": [
        "df.head()"
      ],
      "execution_count": 4,
      "outputs": [
        {
          "output_type": "execute_result",
          "data": {
            "text/html": [
              "<div>\n",
              "<style scoped>\n",
              "    .dataframe tbody tr th:only-of-type {\n",
              "        vertical-align: middle;\n",
              "    }\n",
              "\n",
              "    .dataframe tbody tr th {\n",
              "        vertical-align: top;\n",
              "    }\n",
              "\n",
              "    .dataframe thead th {\n",
              "        text-align: right;\n",
              "    }\n",
              "</style>\n",
              "<table border=\"1\" class=\"dataframe\">\n",
              "  <thead>\n",
              "    <tr style=\"text-align: right;\">\n",
              "      <th></th>\n",
              "      <th>Title</th>\n",
              "      <th>Address</th>\n",
              "      <th>Bedrooms</th>\n",
              "      <th>Bathrooms</th>\n",
              "      <th>Rent</th>\n",
              "      <th>Square Footage</th>\n",
              "      <th>Availability</th>\n",
              "      <th>Amenities</th>\n",
              "    </tr>\n",
              "  </thead>\n",
              "  <tbody>\n",
              "    <tr>\n",
              "      <th>0</th>\n",
              "      <td>Amelia</td>\n",
              "      <td>411 29th St, Oakland, CA 94609 â€“ Pill Hill</td>\n",
              "      <td>1 Bed</td>\n",
              "      <td>1 Bath</td>\n",
              "      <td>$2,875 - 2,995</td>\n",
              "      <td>502 Sq Ft</td>\n",
              "      <td>Available Now</td>\n",
              "      <td>100% Smoke Free Community, Air Conditioning, B...</td>\n",
              "    </tr>\n",
              "    <tr>\n",
              "      <th>1</th>\n",
              "      <td>Amelia</td>\n",
              "      <td>411 29th St, Oakland, CA 94609 â€“ Pill Hill</td>\n",
              "      <td>1 Bed</td>\n",
              "      <td>1 Bath</td>\n",
              "      <td>$2,875</td>\n",
              "      <td>502 Sq Ft</td>\n",
              "      <td>Available Now</td>\n",
              "      <td>100% Smoke Free Community, Air Conditioning, B...</td>\n",
              "    </tr>\n",
              "    <tr>\n",
              "      <th>2</th>\n",
              "      <td>Amelia</td>\n",
              "      <td>411 29th St, Oakland, CA 94609 â€“ Pill Hill</td>\n",
              "      <td>1 Bed</td>\n",
              "      <td>1 Bath</td>\n",
              "      <td>$2,875</td>\n",
              "      <td>502 Sq Ft</td>\n",
              "      <td>Available Now</td>\n",
              "      <td>100% Smoke Free Community, Air Conditioning, B...</td>\n",
              "    </tr>\n",
              "    <tr>\n",
              "      <th>3</th>\n",
              "      <td>Amelia</td>\n",
              "      <td>411 29th St, Oakland, CA 94609 â€“ Pill Hill</td>\n",
              "      <td>1 Bed</td>\n",
              "      <td>1 Bath</td>\n",
              "      <td>$2,875</td>\n",
              "      <td>502 Sq Ft</td>\n",
              "      <td>Available Now</td>\n",
              "      <td>100% Smoke Free Community, Air Conditioning, B...</td>\n",
              "    </tr>\n",
              "    <tr>\n",
              "      <th>4</th>\n",
              "      <td>Amelia</td>\n",
              "      <td>411 29th St, Oakland, CA 94609 â€“ Pill Hill</td>\n",
              "      <td>1 Bed</td>\n",
              "      <td>1 Bath</td>\n",
              "      <td>$2,875</td>\n",
              "      <td>502 Sq Ft</td>\n",
              "      <td>Available Now</td>\n",
              "      <td>100% Smoke Free Community, Air Conditioning, B...</td>\n",
              "    </tr>\n",
              "  </tbody>\n",
              "</table>\n",
              "</div>"
            ],
            "text/plain": [
              "    Title  ...                                          Amenities\n",
              "0  Amelia  ...  100% Smoke Free Community, Air Conditioning, B...\n",
              "1  Amelia  ...  100% Smoke Free Community, Air Conditioning, B...\n",
              "2  Amelia  ...  100% Smoke Free Community, Air Conditioning, B...\n",
              "3  Amelia  ...  100% Smoke Free Community, Air Conditioning, B...\n",
              "4  Amelia  ...  100% Smoke Free Community, Air Conditioning, B...\n",
              "\n",
              "[5 rows x 8 columns]"
            ]
          },
          "metadata": {
            "tags": []
          },
          "execution_count": 4
        }
      ]
    },
    {
      "cell_type": "code",
      "metadata": {
        "id": "7CsZIHyaboZ6",
        "colab_type": "code",
        "colab": {
          "base_uri": "https://localhost:8080/",
          "height": 175
        },
        "outputId": "9d3b5d64-3e34-47af-ff39-6c57b4f4b38c"
      },
      "source": [
        "df.isna().sum()"
      ],
      "execution_count": 5,
      "outputs": [
        {
          "output_type": "execute_result",
          "data": {
            "text/plain": [
              "Title               0\n",
              "Address             0\n",
              "Bedrooms            0\n",
              "Bathrooms           9\n",
              "Rent                0\n",
              "Square Footage    375\n",
              "Availability        0\n",
              "Amenities         297\n",
              "dtype: int64"
            ]
          },
          "metadata": {
            "tags": []
          },
          "execution_count": 5
        }
      ]
    },
    {
      "cell_type": "code",
      "metadata": {
        "id": "i0kxYBn4fnP5",
        "colab_type": "code",
        "colab": {}
      },
      "source": [
        "#replacing null values in amenities column with empty strings, will address null values in bathrooms and square footage columns later\n",
        "df['Amenities'].fillna('', inplace = True)"
      ],
      "execution_count": 7,
      "outputs": []
    },
    {
      "cell_type": "markdown",
      "metadata": {
        "id": "I43TQ8yAcBNh",
        "colab_type": "text"
      },
      "source": [
        "#Cleaning Bedroom and Bathroom Columns"
      ]
    },
    {
      "cell_type": "code",
      "metadata": {
        "id": "yYN8ojpu2q70",
        "colab_type": "code",
        "colab": {
          "base_uri": "https://localhost:8080/",
          "height": 228
        },
        "outputId": "a798ccff-cbdf-4462-a1e9-fc6cccc9d4c5"
      },
      "source": [
        "df.Bedrooms.value_counts()"
      ],
      "execution_count": 8,
      "outputs": [
        {
          "output_type": "execute_result",
          "data": {
            "text/plain": [
              "1 Bed     5062\n",
              "2 BRs     4663\n",
              "Studio    1705\n",
              "3 BRs      836\n",
              "4 BRs      160\n",
              "5 BRs       29\n",
              "6 BRs       10\n",
              "8 BRs        2\n",
              "13 BRs       1\n",
              "7 BRs        1\n",
              "12 BRs       1\n",
              "Name: Bedrooms, dtype: int64"
            ]
          },
          "metadata": {
            "tags": []
          },
          "execution_count": 8
        }
      ]
    },
    {
      "cell_type": "code",
      "metadata": {
        "id": "25jWjKfB8hVg",
        "colab_type": "code",
        "colab": {
          "base_uri": "https://localhost:8080/",
          "height": 369
        },
        "outputId": "f2bbada5-447d-42f2-d7f9-a0ac4e1f4026"
      },
      "source": [
        "df.Bathrooms.value_counts()"
      ],
      "execution_count": 9,
      "outputs": [
        {
          "output_type": "execute_result",
          "data": {
            "text/plain": [
              "1 Bath       7319\n",
              "2 Baths      4350\n",
              "1½ Baths      216\n",
              "2½ Baths      176\n",
              "3 Baths       161\n",
              "2Â½ Baths      98\n",
              "1Â½ Baths      69\n",
              "3½ Baths       33\n",
              "4 Baths        14\n",
              "0Â½ Baths       7\n",
              "4½ Baths        4\n",
              "4Â½ Baths       4\n",
              "0½ Baths        3\n",
              "5½ Baths        2\n",
              "5Â½ Baths       1\n",
              "3Â½ Baths       1\n",
              "17 Baths        1\n",
              "3¼ Baths        1\n",
              "10 Baths        1\n",
              "Name: Bathrooms, dtype: int64"
            ]
          },
          "metadata": {
            "tags": []
          },
          "execution_count": 9
        }
      ]
    },
    {
      "cell_type": "code",
      "metadata": {
        "id": "u_e-pkcY22Fm",
        "colab_type": "code",
        "colab": {}
      },
      "source": [
        "# replacing Studio with 0 bedrooms and removing all non-digits from Bedrooms column\n",
        "df.Bedrooms = pd.to_numeric(df.Bedrooms.str.replace('Studio','0').str.replace('\\D','', regex = True))\n",
        "\n",
        "# converting fractions to decimals and removing all letters from Bathrooms column\n",
        "df.Bathrooms = pd.to_numeric(df.Bathrooms.str.replace('½','.5').str.replace('¼','.25').str.replace('Â','').str.replace('[a-zA-z]','', regex = True).str.strip())\n"
      ],
      "execution_count": 10,
      "outputs": []
    },
    {
      "cell_type": "code",
      "metadata": {
        "id": "mD_1gTbW32C3",
        "colab_type": "code",
        "colab": {
          "base_uri": "https://localhost:8080/",
          "height": 228
        },
        "outputId": "1fbd5db2-fca4-449e-d83b-c4f635916328"
      },
      "source": [
        "df.Bedrooms.value_counts()"
      ],
      "execution_count": 11,
      "outputs": [
        {
          "output_type": "execute_result",
          "data": {
            "text/plain": [
              "1     5062\n",
              "2     4663\n",
              "0     1705\n",
              "3      836\n",
              "4      160\n",
              "5       29\n",
              "6       10\n",
              "8        2\n",
              "7        1\n",
              "13       1\n",
              "12       1\n",
              "Name: Bedrooms, dtype: int64"
            ]
          },
          "metadata": {
            "tags": []
          },
          "execution_count": 11
        }
      ]
    },
    {
      "cell_type": "code",
      "metadata": {
        "id": "jNWnK0zn4R9M",
        "colab_type": "code",
        "colab": {
          "base_uri": "https://localhost:8080/",
          "height": 263
        },
        "outputId": "f49f9f2b-d1df-4ef2-bdc0-3d1ff99e2e24"
      },
      "source": [
        "df.Bathrooms.value_counts()"
      ],
      "execution_count": 12,
      "outputs": [
        {
          "output_type": "execute_result",
          "data": {
            "text/plain": [
              "1.00     7319\n",
              "2.00     4350\n",
              "1.50      285\n",
              "2.50      274\n",
              "3.00      161\n",
              "3.50       34\n",
              "4.00       14\n",
              "0.50       10\n",
              "4.50        8\n",
              "5.50        3\n",
              "3.25        1\n",
              "17.00       1\n",
              "10.00       1\n",
              "Name: Bathrooms, dtype: int64"
            ]
          },
          "metadata": {
            "tags": []
          },
          "execution_count": 12
        }
      ]
    },
    {
      "cell_type": "code",
      "metadata": {
        "id": "Q2tTjhJ0xfTa",
        "colab_type": "code",
        "colab": {
          "base_uri": "https://localhost:8080/",
          "height": 482
        },
        "outputId": "c1a3027f-e23a-4055-979b-545270eea64f"
      },
      "source": [
        "#inspecting rows where number of bathrooms is missing\n",
        "df.loc[df['Bathrooms'].isna()]"
      ],
      "execution_count": 13,
      "outputs": [
        {
          "output_type": "execute_result",
          "data": {
            "text/html": [
              "<div>\n",
              "<style scoped>\n",
              "    .dataframe tbody tr th:only-of-type {\n",
              "        vertical-align: middle;\n",
              "    }\n",
              "\n",
              "    .dataframe tbody tr th {\n",
              "        vertical-align: top;\n",
              "    }\n",
              "\n",
              "    .dataframe thead th {\n",
              "        text-align: right;\n",
              "    }\n",
              "</style>\n",
              "<table border=\"1\" class=\"dataframe\">\n",
              "  <thead>\n",
              "    <tr style=\"text-align: right;\">\n",
              "      <th></th>\n",
              "      <th>Title</th>\n",
              "      <th>Address</th>\n",
              "      <th>Bedrooms</th>\n",
              "      <th>Bathrooms</th>\n",
              "      <th>Rent</th>\n",
              "      <th>Square Footage</th>\n",
              "      <th>Availability</th>\n",
              "      <th>Amenities</th>\n",
              "    </tr>\n",
              "  </thead>\n",
              "  <tbody>\n",
              "    <tr>\n",
              "      <th>2458</th>\n",
              "      <td>Aqua Via</td>\n",
              "      <td>125 2nd St, Oakland, CA 94607 â€“ Jack London ...</td>\n",
              "      <td>0</td>\n",
              "      <td>NaN</td>\n",
              "      <td>$2,598 - 5,359</td>\n",
              "      <td>790 Sq Ft</td>\n",
              "      <td>26-Oct</td>\n",
              "      <td>Air Conditioning in Every Home, Award-Winning ...</td>\n",
              "    </tr>\n",
              "    <tr>\n",
              "      <th>2459</th>\n",
              "      <td>Aqua Via</td>\n",
              "      <td>125 2nd St, Oakland, CA 94607 â€“ Jack London ...</td>\n",
              "      <td>0</td>\n",
              "      <td>NaN</td>\n",
              "      <td>$2,598 - 5,359</td>\n",
              "      <td>790 Sq Ft</td>\n",
              "      <td>26-Oct</td>\n",
              "      <td>Air Conditioning in Every Home, Award-Winning ...</td>\n",
              "    </tr>\n",
              "    <tr>\n",
              "      <th>2975</th>\n",
              "      <td>One Henry Adams</td>\n",
              "      <td>1 Henry Adams St, San Francisco, CA 94103 – Po...</td>\n",
              "      <td>1</td>\n",
              "      <td>NaN</td>\n",
              "      <td>Call for Rent</td>\n",
              "      <td>651 Sq Ft</td>\n",
              "      <td>Not Available</td>\n",
              "      <td>Courtyard, High Speed Internet Access, Roommat...</td>\n",
              "    </tr>\n",
              "    <tr>\n",
              "      <th>3788</th>\n",
              "      <td>FOUND Study Nob Hill</td>\n",
              "      <td>851 California St, San Francisco, CA 94108 – C...</td>\n",
              "      <td>1</td>\n",
              "      <td>NaN</td>\n",
              "      <td>$1,300 - 1,650</td>\n",
              "      <td>NaN</td>\n",
              "      <td>Available Now</td>\n",
              "      <td>Furnished, Built in 1910, 80 Units/4 Stories, ...</td>\n",
              "    </tr>\n",
              "    <tr>\n",
              "      <th>3789</th>\n",
              "      <td>FOUND Study Nob Hill</td>\n",
              "      <td>851 California St, San Francisco, CA 94108 – C...</td>\n",
              "      <td>1</td>\n",
              "      <td>NaN</td>\n",
              "      <td>$1,300</td>\n",
              "      <td>NaN</td>\n",
              "      <td>Available Now</td>\n",
              "      <td>Furnished, Built in 1910, 80 Units/4 Stories, ...</td>\n",
              "    </tr>\n",
              "    <tr>\n",
              "      <th>3790</th>\n",
              "      <td>FOUND Study Nob Hill</td>\n",
              "      <td>851 California St, San Francisco, CA 94108 – C...</td>\n",
              "      <td>1</td>\n",
              "      <td>NaN</td>\n",
              "      <td>$1,650</td>\n",
              "      <td>NaN</td>\n",
              "      <td>Available Now</td>\n",
              "      <td>Furnished, Built in 1910, 80 Units/4 Stories, ...</td>\n",
              "    </tr>\n",
              "    <tr>\n",
              "      <th>3791</th>\n",
              "      <td>FOUND Study Nob Hill</td>\n",
              "      <td>851 California St, San Francisco, CA 94108 – C...</td>\n",
              "      <td>1</td>\n",
              "      <td>NaN</td>\n",
              "      <td>$1,650</td>\n",
              "      <td>NaN</td>\n",
              "      <td>Available Now</td>\n",
              "      <td>Furnished, Built in 1910, 80 Units/4 Stories, ...</td>\n",
              "    </tr>\n",
              "    <tr>\n",
              "      <th>3792</th>\n",
              "      <td>FOUND Study Nob Hill</td>\n",
              "      <td>851 California St, San Francisco, CA 94108 – C...</td>\n",
              "      <td>1</td>\n",
              "      <td>NaN</td>\n",
              "      <td>$1,650</td>\n",
              "      <td>NaN</td>\n",
              "      <td>Available Now</td>\n",
              "      <td>Furnished, Built in 1910, 80 Units/4 Stories, ...</td>\n",
              "    </tr>\n",
              "    <tr>\n",
              "      <th>3982</th>\n",
              "      <td>1801 15th St</td>\n",
              "      <td>1801 15th St, San Francisco, CA 94103 – Missio...</td>\n",
              "      <td>0</td>\n",
              "      <td>NaN</td>\n",
              "      <td>Call for Rent</td>\n",
              "      <td>NaN</td>\n",
              "      <td>Available Soon</td>\n",
              "      <td>Built in 1924, 9 Units/3 Stories</td>\n",
              "    </tr>\n",
              "  </tbody>\n",
              "</table>\n",
              "</div>"
            ],
            "text/plain": [
              "                     Title  ...                                          Amenities\n",
              "2458              Aqua Via  ...  Air Conditioning in Every Home, Award-Winning ...\n",
              "2459              Aqua Via  ...  Air Conditioning in Every Home, Award-Winning ...\n",
              "2975       One Henry Adams  ...  Courtyard, High Speed Internet Access, Roommat...\n",
              "3788  FOUND Study Nob Hill  ...  Furnished, Built in 1910, 80 Units/4 Stories, ...\n",
              "3789  FOUND Study Nob Hill  ...  Furnished, Built in 1910, 80 Units/4 Stories, ...\n",
              "3790  FOUND Study Nob Hill  ...  Furnished, Built in 1910, 80 Units/4 Stories, ...\n",
              "3791  FOUND Study Nob Hill  ...  Furnished, Built in 1910, 80 Units/4 Stories, ...\n",
              "3792  FOUND Study Nob Hill  ...  Furnished, Built in 1910, 80 Units/4 Stories, ...\n",
              "3982          1801 15th St  ...                   Built in 1924, 9 Units/3 Stories\n",
              "\n",
              "[9 rows x 8 columns]"
            ]
          },
          "metadata": {
            "tags": []
          },
          "execution_count": 13
        }
      ]
    },
    {
      "cell_type": "code",
      "metadata": {
        "id": "96hY4ut5xoue",
        "colab_type": "code",
        "colab": {}
      },
      "source": [
        "# only 9 apartments don't have bathrooms listed and they are all either studios are 1 bedrooms, assuming this means 1 Bathroom\n",
        "df['Bathrooms'].fillna(1, inplace = True)"
      ],
      "execution_count": 14,
      "outputs": []
    },
    {
      "cell_type": "markdown",
      "metadata": {
        "id": "l3JuWbnicH6r",
        "colab_type": "text"
      },
      "source": [
        "# Extracting Features from Address Column"
      ]
    },
    {
      "cell_type": "code",
      "metadata": {
        "id": "nNuaSXW07Bvj",
        "colab_type": "code",
        "colab": {
          "base_uri": "https://localhost:8080/",
          "height": 228
        },
        "outputId": "683612d8-f9d5-4806-b8cd-94c56bb1dacf"
      },
      "source": [
        "#most addresses have a special symbol â€“ that will make them easy to split, but that's not the case for all of them\n",
        "#inspecting addresses without this symbol\n",
        "df.Address.loc[df['Address'].str.contains('â€“') == False]"
      ],
      "execution_count": 15,
      "outputs": [
        {
          "output_type": "execute_result",
          "data": {
            "text/plain": [
              "0       150 Van Ness Ave, San Francisco, CA 94102 – Ci...\n",
              "1       150 Van Ness Ave, San Francisco, CA 94102 – Ci...\n",
              "2       150 Van Ness Ave, San Francisco, CA 94102 – Ci...\n",
              "3       150 Van Ness Ave, San Francisco, CA 94102 – Ci...\n",
              "4       150 Van Ness Ave, San Francisco, CA 94102 – Ci...\n",
              "                              ...                        \n",
              "4620    3092 Manuel St, San Jose, CA 95136 – South San...\n",
              "4621     3420 Borge Ct, San Jose, CA 95132 – Upper Sierra\n",
              "4622        376 N 20th St, San Jose, CA 95112 – Northside\n",
              "4623       776 Deland Ave, San Jose, CA 95128 – Rose Glen\n",
              "4624       776 Deland Ave, San Jose, CA 95128 – Rose Glen\n",
              "Name: Address, Length: 9230, dtype: object"
            ]
          },
          "metadata": {
            "tags": []
          },
          "execution_count": 15
        }
      ]
    },
    {
      "cell_type": "code",
      "metadata": {
        "id": "Zex-H21SGjFd",
        "colab_type": "code",
        "colab": {}
      },
      "source": [
        "#extracting city from address and saving it as a new column\n",
        "df['City'] = df.Address.apply(lambda x: x.split(', CA')[0]).apply(lambda x: x.split(',')[-1]).str.strip()"
      ],
      "execution_count": 16,
      "outputs": []
    },
    {
      "cell_type": "code",
      "metadata": {
        "id": "ofk4uricIp-1",
        "colab_type": "code",
        "colab": {
          "base_uri": "https://localhost:8080/",
          "height": 316
        },
        "outputId": "48bc337c-124a-4d04-bff6-850789c7b536"
      },
      "source": [
        "df['City'].value_counts()"
      ],
      "execution_count": 17,
      "outputs": [
        {
          "output_type": "execute_result",
          "data": {
            "text/plain": [
              "San Francisco    4553\n",
              "San Jose         3632\n",
              "Oakland          2446\n",
              "Milpitas          369\n",
              "Berkeley          333\n",
              "Emeryville        311\n",
              "Santa Clara       269\n",
              "Campbell          178\n",
              "Cupertino         137\n",
              "Alameda            99\n",
              "Daly City          52\n",
              "San Leandro        37\n",
              "Sunnyvale          26\n",
              "Piedmont           14\n",
              "Los Gatos          13\n",
              "Saratoga            1\n",
              "Name: City, dtype: int64"
            ]
          },
          "metadata": {
            "tags": []
          },
          "execution_count": 17
        }
      ]
    },
    {
      "cell_type": "code",
      "metadata": {
        "id": "aGcHksOtE7dV",
        "colab_type": "code",
        "colab": {}
      },
      "source": [
        "#extracting zip code from address and storing this as a new column\n",
        "df['Zip_Code'] = df.Address.apply(lambda x: x.split('CA')[-1]).apply(lambda x: x.split('â€“')[0] if 'â€“' in str(x) else x.split('–')[0]).str.strip()"
      ],
      "execution_count": 18,
      "outputs": []
    },
    {
      "cell_type": "code",
      "metadata": {
        "id": "m0EscjwFGOUq",
        "colab_type": "code",
        "colab": {
          "base_uri": "https://localhost:8080/",
          "height": 228
        },
        "outputId": "c7607557-36da-4bb3-d1a2-b513ba2ebcc7"
      },
      "source": [
        "df['Zip_Code'].value_counts()"
      ],
      "execution_count": 19,
      "outputs": [
        {
          "output_type": "execute_result",
          "data": {
            "text/plain": [
              "94612    1347\n",
              "94107    1041\n",
              "94105     850\n",
              "94103     799\n",
              "95134     658\n",
              "         ... \n",
              "94127       3\n",
              "94104       2\n",
              "95139       2\n",
              "94708       1\n",
              "95070       1\n",
              "Name: Zip_Code, Length: 89, dtype: int64"
            ]
          },
          "metadata": {
            "tags": []
          },
          "execution_count": 19
        }
      ]
    },
    {
      "cell_type": "code",
      "metadata": {
        "id": "38f168c6A6m_",
        "colab_type": "code",
        "colab": {}
      },
      "source": [
        "#extracting neighborhood from address and storing this as a new column\n",
        "df['Neighborhood'] = df.Address.apply(lambda x: x.split('â€“')[-1] if 'â€“' in str(x) else x.split('–')[-1]).str.strip()"
      ],
      "execution_count": 20,
      "outputs": []
    },
    {
      "cell_type": "code",
      "metadata": {
        "id": "Cs5aPNPLCu1z",
        "colab_type": "code",
        "colab": {
          "base_uri": "https://localhost:8080/",
          "height": 985
        },
        "outputId": "23b9734a-eb6b-4259-8c75-4230df390ea1"
      },
      "source": [
        "#finding neighborhoods that appear most frequently repeatedly\n",
        "top_neighborhoods = df['Neighborhood'].value_counts()\n",
        "top_neighborhoods[top_neighborhoods > 50]"
      ],
      "execution_count": 21,
      "outputs": [
        {
          "output_type": "execute_result",
          "data": {
            "text/plain": [
              "Mission Bay                  723\n",
              "Lakeside                     669\n",
              "North San Jose               547\n",
              "Rincon                       543\n",
              "Northside                    467\n",
              "SoMa                         359\n",
              "Uptown Oakland               346\n",
              "Emeryville                   294\n",
              "Westlake                     283\n",
              "Potrero                      263\n",
              "Dogpatch                     245\n",
              "Santa Clara                  242\n",
              "Mission                      241\n",
              "South Market                 218\n",
              "Civic Center                 217\n",
              "Milpitas                     205\n",
              "Santa Teresa                 202\n",
              "San Francisco                176\n",
              "South Beach                  176\n",
              "Lower Haight                 175\n",
              "Jack London Square           172\n",
              "Rincon Hill                  153\n",
              "South Berkeley               146\n",
              "Financial District           142\n",
              "Pill Hill                    139\n",
              "Oakland                      139\n",
              "Buena Vista                  134\n",
              "Westwood Park                131\n",
              "Shafter                      123\n",
              "River Oaks                   123\n",
              "Lower Pacific Heights        110\n",
              "Downtown Cupertino           109\n",
              "Hamann Park                  108\n",
              "Japantown                    102\n",
              "Midtown Milpitas             100\n",
              "Sunol-Midtown                 99\n",
              "Blossom Valley/S San Jose     97\n",
              "Transbay                      94\n",
              "Garden Alameda                86\n",
              "Downtown San Jose             85\n",
              "Berryessa                     83\n",
              "Campbell                      78\n",
              "Renaissance                   77\n",
              "Sun                           77\n",
              "Hayes Valley                  75\n",
              "South San Jose                75\n",
              "West Alameda                  68\n",
              "Elmwood                       67\n",
              "Loma Linda                    63\n",
              "Mosswood                      63\n",
              "West Oakland                  61\n",
              "Parkview                      58\n",
              "Bayview                       57\n",
              "Piedmont Avenue               52\n",
              "Name: Neighborhood, dtype: int64"
            ]
          },
          "metadata": {
            "tags": []
          },
          "execution_count": 21
        }
      ]
    },
    {
      "cell_type": "markdown",
      "metadata": {
        "id": "_jWjrgNTcnop",
        "colab_type": "text"
      },
      "source": [
        "#Cleaning Rent Column"
      ]
    },
    {
      "cell_type": "code",
      "metadata": {
        "id": "prSjDzCwI4WU",
        "colab_type": "code",
        "colab": {
          "base_uri": "https://localhost:8080/",
          "height": 52
        },
        "outputId": "2452a00f-3292-4df6-a633-3290c3dc3c10"
      },
      "source": [
        "#testing to see how many listings have a range for rent \n",
        "print('Number of Listings with Rent Range:', len(df[df['Rent'].str.contains('-')]))\n",
        "print('Number of Listings with No Rent Listed:', len(df[df['Rent'].str.contains('Call')]))\n"
      ],
      "execution_count": 22,
      "outputs": [
        {
          "output_type": "stream",
          "text": [
            "Number of Listings with Rent Range: 4525\n",
            "Number of Listings with No Rent Listed: 1746\n"
          ],
          "name": "stdout"
        }
      ]
    },
    {
      "cell_type": "code",
      "metadata": {
        "id": "afBGyBn4hOSc",
        "colab_type": "code",
        "colab": {}
      },
      "source": [
        "# dropping rows where rent isn't listed\n",
        "df.drop(df.loc[df['Rent'].str.contains('Call')].index, axis = 0, inplace = True)\n",
        "\n",
        "#removing dollar signs, commas and / Person from rent column\n",
        "df['Rent'] = df['Rent'].str.replace('$','').str.replace(',','').str.replace('/ Person','')"
      ],
      "execution_count": 23,
      "outputs": []
    },
    {
      "cell_type": "code",
      "metadata": {
        "id": "e5H5b0vAqBBF",
        "colab_type": "code",
        "colab": {
          "base_uri": "https://localhost:8080/",
          "height": 34
        },
        "outputId": "b059d7b1-84cf-41e2-b677-828c7f4594b3"
      },
      "source": [
        "df.shape"
      ],
      "execution_count": 24,
      "outputs": [
        {
          "output_type": "execute_result",
          "data": {
            "text/plain": [
              "(8124, 11)"
            ]
          },
          "metadata": {
            "tags": []
          },
          "execution_count": 24
        }
      ]
    },
    {
      "cell_type": "code",
      "metadata": {
        "id": "BLKlwhndpQo2",
        "colab_type": "code",
        "colab": {}
      },
      "source": [
        "# creating new column with average rents for listings where there is a rent range, and the rent amount for listings with just one rent amount\n",
        "avg_rent = []\n",
        "for x in df['Rent']:\n",
        "  if '-' in x:\n",
        "    avg = round((int(x.split('-')[0]) + int(x.split('-')[-1])) / 2)  #rounding up since rent prices generally don't include decimals\n",
        "    avg_rent.append(avg)\n",
        "  else:\n",
        "    avg_rent.append(x)\n",
        "\n",
        "df['Avg_Rent'] = pd.to_numeric(avg_rent)"
      ],
      "execution_count": 25,
      "outputs": []
    },
    {
      "cell_type": "code",
      "metadata": {
        "id": "vI6MHvmn9FA6",
        "colab_type": "code",
        "colab": {
          "base_uri": "https://localhost:8080/",
          "height": 343
        },
        "outputId": "452e8a27-54b6-46a1-d6a1-2d24e80a374b"
      },
      "source": [
        "#making sure this worked\n",
        "df.loc[df['Rent'].str.contains('-'), ['Rent','Avg_Rent']].head(10)"
      ],
      "execution_count": 26,
      "outputs": [
        {
          "output_type": "execute_result",
          "data": {
            "text/html": [
              "<div>\n",
              "<style scoped>\n",
              "    .dataframe tbody tr th:only-of-type {\n",
              "        vertical-align: middle;\n",
              "    }\n",
              "\n",
              "    .dataframe tbody tr th {\n",
              "        vertical-align: top;\n",
              "    }\n",
              "\n",
              "    .dataframe thead th {\n",
              "        text-align: right;\n",
              "    }\n",
              "</style>\n",
              "<table border=\"1\" class=\"dataframe\">\n",
              "  <thead>\n",
              "    <tr style=\"text-align: right;\">\n",
              "      <th></th>\n",
              "      <th>Rent</th>\n",
              "      <th>Avg_Rent</th>\n",
              "    </tr>\n",
              "  </thead>\n",
              "  <tbody>\n",
              "    <tr>\n",
              "      <th>0</th>\n",
              "      <td>2875 - 2995</td>\n",
              "      <td>2935</td>\n",
              "    </tr>\n",
              "    <tr>\n",
              "      <th>65</th>\n",
              "      <td>3230 - 3245</td>\n",
              "      <td>3238</td>\n",
              "    </tr>\n",
              "    <tr>\n",
              "      <th>68</th>\n",
              "      <td>3495 - 3520</td>\n",
              "      <td>3508</td>\n",
              "    </tr>\n",
              "    <tr>\n",
              "      <th>83</th>\n",
              "      <td>2555 - 2783</td>\n",
              "      <td>2669</td>\n",
              "    </tr>\n",
              "    <tr>\n",
              "      <th>88</th>\n",
              "      <td>2577 - 2827</td>\n",
              "      <td>2702</td>\n",
              "    </tr>\n",
              "    <tr>\n",
              "      <th>90</th>\n",
              "      <td>2631 - 3107</td>\n",
              "      <td>2869</td>\n",
              "    </tr>\n",
              "    <tr>\n",
              "      <th>99</th>\n",
              "      <td>2755 - 3217</td>\n",
              "      <td>2986</td>\n",
              "    </tr>\n",
              "    <tr>\n",
              "      <th>107</th>\n",
              "      <td>2884 - 3053</td>\n",
              "      <td>2968</td>\n",
              "    </tr>\n",
              "    <tr>\n",
              "      <th>108</th>\n",
              "      <td>2884 - 2938</td>\n",
              "      <td>2911</td>\n",
              "    </tr>\n",
              "    <tr>\n",
              "      <th>109</th>\n",
              "      <td>2894 - 2948</td>\n",
              "      <td>2921</td>\n",
              "    </tr>\n",
              "  </tbody>\n",
              "</table>\n",
              "</div>"
            ],
            "text/plain": [
              "            Rent  Avg_Rent\n",
              "0    2875 - 2995      2935\n",
              "65   3230 - 3245      3238\n",
              "68   3495 - 3520      3508\n",
              "83   2555 - 2783      2669\n",
              "88   2577 - 2827      2702\n",
              "90   2631 - 3107      2869\n",
              "99   2755 - 3217      2986\n",
              "107  2884 - 3053      2968\n",
              "108  2884 - 2938      2911\n",
              "109  2894 - 2948      2921"
            ]
          },
          "metadata": {
            "tags": []
          },
          "execution_count": 26
        }
      ]
    },
    {
      "cell_type": "markdown",
      "metadata": {
        "id": "hhZsGuQJc_nS",
        "colab_type": "text"
      },
      "source": [
        "#Cleaning Square Footage Column"
      ]
    },
    {
      "cell_type": "code",
      "metadata": {
        "id": "1Y90LDWLyGKo",
        "colab_type": "code",
        "colab": {
          "base_uri": "https://localhost:8080/",
          "height": 246
        },
        "outputId": "7b34c4a0-9d72-45fb-dcd9-aeaffc049c99"
      },
      "source": [
        "df.isna().sum()"
      ],
      "execution_count": 27,
      "outputs": [
        {
          "output_type": "execute_result",
          "data": {
            "text/plain": [
              "Title               0\n",
              "Address             0\n",
              "Bedrooms            0\n",
              "Bathrooms           0\n",
              "Rent                0\n",
              "Square Footage    192\n",
              "Availability        0\n",
              "Amenities           0\n",
              "City                0\n",
              "Zip_Code            0\n",
              "Neighborhood        0\n",
              "Avg_Rent            0\n",
              "dtype: int64"
            ]
          },
          "metadata": {
            "tags": []
          },
          "execution_count": 27
        }
      ]
    },
    {
      "cell_type": "code",
      "metadata": {
        "id": "xJLrQ3cxMkmh",
        "colab_type": "code",
        "colab": {}
      },
      "source": [
        "#removing letters, commas and extra whitespace from square footage column\n",
        "df['Square Footage'] = df['Square Footage'].str.replace('[a-zA-z]','',regex = True).str.replace(',','').str.strip()"
      ],
      "execution_count": 28,
      "outputs": []
    },
    {
      "cell_type": "code",
      "metadata": {
        "id": "JSLLrVTzyKlZ",
        "colab_type": "code",
        "colab": {}
      },
      "source": [
        "# creating new column with average square footage for listings where there is a sqft range, and the square footage for listings with just one sqft amount\n",
        "avg_sqft = []\n",
        "for x in df['Square Footage']:\n",
        "  if '-' in str(x):\n",
        "    avg = round((int(x.split('-')[0]) + int(x.split('-')[-1])) / 2)\n",
        "    avg_sqft.append(avg)\n",
        "  else:\n",
        "    avg_sqft.append(x)\n",
        "df['Avg_Sqft'] = pd.to_numeric(avg_sqft)\n"
      ],
      "execution_count": 29,
      "outputs": []
    },
    {
      "cell_type": "code",
      "metadata": {
        "id": "Ff0E-aFvMEqI",
        "colab_type": "code",
        "colab": {
          "base_uri": "https://localhost:8080/",
          "height": 343
        },
        "outputId": "ce04b42e-ad56-46c2-9aee-363ba9894a94"
      },
      "source": [
        "#making sure this worked\n",
        "df.loc[df['Square Footage'].str.contains('-', na=False), ['Square Footage','Avg_Sqft']].head(10)"
      ],
      "execution_count": 30,
      "outputs": [
        {
          "output_type": "execute_result",
          "data": {
            "text/html": [
              "<div>\n",
              "<style scoped>\n",
              "    .dataframe tbody tr th:only-of-type {\n",
              "        vertical-align: middle;\n",
              "    }\n",
              "\n",
              "    .dataframe tbody tr th {\n",
              "        vertical-align: top;\n",
              "    }\n",
              "\n",
              "    .dataframe thead th {\n",
              "        text-align: right;\n",
              "    }\n",
              "</style>\n",
              "<table border=\"1\" class=\"dataframe\">\n",
              "  <thead>\n",
              "    <tr style=\"text-align: right;\">\n",
              "      <th></th>\n",
              "      <th>Square Footage</th>\n",
              "      <th>Avg_Sqft</th>\n",
              "    </tr>\n",
              "  </thead>\n",
              "  <tbody>\n",
              "    <tr>\n",
              "      <th>164</th>\n",
              "      <td>455 - 469</td>\n",
              "      <td>462.0</td>\n",
              "    </tr>\n",
              "    <tr>\n",
              "      <th>171</th>\n",
              "      <td>530 - 601</td>\n",
              "      <td>566.0</td>\n",
              "    </tr>\n",
              "    <tr>\n",
              "      <th>177</th>\n",
              "      <td>676 - 721</td>\n",
              "      <td>698.0</td>\n",
              "    </tr>\n",
              "    <tr>\n",
              "      <th>201</th>\n",
              "      <td>526 - 570</td>\n",
              "      <td>548.0</td>\n",
              "    </tr>\n",
              "    <tr>\n",
              "      <th>202</th>\n",
              "      <td>526 - 570</td>\n",
              "      <td>548.0</td>\n",
              "    </tr>\n",
              "    <tr>\n",
              "      <th>203</th>\n",
              "      <td>526 - 570</td>\n",
              "      <td>548.0</td>\n",
              "    </tr>\n",
              "    <tr>\n",
              "      <th>204</th>\n",
              "      <td>610 - 721</td>\n",
              "      <td>666.0</td>\n",
              "    </tr>\n",
              "    <tr>\n",
              "      <th>205</th>\n",
              "      <td>610 - 721</td>\n",
              "      <td>666.0</td>\n",
              "    </tr>\n",
              "    <tr>\n",
              "      <th>206</th>\n",
              "      <td>526 - 572</td>\n",
              "      <td>549.0</td>\n",
              "    </tr>\n",
              "    <tr>\n",
              "      <th>207</th>\n",
              "      <td>526 - 572</td>\n",
              "      <td>549.0</td>\n",
              "    </tr>\n",
              "  </tbody>\n",
              "</table>\n",
              "</div>"
            ],
            "text/plain": [
              "    Square Footage  Avg_Sqft\n",
              "164      455 - 469     462.0\n",
              "171      530 - 601     566.0\n",
              "177      676 - 721     698.0\n",
              "201      526 - 570     548.0\n",
              "202      526 - 570     548.0\n",
              "203      526 - 570     548.0\n",
              "204      610 - 721     666.0\n",
              "205      610 - 721     666.0\n",
              "206      526 - 572     549.0\n",
              "207      526 - 572     549.0"
            ]
          },
          "metadata": {
            "tags": []
          },
          "execution_count": 30
        }
      ]
    },
    {
      "cell_type": "code",
      "metadata": {
        "id": "UxbWT2z5kbQB",
        "colab_type": "code",
        "colab": {
          "base_uri": "https://localhost:8080/",
          "height": 158
        },
        "outputId": "b78823cb-3a00-4f2d-d389-05783fa6c991"
      },
      "source": [
        "#getting a sense of how many missing square footage values there are for each bedroom size\n",
        "df.loc[df['Avg_Sqft'].isna()]['Bedrooms'].value_counts()"
      ],
      "execution_count": 31,
      "outputs": [
        {
          "output_type": "execute_result",
          "data": {
            "text/plain": [
              "1    59\n",
              "2    50\n",
              "0    40\n",
              "3    31\n",
              "4    10\n",
              "7     1\n",
              "6     1\n",
              "Name: Bedrooms, dtype: int64"
            ]
          },
          "metadata": {
            "tags": []
          },
          "execution_count": 31
        }
      ]
    },
    {
      "cell_type": "code",
      "metadata": {
        "id": "o-mXEdq_jwzY",
        "colab_type": "code",
        "colab": {
          "base_uri": "https://localhost:8080/",
          "height": 373
        },
        "outputId": "606c98c5-d54c-4f73-f0b0-3d683e0eb4bb"
      },
      "source": [
        "#getting average square footage by bedroom size\n",
        "averages = round(df.groupby('Bedrooms', as_index = False)['Avg_Sqft'].mean())\n",
        "averages"
      ],
      "execution_count": 32,
      "outputs": [
        {
          "output_type": "execute_result",
          "data": {
            "text/html": [
              "<div>\n",
              "<style scoped>\n",
              "    .dataframe tbody tr th:only-of-type {\n",
              "        vertical-align: middle;\n",
              "    }\n",
              "\n",
              "    .dataframe tbody tr th {\n",
              "        vertical-align: top;\n",
              "    }\n",
              "\n",
              "    .dataframe thead th {\n",
              "        text-align: right;\n",
              "    }\n",
              "</style>\n",
              "<table border=\"1\" class=\"dataframe\">\n",
              "  <thead>\n",
              "    <tr style=\"text-align: right;\">\n",
              "      <th></th>\n",
              "      <th>Bedrooms</th>\n",
              "      <th>Avg_Sqft</th>\n",
              "    </tr>\n",
              "  </thead>\n",
              "  <tbody>\n",
              "    <tr>\n",
              "      <th>0</th>\n",
              "      <td>0</td>\n",
              "      <td>496.0</td>\n",
              "    </tr>\n",
              "    <tr>\n",
              "      <th>1</th>\n",
              "      <td>1</td>\n",
              "      <td>718.0</td>\n",
              "    </tr>\n",
              "    <tr>\n",
              "      <th>2</th>\n",
              "      <td>2</td>\n",
              "      <td>1114.0</td>\n",
              "    </tr>\n",
              "    <tr>\n",
              "      <th>3</th>\n",
              "      <td>3</td>\n",
              "      <td>1518.0</td>\n",
              "    </tr>\n",
              "    <tr>\n",
              "      <th>4</th>\n",
              "      <td>4</td>\n",
              "      <td>1899.0</td>\n",
              "    </tr>\n",
              "    <tr>\n",
              "      <th>5</th>\n",
              "      <td>5</td>\n",
              "      <td>2318.0</td>\n",
              "    </tr>\n",
              "    <tr>\n",
              "      <th>6</th>\n",
              "      <td>6</td>\n",
              "      <td>1430.0</td>\n",
              "    </tr>\n",
              "    <tr>\n",
              "      <th>7</th>\n",
              "      <td>7</td>\n",
              "      <td>NaN</td>\n",
              "    </tr>\n",
              "    <tr>\n",
              "      <th>8</th>\n",
              "      <td>8</td>\n",
              "      <td>3300.0</td>\n",
              "    </tr>\n",
              "    <tr>\n",
              "      <th>9</th>\n",
              "      <td>12</td>\n",
              "      <td>2200.0</td>\n",
              "    </tr>\n",
              "    <tr>\n",
              "      <th>10</th>\n",
              "      <td>13</td>\n",
              "      <td>6272.0</td>\n",
              "    </tr>\n",
              "  </tbody>\n",
              "</table>\n",
              "</div>"
            ],
            "text/plain": [
              "    Bedrooms  Avg_Sqft\n",
              "0          0     496.0\n",
              "1          1     718.0\n",
              "2          2    1114.0\n",
              "3          3    1518.0\n",
              "4          4    1899.0\n",
              "5          5    2318.0\n",
              "6          6    1430.0\n",
              "7          7       NaN\n",
              "8          8    3300.0\n",
              "9         12    2200.0\n",
              "10        13    6272.0"
            ]
          },
          "metadata": {
            "tags": []
          },
          "execution_count": 32
        }
      ]
    },
    {
      "cell_type": "code",
      "metadata": {
        "id": "23SBkhd3l1aK",
        "colab_type": "code",
        "colab": {}
      },
      "source": [
        "#replacing null values in Avg_Sqft column with average square footage for the same bedroom size\n",
        "for i in range (0,7):\n",
        "  df.loc[(df['Avg_Sqft'].isna()) & (df['Bedrooms'] == i),'Avg_Sqft'] = averages['Avg_Sqft'][i]"
      ],
      "execution_count": 33,
      "outputs": []
    },
    {
      "cell_type": "code",
      "metadata": {
        "id": "X8NSxMTwpk1G",
        "colab_type": "code",
        "colab": {}
      },
      "source": [
        "# dropping rows where bedroom size is 7 or higher, these are outliers anyway and it will address the missing square footage value for the one 7 bedroom home/apartment that we have\n",
        "df.drop(df.loc[df['Bedrooms'] >= 7].index, axis = 0, inplace = True)"
      ],
      "execution_count": 34,
      "outputs": []
    },
    {
      "cell_type": "code",
      "metadata": {
        "id": "8rPWpbl9-ohX",
        "colab_type": "code",
        "colab": {
          "base_uri": "https://localhost:8080/",
          "height": 34
        },
        "outputId": "4abc7a42-f433-48b1-ea1c-e6037346c24f"
      },
      "source": [
        "#verifying that null values were successfully replaced\n",
        "df.Avg_Sqft.isna().sum()"
      ],
      "execution_count": 35,
      "outputs": [
        {
          "output_type": "execute_result",
          "data": {
            "text/plain": [
              "0"
            ]
          },
          "metadata": {
            "tags": []
          },
          "execution_count": 35
        }
      ]
    },
    {
      "cell_type": "markdown",
      "metadata": {
        "id": "QuyX3zhAP52J",
        "colab_type": "text"
      },
      "source": [
        "# NLP Model for Amenities Column\n",
        "Trying to see if training an NLP model using the bag of words approach will help gain insight on useful features to extract from the Amenities column."
      ]
    },
    {
      "cell_type": "code",
      "metadata": {
        "id": "rlPVlX3rP-yj",
        "colab_type": "code",
        "colab": {
          "base_uri": "https://localhost:8080/",
          "height": 195
        },
        "outputId": "de9b4ded-4178-487e-ebb3-a00376d0962c"
      },
      "source": [
        "from matplotlib import pyplot as plt\n",
        "import seaborn as sns\n",
        "from sklearn.feature_extraction.text import CountVectorizer\n",
        "from sklearn.metrics import confusion_matrix\n",
        "from sklearn import metrics\n",
        "from sklearn.model_selection import train_test_split\n",
        "from sklearn.metrics import mean_squared_error \n",
        "from sklearn.metrics import r2_score\n",
        "from sklearn.ensemble import RandomForestRegressor\n",
        "from nltk.stem.porter import PorterStemmer\n",
        "from nltk import word_tokenize, WordNetLemmatizer\n",
        "from nltk.corpus import stopwords\n",
        "import nltk\n",
        "nltk.download('stopwords')\n",
        "nltk.download('wordnet')\n",
        "nltk.download('punkt')"
      ],
      "execution_count": 36,
      "outputs": [
        {
          "output_type": "stream",
          "text": [
            "/usr/local/lib/python3.6/dist-packages/statsmodels/tools/_testing.py:19: FutureWarning: pandas.util.testing is deprecated. Use the functions in the public API at pandas.testing instead.\n",
            "  import pandas.util.testing as tm\n"
          ],
          "name": "stderr"
        },
        {
          "output_type": "stream",
          "text": [
            "[nltk_data] Downloading package stopwords to /root/nltk_data...\n",
            "[nltk_data]   Unzipping corpora/stopwords.zip.\n",
            "[nltk_data] Downloading package wordnet to /root/nltk_data...\n",
            "[nltk_data]   Unzipping corpora/wordnet.zip.\n",
            "[nltk_data] Downloading package punkt to /root/nltk_data...\n",
            "[nltk_data]   Unzipping tokenizers/punkt.zip.\n"
          ],
          "name": "stdout"
        },
        {
          "output_type": "execute_result",
          "data": {
            "text/plain": [
              "True"
            ]
          },
          "metadata": {
            "tags": []
          },
          "execution_count": 36
        }
      ]
    },
    {
      "cell_type": "code",
      "metadata": {
        "id": "_dZLdp6kQAZE",
        "colab_type": "code",
        "colab": {
          "base_uri": "https://localhost:8080/",
          "height": 279
        },
        "outputId": "ce64d848-c999-406e-f067-fe641d9d8deb"
      },
      "source": [
        "#plotting length of amenities descriptions\n",
        "length = df['Amenities'].str.len()\n",
        "sns.distplot(length)\n",
        "plt.show()"
      ],
      "execution_count": 37,
      "outputs": [
        {
          "output_type": "display_data",
          "data": {
            "image/png": "[encoded data removed]",
            "text/plain": [
              "<Figure size 432x288 with 1 Axes>"
            ]
          },
          "metadata": {
            "tags": [],
            "needs_background": "light"
          }
        }
      ]
    },
    {
      "cell_type": "code",
      "metadata": {
        "id": "TFifISpWQJcD",
        "colab_type": "code",
        "colab": {}
      },
      "source": [
        "#getting set of English stopwords\n",
        "stopword_set = set(stopwords.words('english'))\n",
        "\n",
        "#NLP processing\n",
        "lemma = WordNetLemmatizer()"
      ],
      "execution_count": 38,
      "outputs": []
    },
    {
      "cell_type": "code",
      "metadata": {
        "id": "8WzdtDk0QT3J",
        "colab_type": "code",
        "colab": {
          "base_uri": "https://localhost:8080/",
          "height": 213
        },
        "outputId": "1315879d-817a-4632-a37e-837184670ed2"
      },
      "source": [
        "#clean the raw text\n",
        "amenities_text = []\n",
        "for amenity in df['Amenities']:\n",
        "  text = re.sub('[^a-zA-z]',\" \", str(amenity))\n",
        "  text = text.lower()\n",
        "  text = word_tokenize(text, language = 'english')\n",
        "  text = [lemma.lemmatize(word) for word in text if(word) not in stopword_set]\n",
        "  text = ' '.join(text)\n",
        "  amenities_text.append(text)\n",
        "\n",
        "amenities_text[:10]"
      ],
      "execution_count": 39,
      "outputs": [
        {
          "output_type": "execute_result",
          "data": {
            "text/plain": [
              "['smoke free community air conditioning bicycle storage brand new luxury living controlled access courtyard firepit dog washing station elevator fiber internet gourmet kitchen home full size washer dryer individual climate control minute great shopping amp dining motorized parking lift motorized parking lift noise reducing dual pane window noise reducing insulated dual pane window package locker pet allowed pet welcome weight restriction plank flooring quartz countertop quartz counter top tile backsplash rooftop terrace barbecue rooftop terrace downtown view secure bike parking stainless steel appliance sweeping view oakland hill sweeping view san francisco view sf oakland deposit monthly pet rent lb weight limit pet limit built unit story month month month month month month month month month month month month month month month month maintenance site online service pet care pet washing station public transportation elevator multi use room roof terrace sundeck courtyard grill patio grill bike storage individual locking bedroom private bathroom study lounge high speed internet access wi fi washer dryer unit air conditioning heating cable ready tub shower dishwasher disposal ice maker granite countertop stainless steel appliance eat kitchen kitchen microwave oven range refrigerator freezer hardwood floor vinyl flooring dining room view linen closet double pane window window covering package service property manager site',\n",
              " 'smoke free community air conditioning bicycle storage brand new luxury living controlled access courtyard firepit dog washing station elevator fiber internet gourmet kitchen home full size washer dryer individual climate control minute great shopping amp dining motorized parking lift motorized parking lift noise reducing dual pane window noise reducing insulated dual pane window package locker pet allowed pet welcome weight restriction plank flooring quartz countertop quartz counter top tile backsplash rooftop terrace barbecue rooftop terrace downtown view secure bike parking stainless steel appliance sweeping view oakland hill sweeping view san francisco view sf oakland deposit monthly pet rent lb weight limit pet limit built unit story month month month month month month month month month month month month month month month month maintenance site online service pet care pet washing station public transportation elevator multi use room roof terrace sundeck courtyard grill patio grill bike storage individual locking bedroom private bathroom study lounge high speed internet access wi fi washer dryer unit air conditioning heating cable ready tub shower dishwasher disposal ice maker granite countertop stainless steel appliance eat kitchen kitchen microwave oven range refrigerator freezer hardwood floor vinyl flooring dining room view linen closet double pane window window covering package service property manager site',\n",
              " 'smoke free community air conditioning bicycle storage brand new luxury living controlled access courtyard firepit dog washing station elevator fiber internet gourmet kitchen home full size washer dryer individual climate control minute great shopping amp dining motorized parking lift motorized parking lift noise reducing dual pane window noise reducing insulated dual pane window package locker pet allowed pet welcome weight restriction plank flooring quartz countertop quartz counter top tile backsplash rooftop terrace barbecue rooftop terrace downtown view secure bike parking stainless steel appliance sweeping view oakland hill sweeping view san francisco view sf oakland deposit monthly pet rent lb weight limit pet limit built unit story month month month month month month month month month month month month month month month month maintenance site online service pet care pet washing station public transportation elevator multi use room roof terrace sundeck courtyard grill patio grill bike storage individual locking bedroom private bathroom study lounge high speed internet access wi fi washer dryer unit air conditioning heating cable ready tub shower dishwasher disposal ice maker granite countertop stainless steel appliance eat kitchen kitchen microwave oven range refrigerator freezer hardwood floor vinyl flooring dining room view linen closet double pane window window covering package service property manager site',\n",
              " 'smoke free community air conditioning bicycle storage brand new luxury living controlled access courtyard firepit dog washing station elevator fiber internet gourmet kitchen home full size washer dryer individual climate control minute great shopping amp dining motorized parking lift motorized parking lift noise reducing dual pane window noise reducing insulated dual pane window package locker pet allowed pet welcome weight restriction plank flooring quartz countertop quartz counter top tile backsplash rooftop terrace barbecue rooftop terrace downtown view secure bike parking stainless steel appliance sweeping view oakland hill sweeping view san francisco view sf oakland deposit monthly pet rent lb weight limit pet limit built unit story month month month month month month month month month month month month month month month month maintenance site online service pet care pet washing station public transportation elevator multi use room roof terrace sundeck courtyard grill patio grill bike storage individual locking bedroom private bathroom study lounge high speed internet access wi fi washer dryer unit air conditioning heating cable ready tub shower dishwasher disposal ice maker granite countertop stainless steel appliance eat kitchen kitchen microwave oven range refrigerator freezer hardwood floor vinyl flooring dining room view linen closet double pane window window covering package service property manager site',\n",
              " 'smoke free community air conditioning bicycle storage brand new luxury living controlled access courtyard firepit dog washing station elevator fiber internet gourmet kitchen home full size washer dryer individual climate control minute great shopping amp dining motorized parking lift motorized parking lift noise reducing dual pane window noise reducing insulated dual pane window package locker pet allowed pet welcome weight restriction plank flooring quartz countertop quartz counter top tile backsplash rooftop terrace barbecue rooftop terrace downtown view secure bike parking stainless steel appliance sweeping view oakland hill sweeping view san francisco view sf oakland deposit monthly pet rent lb weight limit pet limit built unit story month month month month month month month month month month month month month month month month maintenance site online service pet care pet washing station public transportation elevator multi use room roof terrace sundeck courtyard grill patio grill bike storage individual locking bedroom private bathroom study lounge high speed internet access wi fi washer dryer unit air conditioning heating cable ready tub shower dishwasher disposal ice maker granite countertop stainless steel appliance eat kitchen kitchen microwave oven range refrigerator freezer hardwood floor vinyl flooring dining room view linen closet double pane window window covering package service property manager site',\n",
              " 'smoke free community air conditioning bicycle storage brand new luxury living controlled access courtyard firepit dog washing station elevator fiber internet gourmet kitchen home full size washer dryer individual climate control minute great shopping amp dining motorized parking lift motorized parking lift noise reducing dual pane window noise reducing insulated dual pane window package locker pet allowed pet welcome weight restriction plank flooring quartz countertop quartz counter top tile backsplash rooftop terrace barbecue rooftop terrace downtown view secure bike parking stainless steel appliance sweeping view oakland hill sweeping view san francisco view sf oakland deposit monthly pet rent lb weight limit pet limit built unit story month month month month month month month month month month month month month month month month maintenance site online service pet care pet washing station public transportation elevator multi use room roof terrace sundeck courtyard grill patio grill bike storage individual locking bedroom private bathroom study lounge high speed internet access wi fi washer dryer unit air conditioning heating cable ready tub shower dishwasher disposal ice maker granite countertop stainless steel appliance eat kitchen kitchen microwave oven range refrigerator freezer hardwood floor vinyl flooring dining room view linen closet double pane window window covering package service property manager site',\n",
              " 'smoke free community air conditioning bicycle storage brand new luxury living controlled access courtyard firepit dog washing station elevator fiber internet gourmet kitchen home full size washer dryer individual climate control minute great shopping amp dining motorized parking lift motorized parking lift noise reducing dual pane window noise reducing insulated dual pane window package locker pet allowed pet welcome weight restriction plank flooring quartz countertop quartz counter top tile backsplash rooftop terrace barbecue rooftop terrace downtown view secure bike parking stainless steel appliance sweeping view oakland hill sweeping view san francisco view sf oakland deposit monthly pet rent lb weight limit pet limit built unit story month month month month month month month month month month month month month month month month maintenance site online service pet care pet washing station public transportation elevator multi use room roof terrace sundeck courtyard grill patio grill bike storage individual locking bedroom private bathroom study lounge high speed internet access wi fi washer dryer unit air conditioning heating cable ready tub shower dishwasher disposal ice maker granite countertop stainless steel appliance eat kitchen kitchen microwave oven range refrigerator freezer hardwood floor vinyl flooring dining room view linen closet double pane window window covering package service property manager site',\n",
              " 'smoke free community air conditioning bicycle storage brand new luxury living controlled access courtyard firepit dog washing station elevator fiber internet gourmet kitchen home full size washer dryer individual climate control minute great shopping amp dining motorized parking lift motorized parking lift noise reducing dual pane window noise reducing insulated dual pane window package locker pet allowed pet welcome weight restriction plank flooring quartz countertop quartz counter top tile backsplash rooftop terrace barbecue rooftop terrace downtown view secure bike parking stainless steel appliance sweeping view oakland hill sweeping view san francisco view sf oakland deposit monthly pet rent lb weight limit pet limit built unit story month month month month month month month month month month month month month month month month maintenance site online service pet care pet washing station public transportation elevator multi use room roof terrace sundeck courtyard grill patio grill bike storage individual locking bedroom private bathroom study lounge high speed internet access wi fi washer dryer unit air conditioning heating cable ready tub shower dishwasher disposal ice maker granite countertop stainless steel appliance eat kitchen kitchen microwave oven range refrigerator freezer hardwood floor vinyl flooring dining room view linen closet double pane window window covering package service property manager site',\n",
              " 'smoke free community air conditioning bicycle storage brand new luxury living controlled access courtyard firepit dog washing station elevator fiber internet gourmet kitchen home full size washer dryer individual climate control minute great shopping amp dining motorized parking lift motorized parking lift noise reducing dual pane window noise reducing insulated dual pane window package locker pet allowed pet welcome weight restriction plank flooring quartz countertop quartz counter top tile backsplash rooftop terrace barbecue rooftop terrace downtown view secure bike parking stainless steel appliance sweeping view oakland hill sweeping view san francisco view sf oakland deposit monthly pet rent lb weight limit pet limit built unit story month month month month month month month month month month month month month month month month maintenance site online service pet care pet washing station public transportation elevator multi use room roof terrace sundeck courtyard grill patio grill bike storage individual locking bedroom private bathroom study lounge high speed internet access wi fi washer dryer unit air conditioning heating cable ready tub shower dishwasher disposal ice maker granite countertop stainless steel appliance eat kitchen kitchen microwave oven range refrigerator freezer hardwood floor vinyl flooring dining room view linen closet double pane window window covering package service property manager site',\n",
              " 'smoke free community air conditioning bicycle storage brand new luxury living controlled access courtyard firepit dog washing station elevator fiber internet gourmet kitchen home full size washer dryer individual climate control minute great shopping amp dining motorized parking lift motorized parking lift noise reducing dual pane window noise reducing insulated dual pane window package locker pet allowed pet welcome weight restriction plank flooring quartz countertop quartz counter top tile backsplash rooftop terrace barbecue rooftop terrace downtown view secure bike parking stainless steel appliance sweeping view oakland hill sweeping view san francisco view sf oakland deposit monthly pet rent lb weight limit pet limit built unit story month month month month month month month month month month month month month month month month maintenance site online service pet care pet washing station public transportation elevator multi use room roof terrace sundeck courtyard grill patio grill bike storage individual locking bedroom private bathroom study lounge high speed internet access wi fi washer dryer unit air conditioning heating cable ready tub shower dishwasher disposal ice maker granite countertop stainless steel appliance eat kitchen kitchen microwave oven range refrigerator freezer hardwood floor vinyl flooring dining room view linen closet double pane window window covering package service property manager site']"
            ]
          },
          "metadata": {
            "tags": []
          },
          "execution_count": 39
        }
      ]
    },
    {
      "cell_type": "code",
      "metadata": {
        "id": "3g0wkbnhQpHx",
        "colab_type": "code",
        "colab": {
          "base_uri": "https://localhost:8080/",
          "height": 244
        },
        "outputId": "9244b3be-b645-4617-b2ae-fed244beeb44"
      },
      "source": [
        "#create the bag of words model\n",
        "cv = CountVectorizer(max_features = 1500)\n",
        "amenities = cv.fit_transform(amenities_text).toarray()\n",
        "\n",
        "#covert amenities to dataframe\n",
        "amenities = pd.DataFrame(amenities, columns = cv.get_feature_names())\n",
        "amenities.head()"
      ],
      "execution_count": 40,
      "outputs": [
        {
          "output_type": "execute_result",
          "data": {
            "text/html": [
              "<div>\n",
              "<style scoped>\n",
              "    .dataframe tbody tr th:only-of-type {\n",
              "        vertical-align: middle;\n",
              "    }\n",
              "\n",
              "    .dataframe tbody tr th {\n",
              "        vertical-align: top;\n",
              "    }\n",
              "\n",
              "    .dataframe thead th {\n",
              "        text-align: right;\n",
              "    }\n",
              "</style>\n",
              "<table border=\"1\" class=\"dataframe\">\n",
              "  <thead>\n",
              "    <tr style=\"text-align: right;\">\n",
              "      <th></th>\n",
              "      <th>abundant</th>\n",
              "      <th>ac</th>\n",
              "      <th>academic</th>\n",
              "      <th>accent</th>\n",
              "      <th>acceptance</th>\n",
              "      <th>accepted</th>\n",
              "      <th>accepts</th>\n",
              "      <th>access</th>\n",
              "      <th>accessible</th>\n",
              "      <th>accommodate</th>\n",
              "      <th>acre</th>\n",
              "      <th>across</th>\n",
              "      <th>activity</th>\n",
              "      <th>ada</th>\n",
              "      <th>additional</th>\n",
              "      <th>adjacent</th>\n",
              "      <th>adjustable</th>\n",
              "      <th>advantage</th>\n",
              "      <th>aerobic</th>\n",
              "      <th>aerobics</th>\n",
              "      <th>air</th>\n",
              "      <th>airport</th>\n",
              "      <th>airy</th>\n",
              "      <th>alameda</th>\n",
              "      <th>alarm</th>\n",
              "      <th>alcove</th>\n",
              "      <th>alexa</th>\n",
              "      <th>alfred</th>\n",
              "      <th>alfresco</th>\n",
              "      <th>allowed</th>\n",
              "      <th>alone</th>\n",
              "      <th>amazing</th>\n",
              "      <th>amazon</th>\n",
              "      <th>amenity</th>\n",
              "      <th>amp</th>\n",
              "      <th>ample</th>\n",
              "      <th>amtrak</th>\n",
              "      <th>apartment</th>\n",
              "      <th>apartmentratings</th>\n",
              "      <th>app</th>\n",
              "      <th>...</th>\n",
              "      <th>westfield</th>\n",
              "      <th>wet</th>\n",
              "      <th>wheel</th>\n",
              "      <th>wheelchair</th>\n",
              "      <th>whirlpool</th>\n",
              "      <th>white</th>\n",
              "      <th>whole</th>\n",
              "      <th>wi</th>\n",
              "      <th>wide</th>\n",
              "      <th>wifi</th>\n",
              "      <th>william</th>\n",
              "      <th>willow</th>\n",
              "      <th>window</th>\n",
              "      <th>wine</th>\n",
              "      <th>winning</th>\n",
              "      <th>wired</th>\n",
              "      <th>wireless</th>\n",
              "      <th>wiring</th>\n",
              "      <th>within</th>\n",
              "      <th>wood</th>\n",
              "      <th>woodstyle</th>\n",
              "      <th>wool</th>\n",
              "      <th>work</th>\n",
              "      <th>working</th>\n",
              "      <th>workshop</th>\n",
              "      <th>workspace</th>\n",
              "      <th>workstation</th>\n",
              "      <th>worthy</th>\n",
              "      <th>woven</th>\n",
              "      <th>wright</th>\n",
              "      <th>xfinity</th>\n",
              "      <th>yard</th>\n",
              "      <th>year</th>\n",
              "      <th>yelena</th>\n",
              "      <th>yoga</th>\n",
              "      <th>zen</th>\n",
              "      <th>zip</th>\n",
              "      <th>zipcar</th>\n",
              "      <th>zipcars</th>\n",
              "      <th>zone</th>\n",
              "    </tr>\n",
              "  </thead>\n",
              "  <tbody>\n",
              "    <tr>\n",
              "      <th>0</th>\n",
              "      <td>0</td>\n",
              "      <td>0</td>\n",
              "      <td>0</td>\n",
              "      <td>0</td>\n",
              "      <td>0</td>\n",
              "      <td>0</td>\n",
              "      <td>0</td>\n",
              "      <td>2</td>\n",
              "      <td>0</td>\n",
              "      <td>0</td>\n",
              "      <td>0</td>\n",
              "      <td>0</td>\n",
              "      <td>0</td>\n",
              "      <td>0</td>\n",
              "      <td>0</td>\n",
              "      <td>0</td>\n",
              "      <td>0</td>\n",
              "      <td>0</td>\n",
              "      <td>0</td>\n",
              "      <td>0</td>\n",
              "      <td>2</td>\n",
              "      <td>0</td>\n",
              "      <td>0</td>\n",
              "      <td>0</td>\n",
              "      <td>0</td>\n",
              "      <td>0</td>\n",
              "      <td>0</td>\n",
              "      <td>0</td>\n",
              "      <td>0</td>\n",
              "      <td>1</td>\n",
              "      <td>0</td>\n",
              "      <td>0</td>\n",
              "      <td>0</td>\n",
              "      <td>0</td>\n",
              "      <td>1</td>\n",
              "      <td>0</td>\n",
              "      <td>0</td>\n",
              "      <td>0</td>\n",
              "      <td>0</td>\n",
              "      <td>0</td>\n",
              "      <td>...</td>\n",
              "      <td>0</td>\n",
              "      <td>0</td>\n",
              "      <td>0</td>\n",
              "      <td>0</td>\n",
              "      <td>0</td>\n",
              "      <td>0</td>\n",
              "      <td>0</td>\n",
              "      <td>1</td>\n",
              "      <td>0</td>\n",
              "      <td>0</td>\n",
              "      <td>0</td>\n",
              "      <td>0</td>\n",
              "      <td>4</td>\n",
              "      <td>0</td>\n",
              "      <td>0</td>\n",
              "      <td>0</td>\n",
              "      <td>0</td>\n",
              "      <td>0</td>\n",
              "      <td>0</td>\n",
              "      <td>0</td>\n",
              "      <td>0</td>\n",
              "      <td>0</td>\n",
              "      <td>0</td>\n",
              "      <td>0</td>\n",
              "      <td>0</td>\n",
              "      <td>0</td>\n",
              "      <td>0</td>\n",
              "      <td>0</td>\n",
              "      <td>0</td>\n",
              "      <td>0</td>\n",
              "      <td>0</td>\n",
              "      <td>0</td>\n",
              "      <td>0</td>\n",
              "      <td>0</td>\n",
              "      <td>0</td>\n",
              "      <td>0</td>\n",
              "      <td>0</td>\n",
              "      <td>0</td>\n",
              "      <td>0</td>\n",
              "      <td>0</td>\n",
              "    </tr>\n",
              "    <tr>\n",
              "      <th>1</th>\n",
              "      <td>0</td>\n",
              "      <td>0</td>\n",
              "      <td>0</td>\n",
              "      <td>0</td>\n",
              "      <td>0</td>\n",
              "      <td>0</td>\n",
              "      <td>0</td>\n",
              "      <td>2</td>\n",
              "      <td>0</td>\n",
              "      <td>0</td>\n",
              "      <td>0</td>\n",
              "      <td>0</td>\n",
              "      <td>0</td>\n",
              "      <td>0</td>\n",
              "      <td>0</td>\n",
              "      <td>0</td>\n",
              "      <td>0</td>\n",
              "      <td>0</td>\n",
              "      <td>0</td>\n",
              "      <td>0</td>\n",
              "      <td>2</td>\n",
              "      <td>0</td>\n",
              "      <td>0</td>\n",
              "      <td>0</td>\n",
              "      <td>0</td>\n",
              "      <td>0</td>\n",
              "      <td>0</td>\n",
              "      <td>0</td>\n",
              "      <td>0</td>\n",
              "      <td>1</td>\n",
              "      <td>0</td>\n",
              "      <td>0</td>\n",
              "      <td>0</td>\n",
              "      <td>0</td>\n",
              "      <td>1</td>\n",
              "      <td>0</td>\n",
              "      <td>0</td>\n",
              "      <td>0</td>\n",
              "      <td>0</td>\n",
              "      <td>0</td>\n",
              "      <td>...</td>\n",
              "      <td>0</td>\n",
              "      <td>0</td>\n",
              "      <td>0</td>\n",
              "      <td>0</td>\n",
              "      <td>0</td>\n",
              "      <td>0</td>\n",
              "      <td>0</td>\n",
              "      <td>1</td>\n",
              "      <td>0</td>\n",
              "      <td>0</td>\n",
              "      <td>0</td>\n",
              "      <td>0</td>\n",
              "      <td>4</td>\n",
              "      <td>0</td>\n",
              "      <td>0</td>\n",
              "      <td>0</td>\n",
              "      <td>0</td>\n",
              "      <td>0</td>\n",
              "      <td>0</td>\n",
              "      <td>0</td>\n",
              "      <td>0</td>\n",
              "      <td>0</td>\n",
              "      <td>0</td>\n",
              "      <td>0</td>\n",
              "      <td>0</td>\n",
              "      <td>0</td>\n",
              "      <td>0</td>\n",
              "      <td>0</td>\n",
              "      <td>0</td>\n",
              "      <td>0</td>\n",
              "      <td>0</td>\n",
              "      <td>0</td>\n",
              "      <td>0</td>\n",
              "      <td>0</td>\n",
              "      <td>0</td>\n",
              "      <td>0</td>\n",
              "      <td>0</td>\n",
              "      <td>0</td>\n",
              "      <td>0</td>\n",
              "      <td>0</td>\n",
              "    </tr>\n",
              "    <tr>\n",
              "      <th>2</th>\n",
              "      <td>0</td>\n",
              "      <td>0</td>\n",
              "      <td>0</td>\n",
              "      <td>0</td>\n",
              "      <td>0</td>\n",
              "      <td>0</td>\n",
              "      <td>0</td>\n",
              "      <td>2</td>\n",
              "      <td>0</td>\n",
              "      <td>0</td>\n",
              "      <td>0</td>\n",
              "      <td>0</td>\n",
              "      <td>0</td>\n",
              "      <td>0</td>\n",
              "      <td>0</td>\n",
              "      <td>0</td>\n",
              "      <td>0</td>\n",
              "      <td>0</td>\n",
              "      <td>0</td>\n",
              "      <td>0</td>\n",
              "      <td>2</td>\n",
              "      <td>0</td>\n",
              "      <td>0</td>\n",
              "      <td>0</td>\n",
              "      <td>0</td>\n",
              "      <td>0</td>\n",
              "      <td>0</td>\n",
              "      <td>0</td>\n",
              "      <td>0</td>\n",
              "      <td>1</td>\n",
              "      <td>0</td>\n",
              "      <td>0</td>\n",
              "      <td>0</td>\n",
              "      <td>0</td>\n",
              "      <td>1</td>\n",
              "      <td>0</td>\n",
              "      <td>0</td>\n",
              "      <td>0</td>\n",
              "      <td>0</td>\n",
              "      <td>0</td>\n",
              "      <td>...</td>\n",
              "      <td>0</td>\n",
              "      <td>0</td>\n",
              "      <td>0</td>\n",
              "      <td>0</td>\n",
              "      <td>0</td>\n",
              "      <td>0</td>\n",
              "      <td>0</td>\n",
              "      <td>1</td>\n",
              "      <td>0</td>\n",
              "      <td>0</td>\n",
              "      <td>0</td>\n",
              "      <td>0</td>\n",
              "      <td>4</td>\n",
              "      <td>0</td>\n",
              "      <td>0</td>\n",
              "      <td>0</td>\n",
              "      <td>0</td>\n",
              "      <td>0</td>\n",
              "      <td>0</td>\n",
              "      <td>0</td>\n",
              "      <td>0</td>\n",
              "      <td>0</td>\n",
              "      <td>0</td>\n",
              "      <td>0</td>\n",
              "      <td>0</td>\n",
              "      <td>0</td>\n",
              "      <td>0</td>\n",
              "      <td>0</td>\n",
              "      <td>0</td>\n",
              "      <td>0</td>\n",
              "      <td>0</td>\n",
              "      <td>0</td>\n",
              "      <td>0</td>\n",
              "      <td>0</td>\n",
              "      <td>0</td>\n",
              "      <td>0</td>\n",
              "      <td>0</td>\n",
              "      <td>0</td>\n",
              "      <td>0</td>\n",
              "      <td>0</td>\n",
              "    </tr>\n",
              "    <tr>\n",
              "      <th>3</th>\n",
              "      <td>0</td>\n",
              "      <td>0</td>\n",
              "      <td>0</td>\n",
              "      <td>0</td>\n",
              "      <td>0</td>\n",
              "      <td>0</td>\n",
              "      <td>0</td>\n",
              "      <td>2</td>\n",
              "      <td>0</td>\n",
              "      <td>0</td>\n",
              "      <td>0</td>\n",
              "      <td>0</td>\n",
              "      <td>0</td>\n",
              "      <td>0</td>\n",
              "      <td>0</td>\n",
              "      <td>0</td>\n",
              "      <td>0</td>\n",
              "      <td>0</td>\n",
              "      <td>0</td>\n",
              "      <td>0</td>\n",
              "      <td>2</td>\n",
              "      <td>0</td>\n",
              "      <td>0</td>\n",
              "      <td>0</td>\n",
              "      <td>0</td>\n",
              "      <td>0</td>\n",
              "      <td>0</td>\n",
              "      <td>0</td>\n",
              "      <td>0</td>\n",
              "      <td>1</td>\n",
              "      <td>0</td>\n",
              "      <td>0</td>\n",
              "      <td>0</td>\n",
              "      <td>0</td>\n",
              "      <td>1</td>\n",
              "      <td>0</td>\n",
              "      <td>0</td>\n",
              "      <td>0</td>\n",
              "      <td>0</td>\n",
              "      <td>0</td>\n",
              "      <td>...</td>\n",
              "      <td>0</td>\n",
              "      <td>0</td>\n",
              "      <td>0</td>\n",
              "      <td>0</td>\n",
              "      <td>0</td>\n",
              "      <td>0</td>\n",
              "      <td>0</td>\n",
              "      <td>1</td>\n",
              "      <td>0</td>\n",
              "      <td>0</td>\n",
              "      <td>0</td>\n",
              "      <td>0</td>\n",
              "      <td>4</td>\n",
              "      <td>0</td>\n",
              "      <td>0</td>\n",
              "      <td>0</td>\n",
              "      <td>0</td>\n",
              "      <td>0</td>\n",
              "      <td>0</td>\n",
              "      <td>0</td>\n",
              "      <td>0</td>\n",
              "      <td>0</td>\n",
              "      <td>0</td>\n",
              "      <td>0</td>\n",
              "      <td>0</td>\n",
              "      <td>0</td>\n",
              "      <td>0</td>\n",
              "      <td>0</td>\n",
              "      <td>0</td>\n",
              "      <td>0</td>\n",
              "      <td>0</td>\n",
              "      <td>0</td>\n",
              "      <td>0</td>\n",
              "      <td>0</td>\n",
              "      <td>0</td>\n",
              "      <td>0</td>\n",
              "      <td>0</td>\n",
              "      <td>0</td>\n",
              "      <td>0</td>\n",
              "      <td>0</td>\n",
              "    </tr>\n",
              "    <tr>\n",
              "      <th>4</th>\n",
              "      <td>0</td>\n",
              "      <td>0</td>\n",
              "      <td>0</td>\n",
              "      <td>0</td>\n",
              "      <td>0</td>\n",
              "      <td>0</td>\n",
              "      <td>0</td>\n",
              "      <td>2</td>\n",
              "      <td>0</td>\n",
              "      <td>0</td>\n",
              "      <td>0</td>\n",
              "      <td>0</td>\n",
              "      <td>0</td>\n",
              "      <td>0</td>\n",
              "      <td>0</td>\n",
              "      <td>0</td>\n",
              "      <td>0</td>\n",
              "      <td>0</td>\n",
              "      <td>0</td>\n",
              "      <td>0</td>\n",
              "      <td>2</td>\n",
              "      <td>0</td>\n",
              "      <td>0</td>\n",
              "      <td>0</td>\n",
              "      <td>0</td>\n",
              "      <td>0</td>\n",
              "      <td>0</td>\n",
              "      <td>0</td>\n",
              "      <td>0</td>\n",
              "      <td>1</td>\n",
              "      <td>0</td>\n",
              "      <td>0</td>\n",
              "      <td>0</td>\n",
              "      <td>0</td>\n",
              "      <td>1</td>\n",
              "      <td>0</td>\n",
              "      <td>0</td>\n",
              "      <td>0</td>\n",
              "      <td>0</td>\n",
              "      <td>0</td>\n",
              "      <td>...</td>\n",
              "      <td>0</td>\n",
              "      <td>0</td>\n",
              "      <td>0</td>\n",
              "      <td>0</td>\n",
              "      <td>0</td>\n",
              "      <td>0</td>\n",
              "      <td>0</td>\n",
              "      <td>1</td>\n",
              "      <td>0</td>\n",
              "      <td>0</td>\n",
              "      <td>0</td>\n",
              "      <td>0</td>\n",
              "      <td>4</td>\n",
              "      <td>0</td>\n",
              "      <td>0</td>\n",
              "      <td>0</td>\n",
              "      <td>0</td>\n",
              "      <td>0</td>\n",
              "      <td>0</td>\n",
              "      <td>0</td>\n",
              "      <td>0</td>\n",
              "      <td>0</td>\n",
              "      <td>0</td>\n",
              "      <td>0</td>\n",
              "      <td>0</td>\n",
              "      <td>0</td>\n",
              "      <td>0</td>\n",
              "      <td>0</td>\n",
              "      <td>0</td>\n",
              "      <td>0</td>\n",
              "      <td>0</td>\n",
              "      <td>0</td>\n",
              "      <td>0</td>\n",
              "      <td>0</td>\n",
              "      <td>0</td>\n",
              "      <td>0</td>\n",
              "      <td>0</td>\n",
              "      <td>0</td>\n",
              "      <td>0</td>\n",
              "      <td>0</td>\n",
              "    </tr>\n",
              "  </tbody>\n",
              "</table>\n",
              "<p>5 rows × 1500 columns</p>\n",
              "</div>"
            ],
            "text/plain": [
              "   abundant  ac  academic  accent  acceptance  ...  zen  zip  zipcar  zipcars  zone\n",
              "0         0   0         0       0           0  ...    0    0       0        0     0\n",
              "1         0   0         0       0           0  ...    0    0       0        0     0\n",
              "2         0   0         0       0           0  ...    0    0       0        0     0\n",
              "3         0   0         0       0           0  ...    0    0       0        0     0\n",
              "4         0   0         0       0           0  ...    0    0       0        0     0\n",
              "\n",
              "[5 rows x 1500 columns]"
            ]
          },
          "metadata": {
            "tags": []
          },
          "execution_count": 40
        }
      ]
    },
    {
      "cell_type": "code",
      "metadata": {
        "id": "kNuwetmDQw0P",
        "colab_type": "code",
        "colab": {}
      },
      "source": [
        "#setting target variable and independent variables and splitting dataset for NLP model\n",
        "y = pd.to_numeric(df['Avg_Rent'])\n",
        "X = pd.concat([amenities.reset_index(drop = True), df['Bedrooms'].reset_index(drop = True)], axis = 1, sort = False)\n",
        "\n",
        "X_train, X_test, y_train, y_test = train_test_split(X, y, test_size = 0.2, random_state = 24)"
      ],
      "execution_count": 41,
      "outputs": []
    },
    {
      "cell_type": "code",
      "metadata": {
        "id": "Idrz0NCAHXuP",
        "colab_type": "code",
        "colab": {}
      },
      "source": [
        "# choosing to use random forest regression model because it's easy to see feature importances\n",
        "rf = RandomForestRegressor(n_estimators = 100)\n",
        "\n",
        "rf.fit(X_train, y_train)\n",
        "pred = rf.predict(X_test)"
      ],
      "execution_count": 46,
      "outputs": []
    },
    {
      "cell_type": "code",
      "metadata": {
        "id": "qbvgQgZ9DBTy",
        "colab_type": "code",
        "colab": {
          "base_uri": "https://localhost:8080/",
          "height": 52
        },
        "outputId": "d2e50908-ec93-4f8a-e501-a2b60956a847"
      },
      "source": [
        "#calculating root mean squared error \n",
        "print('Random Forest Root Mean Squared Error:', np.sqrt(mean_squared_error(y_test, pred)))\n",
        "\n",
        "#calulating R**2 score\n",
        "print('Random Forest R**2 Score:', r2_score(y_test, pred))"
      ],
      "execution_count": 47,
      "outputs": [
        {
          "output_type": "stream",
          "text": [
            "Random Forest Root Mean Squared Error: 775.1837634207167\n",
            "Random Forest R**2 Score: 0.7003323317126089\n"
          ],
          "name": "stdout"
        }
      ]
    },
    {
      "cell_type": "code",
      "metadata": {
        "id": "atPW2_9mDF-3",
        "colab_type": "code",
        "colab": {
          "base_uri": "https://localhost:8080/",
          "height": 621
        },
        "outputId": "6acc1dbb-55ea-4c48-9127-74ab4597982e"
      },
      "source": [
        "# visualizing distribution of predicted values vs actual values for SalePrice\n",
        "plt.figure(figsize = (12,10))\n",
        "\n",
        "ax1 = sns.distplot(y_test, hist = False, color = 'r', label = 'Actual Values')\n",
        "ax2 = sns.distplot(pred, hist = False, color = 'b', label = 'Predicted Values')\n",
        "\n",
        "\n",
        "\n",
        "plt.title('Distribution of Predicted Values vs Actual Values for Rent Price')\n",
        "plt.xlabel('Rent Price (in dollars)')\n",
        "plt.ylabel('Proportion of Apartments')\n",
        "\n",
        "plt.show()\n",
        "plt.close()"
      ],
      "execution_count": 48,
      "outputs": [
        {
          "output_type": "display_data",
          "data": {
            "image/png": "[encoded data removed]",
            "text/plain": [
              "<Figure size 864x720 with 1 Axes>"
            ]
          },
          "metadata": {
            "tags": [],
            "needs_background": "light"
          }
        }
      ]
    },
    {
      "cell_type": "code",
      "metadata": {
        "id": "An_QreyXG2zc",
        "colab_type": "code",
        "colab": {}
      },
      "source": [
        "#getting feature importances\n",
        "feature_importances = ({'Name':[],\n",
        "                        'Score':[]})\n",
        "\n",
        "for name, score in zip(X.columns, rf.feature_importances_):\n",
        "  feature_importances['Name'].append(name)\n",
        "  feature_importances['Score'].append(score)\n",
        "\n",
        "feature_importances = pd.DataFrame(feature_importances).sort_values(['Score'], ascending = False)"
      ],
      "execution_count": 49,
      "outputs": []
    },
    {
      "cell_type": "code",
      "metadata": {
        "id": "WAP_aFWfKD7f",
        "colab_type": "code",
        "colab": {
          "base_uri": "https://localhost:8080/",
          "height": 730
        },
        "outputId": "fe613023-e55e-4a13-c9f5-2e3f7ed7fe75"
      },
      "source": [
        "#plotting feature importances\n",
        "f, ax = plt.subplots(figsize = (18,12))\n",
        "sns.barplot(x = 'Score', y = 'Name', data = feature_importances.head(50), orient = \"h\")\n",
        "plt.title('Bag of Words Model Feature Importances')\n",
        "plt.show()"
      ],
      "execution_count": 50,
      "outputs": [
        {
          "output_type": "display_data",
          "data": {
            "image/png": "[encoded data removed]",
            "text/plain": [
              "<Figure size 1296x864 with 1 Axes>"
            ]
          },
          "metadata": {
            "tags": [],
            "needs_background": "light"
          }
        }
      ]
    },
    {
      "cell_type": "markdown",
      "metadata": {
        "id": "iTJMZCKqNJL-",
        "colab_type": "text"
      },
      "source": [
        "#Extracting Features from Amenities Column\n",
        "Used insight gained from NLP model to extract new features from the amenities column"
      ]
    },
    {
      "cell_type": "code",
      "metadata": {
        "id": "a85tqfqbAtNN",
        "colab_type": "code",
        "colab": {
          "base_uri": "https://localhost:8080/",
          "height": 70
        },
        "outputId": "4965a07b-2a11-4e9f-d0d5-0b3fa940296d"
      },
      "source": [
        "#whether or not apartment has Bosch appliances\n",
        "df['Bosch_Appliances'] = df.Amenities.apply(lambda x: 1 if 'bosch' in x.lower() else 0 )\n",
        "df.Bosch_Appliances.value_counts()"
      ],
      "execution_count": 51,
      "outputs": [
        {
          "output_type": "execute_result",
          "data": {
            "text/plain": [
              "0    7772\n",
              "1     342\n",
              "Name: Bosch_Appliances, dtype: int64"
            ]
          },
          "metadata": {
            "tags": []
          },
          "execution_count": 51
        }
      ]
    },
    {
      "cell_type": "code",
      "metadata": {
        "id": "lwYIeAuZEYXD",
        "colab_type": "code",
        "colab": {
          "base_uri": "https://localhost:8080/",
          "height": 70
        },
        "outputId": "9fd37139-e5ca-410c-822e-473400b8e983"
      },
      "source": [
        "#whether the unit has stainless steel appliances\n",
        "df['Stainless_Steel_App'] = df.Amenities.apply(lambda x: 1 if 'stainless steel appliances' in x.lower()\n",
        "                                                              or 'appliances stainless' in x.lower()\n",
        "                                                              or 'stainless-steel appliances' in x.lower()\n",
        "                                                              else 0)\n",
        "df.Stainless_Steel_App.value_counts()"
      ],
      "execution_count": 52,
      "outputs": [
        {
          "output_type": "execute_result",
          "data": {
            "text/plain": [
              "0    4431\n",
              "1    3683\n",
              "Name: Stainless_Steel_App, dtype: int64"
            ]
          },
          "metadata": {
            "tags": []
          },
          "execution_count": 52
        }
      ]
    },
    {
      "cell_type": "code",
      "metadata": {
        "id": "EvyYuFdYHZQP",
        "colab_type": "code",
        "colab": {
          "base_uri": "https://localhost:8080/",
          "height": 70
        },
        "outputId": "81f0702a-141d-4fa1-c2b0-13e96d66400a"
      },
      "source": [
        "#whether or not apt has a dishwasher\n",
        "df['Dishwasher'] = df.Amenities.apply(lambda x: 1 if 'dishwasher' in x.lower() else 0)\n",
        "df.Dishwasher.value_counts()"
      ],
      "execution_count": 53,
      "outputs": [
        {
          "output_type": "execute_result",
          "data": {
            "text/plain": [
              "1    5467\n",
              "0    2647\n",
              "Name: Dishwasher, dtype: int64"
            ]
          },
          "metadata": {
            "tags": []
          },
          "execution_count": 53
        }
      ]
    },
    {
      "cell_type": "code",
      "metadata": {
        "id": "rj70oDR3HZst",
        "colab_type": "code",
        "colab": {
          "base_uri": "https://localhost:8080/",
          "height": 70
        },
        "outputId": "f0dcaac6-efd0-4d92-ef86-89402f2478cd"
      },
      "source": [
        "#whether or not the apt has a microwave\n",
        "df['Microwave'] = df.Amenities.apply(lambda x: 1 if 'microwave' in x.lower() else 0)\n",
        "df.Microwave.value_counts()"
      ],
      "execution_count": 54,
      "outputs": [
        {
          "output_type": "execute_result",
          "data": {
            "text/plain": [
              "1    4323\n",
              "0    3791\n",
              "Name: Microwave, dtype: int64"
            ]
          },
          "metadata": {
            "tags": []
          },
          "execution_count": 54
        }
      ]
    },
    {
      "cell_type": "code",
      "metadata": {
        "id": "I-cRnSJ_BOI-",
        "colab_type": "code",
        "colab": {
          "base_uri": "https://localhost:8080/",
          "height": 70
        },
        "outputId": "b4fa8e57-5a1e-42a7-ca4c-7ba88cb1dd63"
      },
      "source": [
        "#whether or not laundry is mentioned in the list of amenities\n",
        "df['Laundry'] = df.Amenities.apply(lambda x: 1 if 'laundry' in x.lower() or 'washer' in x.lower() or 'dryer' in x.lower() else 0)\n",
        "df.Laundry.value_counts()"
      ],
      "execution_count": 55,
      "outputs": [
        {
          "output_type": "execute_result",
          "data": {
            "text/plain": [
              "1    7367\n",
              "0     747\n",
              "Name: Laundry, dtype: int64"
            ]
          },
          "metadata": {
            "tags": []
          },
          "execution_count": 55
        }
      ]
    },
    {
      "cell_type": "code",
      "metadata": {
        "id": "2usQoduEBvUE",
        "colab_type": "code",
        "colab": {
          "base_uri": "https://localhost:8080/",
          "height": 70
        },
        "outputId": "61a356bc-06d1-43f2-fa37-9811e3ed420f"
      },
      "source": [
        "#whether or not there is a washer and dryer in the unit\n",
        "df['Washer/Dryer_in_unit'] = df.Amenities.apply(lambda x: 1 if 'washer/dryer - in unit' in x.lower() \n",
        "                                                                or 'washer/dryer in unit' in x.lower() \n",
        "                                                                or 'washer and dryer in unit' in x.lower()\n",
        "                                                                or 'in home washer/dryer' in x.lower()\n",
        "                                                                or 'in home washer and dryer' in x.lower()\n",
        "                                                                or 'in home full-size washer and dryer' in x.lower()\n",
        "                                                                else 0)\n",
        "df['Washer/Dryer_in_unit'].value_counts()"
      ],
      "execution_count": 56,
      "outputs": [
        {
          "output_type": "execute_result",
          "data": {
            "text/plain": [
              "1    4545\n",
              "0    3569\n",
              "Name: Washer/Dryer_in_unit, dtype: int64"
            ]
          },
          "metadata": {
            "tags": []
          },
          "execution_count": 56
        }
      ]
    },
    {
      "cell_type": "code",
      "metadata": {
        "id": "quGpyl-DIgCe",
        "colab_type": "code",
        "colab": {
          "base_uri": "https://localhost:8080/",
          "height": 70
        },
        "outputId": "b4598295-b967-4f53-91eb-be7acc6b1de8"
      },
      "source": [
        "#whether the apt/home has a terrace\n",
        "df['Terrace'] = df.Amenities.apply(lambda x: 1 if 'terrace' in x.lower() else 0)\n",
        "df.Terrace.value_counts()"
      ],
      "execution_count": 57,
      "outputs": [
        {
          "output_type": "execute_result",
          "data": {
            "text/plain": [
              "0    5389\n",
              "1    2725\n",
              "Name: Terrace, dtype: int64"
            ]
          },
          "metadata": {
            "tags": []
          },
          "execution_count": 57
        }
      ]
    },
    {
      "cell_type": "code",
      "metadata": {
        "id": "56VHQklYIxWV",
        "colab_type": "code",
        "colab": {
          "base_uri": "https://localhost:8080/",
          "height": 70
        },
        "outputId": "d5d263e2-cf61-453a-9dd6-c917d8efca0b"
      },
      "source": [
        "#whether the apt/home has a balcony\n",
        "df['Balcony'] = df.Amenities.apply(lambda x: 1 if 'balcony' in x.lower() else 0)\n",
        "df.Balcony.value_counts()"
      ],
      "execution_count": 58,
      "outputs": [
        {
          "output_type": "execute_result",
          "data": {
            "text/plain": [
              "1    4642\n",
              "0    3472\n",
              "Name: Balcony, dtype: int64"
            ]
          },
          "metadata": {
            "tags": []
          },
          "execution_count": 58
        }
      ]
    },
    {
      "cell_type": "code",
      "metadata": {
        "id": "0Rxo56WLI-pg",
        "colab_type": "code",
        "colab": {
          "base_uri": "https://localhost:8080/",
          "height": 70
        },
        "outputId": "45e22f92-9eaa-4686-fdfa-0a6f85bc21a5"
      },
      "source": [
        "#whether or not the apt/home has vaulted ceilings\n",
        "df['Vaulted_Ceilings'] = df.Amenities.apply(lambda x: 1 if 'vaulted ceiling' in x.lower() else 0)\n",
        "df.Vaulted_Ceilings.value_counts()"
      ],
      "execution_count": 59,
      "outputs": [
        {
          "output_type": "execute_result",
          "data": {
            "text/plain": [
              "0    6557\n",
              "1    1557\n",
              "Name: Vaulted_Ceilings, dtype: int64"
            ]
          },
          "metadata": {
            "tags": []
          },
          "execution_count": 59
        }
      ]
    },
    {
      "cell_type": "code",
      "metadata": {
        "id": "1hpKDHfbJOCZ",
        "colab_type": "code",
        "colab": {
          "base_uri": "https://localhost:8080/",
          "height": 70
        },
        "outputId": "c01dcef3-6abe-4027-fc23-114c987bae06"
      },
      "source": [
        "#whether the apt/home has a garden\n",
        "df['Garden'] = df.Amenities.apply(lambda x: 1 if 'garden' in x.lower() else 0)\n",
        "df.Garden.value_counts()"
      ],
      "execution_count": 60,
      "outputs": [
        {
          "output_type": "execute_result",
          "data": {
            "text/plain": [
              "0    7065\n",
              "1    1049\n",
              "Name: Garden, dtype: int64"
            ]
          },
          "metadata": {
            "tags": []
          },
          "execution_count": 60
        }
      ]
    },
    {
      "cell_type": "code",
      "metadata": {
        "id": "7Ek-gI2kIT2i",
        "colab_type": "code",
        "colab": {
          "base_uri": "https://localhost:8080/",
          "height": 70
        },
        "outputId": "120c1537-10ac-47b1-9b6b-dce667467a8a"
      },
      "source": [
        "#whether or not the apt is a penthouse\n",
        "df['Penthouse'] = df.Amenities.apply(lambda x: 1 if 'penthouse' in x.lower() else 0)\n",
        "df.Penthouse.value_counts()"
      ],
      "execution_count": 61,
      "outputs": [
        {
          "output_type": "execute_result",
          "data": {
            "text/plain": [
              "0    7473\n",
              "1     641\n",
              "Name: Penthouse, dtype: int64"
            ]
          },
          "metadata": {
            "tags": []
          },
          "execution_count": 61
        }
      ]
    },
    {
      "cell_type": "code",
      "metadata": {
        "id": "QbyGbbLBBHKk",
        "colab_type": "code",
        "colab": {
          "base_uri": "https://localhost:8080/",
          "height": 70
        },
        "outputId": "2930f427-8b79-4395-a34b-60a2343c03cf"
      },
      "source": [
        "#whether or not apartment complex has a concierge\n",
        "df['Concierge'] = df.Amenities.apply(lambda x: 1 if 'concierge' in x.lower() else 0) \n",
        "df.Concierge.value_counts()"
      ],
      "execution_count": 62,
      "outputs": [
        {
          "output_type": "execute_result",
          "data": {
            "text/plain": [
              "0    6098\n",
              "1    2016\n",
              "Name: Concierge, dtype: int64"
            ]
          },
          "metadata": {
            "tags": []
          },
          "execution_count": 62
        }
      ]
    },
    {
      "cell_type": "code",
      "metadata": {
        "id": "MIqY-M26FGCC",
        "colab_type": "code",
        "colab": {
          "base_uri": "https://localhost:8080/",
          "height": 70
        },
        "outputId": "b2b7d331-2760-46b6-c93e-1fdfd812cc83"
      },
      "source": [
        "#whether or not apartment complex has a lounge\n",
        "df['Lounge'] = df.Amenities.apply(lambda x: 1 if 'lounge' in x.lower() or 'game room' in x.lower() or 'clubhouse' in x.lower() else 0)\n",
        "df.Lounge.value_counts()"
      ],
      "execution_count": 63,
      "outputs": [
        {
          "output_type": "execute_result",
          "data": {
            "text/plain": [
              "1    5543\n",
              "0    2571\n",
              "Name: Lounge, dtype: int64"
            ]
          },
          "metadata": {
            "tags": []
          },
          "execution_count": 63
        }
      ]
    },
    {
      "cell_type": "code",
      "metadata": {
        "id": "FFB7G9BfFP_X",
        "colab_type": "code",
        "colab": {
          "base_uri": "https://localhost:8080/",
          "height": 70
        },
        "outputId": "746ce49d-341a-47cd-889f-2a71e09599be"
      },
      "source": [
        "#whether or not apt/house has air conditioning\n",
        "df['A/C'] = df.Amenities.apply(lambda x: 1 if 'air conditioning' in x.lower() or 'a/c' in x.lower() else 0) \n",
        "df['A/C'].value_counts()"
      ],
      "execution_count": 64,
      "outputs": [
        {
          "output_type": "execute_result",
          "data": {
            "text/plain": [
              "0    4616\n",
              "1    3498\n",
              "Name: A/C, dtype: int64"
            ]
          },
          "metadata": {
            "tags": []
          },
          "execution_count": 64
        }
      ]
    },
    {
      "cell_type": "code",
      "metadata": {
        "id": "2Hr0eP18Fmqq",
        "colab_type": "code",
        "colab": {
          "base_uri": "https://localhost:8080/",
          "height": 70
        },
        "outputId": "8616e8ef-82b9-49eb-db0c-10c3bc4ca4d1"
      },
      "source": [
        "#whether or not the apartment complex is smoke free\n",
        "df['Smoke_Free'] = df.Amenities.apply(lambda x: 1 if 'smoke free' in x.lower() or 'no smoking' in x.lower() else 0)\n",
        "df.Smoke_Free.value_counts()"
      ],
      "execution_count": 65,
      "outputs": [
        {
          "output_type": "execute_result",
          "data": {
            "text/plain": [
              "0    4227\n",
              "1    3887\n",
              "Name: Smoke_Free, dtype: int64"
            ]
          },
          "metadata": {
            "tags": []
          },
          "execution_count": 65
        }
      ]
    },
    {
      "cell_type": "code",
      "metadata": {
        "id": "_BiBheUDGD6w",
        "colab_type": "code",
        "colab": {
          "base_uri": "https://localhost:8080/",
          "height": 70
        },
        "outputId": "2e06f13e-7a1d-44d3-c4ca-5ad14cc39340"
      },
      "source": [
        "#whether or not the apartment complex allows pets\n",
        "df['Pets_Allowed'] = df.Amenities.apply(lambda x: 1 if ('pets allowed' in x.lower() or 'pets welcome' in x.lower() or 'dogs allowed' in x.lower() or 'cats allowed' in x.lower()) \n",
        "                                                    and ('no pets allowed' not in x.lower() and 'no dogs allowed' not in x.lower() and 'no cats allowed' not in x.lower()) \n",
        "                                                    else 0)\n",
        "df.Pets_Allowed.value_counts()"
      ],
      "execution_count": 66,
      "outputs": [
        {
          "output_type": "execute_result",
          "data": {
            "text/plain": [
              "0    7226\n",
              "1     888\n",
              "Name: Pets_Allowed, dtype: int64"
            ]
          },
          "metadata": {
            "tags": []
          },
          "execution_count": 66
        }
      ]
    },
    {
      "cell_type": "code",
      "metadata": {
        "id": "KfhdKQq-GVbU",
        "colab_type": "code",
        "colab": {
          "base_uri": "https://localhost:8080/",
          "height": 70
        },
        "outputId": "8d8d2714-ed92-45f3-dbb8-3493f98b0ff5"
      },
      "source": [
        "#whether or not the apartment complex has a pool\n",
        "df['Pool'] = df.Amenities.apply(lambda x: 1 if 'pool' in x.lower() else 0)\n",
        "df.Pool.value_counts()"
      ],
      "execution_count": 67,
      "outputs": [
        {
          "output_type": "execute_result",
          "data": {
            "text/plain": [
              "1    4210\n",
              "0    3904\n",
              "Name: Pool, dtype: int64"
            ]
          },
          "metadata": {
            "tags": []
          },
          "execution_count": 67
        }
      ]
    },
    {
      "cell_type": "code",
      "metadata": {
        "id": "1GO18Jk9GnFz",
        "colab_type": "code",
        "colab": {
          "base_uri": "https://localhost:8080/",
          "height": 70
        },
        "outputId": "78ad9dd1-8d18-4499-dd0f-b99bfcd465a5"
      },
      "source": [
        "#whether or not the apartment complex has a gym/fitness center/yoga studio\n",
        "df['Gym'] = df.Amenities.apply(lambda x: 1 if 'gym' in x.lower() or 'fitness center' in x.lower() or 'yoga studio' in x.lower() else 0) \n",
        "df.Gym.value_counts()"
      ],
      "execution_count": 68,
      "outputs": [
        {
          "output_type": "execute_result",
          "data": {
            "text/plain": [
              "1    5603\n",
              "0    2511\n",
              "Name: Gym, dtype: int64"
            ]
          },
          "metadata": {
            "tags": []
          },
          "execution_count": 68
        }
      ]
    },
    {
      "cell_type": "code",
      "metadata": {
        "id": "iOFAUATdG1o8",
        "colab_type": "code",
        "colab": {
          "base_uri": "https://localhost:8080/",
          "height": 70
        },
        "outputId": "26d88839-84e8-4b95-b666-698b8383ed02"
      },
      "source": [
        "#whether or not the apt/house is in a gated community\n",
        "df['Gated'] = df.Amenities.apply(lambda x: 1 if 'gated' in x.lower() else 0)\n",
        "df.Gated.value_counts()"
      ],
      "execution_count": 69,
      "outputs": [
        {
          "output_type": "execute_result",
          "data": {
            "text/plain": [
              "0    5331\n",
              "1    2783\n",
              "Name: Gated, dtype: int64"
            ]
          },
          "metadata": {
            "tags": []
          },
          "execution_count": 69
        }
      ]
    },
    {
      "cell_type": "code",
      "metadata": {
        "id": "MNlwm7xkG7p-",
        "colab_type": "code",
        "colab": {
          "base_uri": "https://localhost:8080/",
          "height": 70
        },
        "outputId": "59688c2e-d18c-4e01-e321-7eefb350d2fe"
      },
      "source": [
        "#whether the apt/house is furnished\n",
        "df['Furnished'] = df.Amenities.apply(lambda x: 1 if 'furnished' in x.lower() else 0)\n",
        "df.Furnished.value_counts()"
      ],
      "execution_count": 70,
      "outputs": [
        {
          "output_type": "execute_result",
          "data": {
            "text/plain": [
              "0    6439\n",
              "1    1675\n",
              "Name: Furnished, dtype: int64"
            ]
          },
          "metadata": {
            "tags": []
          },
          "execution_count": 70
        }
      ]
    },
    {
      "cell_type": "code",
      "metadata": {
        "id": "ZY_u4JXzKCH2",
        "colab_type": "code",
        "colab": {
          "base_uri": "https://localhost:8080/",
          "height": 70
        },
        "outputId": "b4c583a4-55fc-4a5d-b9ee-7e42d5d0a347"
      },
      "source": [
        "#whether the apt/house has a garage\n",
        "df['Garage'] = df.Amenities.apply(lambda x: 1 if 'garage' in x.lower() else 0)\n",
        "df.Garage.value_counts()"
      ],
      "execution_count": 71,
      "outputs": [
        {
          "output_type": "execute_result",
          "data": {
            "text/plain": [
              "0    7140\n",
              "1     974\n",
              "Name: Garage, dtype: int64"
            ]
          },
          "metadata": {
            "tags": []
          },
          "execution_count": 71
        }
      ]
    },
    {
      "cell_type": "code",
      "metadata": {
        "id": "wRjAaExRHD2l",
        "colab_type": "code",
        "colab": {
          "base_uri": "https://localhost:8080/",
          "height": 70
        },
        "outputId": "5ac54599-9aba-4466-b267-203eb393f9b3"
      },
      "source": [
        "#whether or not the apartment is wheelchair accessible\n",
        "df['Wheelchair_Accessible'] = df.Amenities.apply(lambda x: 1 if 'wheelchair accessible' in x.lower() else 0)\n",
        "df.Wheelchair_Accessible.value_counts()"
      ],
      "execution_count": 72,
      "outputs": [
        {
          "output_type": "execute_result",
          "data": {
            "text/plain": [
              "0    6444\n",
              "1    1670\n",
              "Name: Wheelchair_Accessible, dtype: int64"
            ]
          },
          "metadata": {
            "tags": []
          },
          "execution_count": 72
        }
      ]
    },
    {
      "cell_type": "code",
      "metadata": {
        "id": "Uf5ER8FDNP40",
        "colab_type": "code",
        "colab": {
          "base_uri": "https://localhost:8080/",
          "height": 105
        },
        "outputId": "6a8ca4aa-56f8-4314-fe7e-eeb6086f5ac0"
      },
      "source": [
        "#creating features for the type of floor\n",
        "df['Carpet'] = df.Amenities.apply(lambda x: 1 if 'carpet' in x.lower() else 0)\n",
        "df['Wood Floor'] = df.Amenities.apply(lambda x: 1 if 'wood floor' in x.lower() else 0)\n",
        "df['Plank Floor'] = df.Amenities.apply(lambda x: 1 if 'plank floor' in x.lower() else 0)\n",
        "df['Tile Floor'] = df.Amenities.apply(lambda x: 1 if 'tile floor' in x.lower() else 0)\n",
        "\n",
        "df[['Carpet','Wood Floor','Plank Floor','Tile Floor']].sum()"
      ],
      "execution_count": 73,
      "outputs": [
        {
          "output_type": "execute_result",
          "data": {
            "text/plain": [
              "Carpet         2276\n",
              "Wood Floor     3449\n",
              "Plank Floor     844\n",
              "Tile Floor     1012\n",
              "dtype: int64"
            ]
          },
          "metadata": {
            "tags": []
          },
          "execution_count": 73
        }
      ]
    },
    {
      "cell_type": "code",
      "metadata": {
        "id": "xdkD4gAhVAhP",
        "colab_type": "code",
        "colab": {
          "base_uri": "https://localhost:8080/",
          "height": 736
        },
        "outputId": "f796a846-eeb1-4e69-84e7-b28f501458ff"
      },
      "source": [
        "df.head()"
      ],
      "execution_count": 74,
      "outputs": [
        {
          "output_type": "execute_result",
          "data": {
            "text/html": [
              "<div>\n",
              "<style scoped>\n",
              "    .dataframe tbody tr th:only-of-type {\n",
              "        vertical-align: middle;\n",
              "    }\n",
              "\n",
              "    .dataframe tbody tr th {\n",
              "        vertical-align: top;\n",
              "    }\n",
              "\n",
              "    .dataframe thead th {\n",
              "        text-align: right;\n",
              "    }\n",
              "</style>\n",
              "<table border=\"1\" class=\"dataframe\">\n",
              "  <thead>\n",
              "    <tr style=\"text-align: right;\">\n",
              "      <th></th>\n",
              "      <th>Title</th>\n",
              "      <th>Address</th>\n",
              "      <th>Bedrooms</th>\n",
              "      <th>Bathrooms</th>\n",
              "      <th>Rent</th>\n",
              "      <th>Square Footage</th>\n",
              "      <th>Availability</th>\n",
              "      <th>Amenities</th>\n",
              "      <th>City</th>\n",
              "      <th>Zip_Code</th>\n",
              "      <th>Neighborhood</th>\n",
              "      <th>Avg_Rent</th>\n",
              "      <th>Avg_Sqft</th>\n",
              "      <th>Bosch_Appliances</th>\n",
              "      <th>Stainless_Steel_App</th>\n",
              "      <th>Dishwasher</th>\n",
              "      <th>Microwave</th>\n",
              "      <th>Laundry</th>\n",
              "      <th>Washer/Dryer_in_unit</th>\n",
              "      <th>Terrace</th>\n",
              "      <th>Balcony</th>\n",
              "      <th>Vaulted_Ceilings</th>\n",
              "      <th>Garden</th>\n",
              "      <th>Penthouse</th>\n",
              "      <th>Concierge</th>\n",
              "      <th>Lounge</th>\n",
              "      <th>A/C</th>\n",
              "      <th>Smoke_Free</th>\n",
              "      <th>Pets_Allowed</th>\n",
              "      <th>Pool</th>\n",
              "      <th>Gym</th>\n",
              "      <th>Gated</th>\n",
              "      <th>Furnished</th>\n",
              "      <th>Garage</th>\n",
              "      <th>Wheelchair_Accessible</th>\n",
              "      <th>Carpet</th>\n",
              "      <th>Wood Floor</th>\n",
              "      <th>Plank Floor</th>\n",
              "      <th>Tile Floor</th>\n",
              "    </tr>\n",
              "  </thead>\n",
              "  <tbody>\n",
              "    <tr>\n",
              "      <th>0</th>\n",
              "      <td>Amelia</td>\n",
              "      <td>411 29th St, Oakland, CA 94609 â€“ Pill Hill</td>\n",
              "      <td>1</td>\n",
              "      <td>1.0</td>\n",
              "      <td>2875 - 2995</td>\n",
              "      <td>502</td>\n",
              "      <td>Available Now</td>\n",
              "      <td>100% Smoke Free Community, Air Conditioning, B...</td>\n",
              "      <td>Oakland</td>\n",
              "      <td>94609</td>\n",
              "      <td>Pill Hill</td>\n",
              "      <td>2935</td>\n",
              "      <td>502.0</td>\n",
              "      <td>0</td>\n",
              "      <td>1</td>\n",
              "      <td>1</td>\n",
              "      <td>1</td>\n",
              "      <td>1</td>\n",
              "      <td>1</td>\n",
              "      <td>1</td>\n",
              "      <td>0</td>\n",
              "      <td>0</td>\n",
              "      <td>0</td>\n",
              "      <td>0</td>\n",
              "      <td>0</td>\n",
              "      <td>1</td>\n",
              "      <td>1</td>\n",
              "      <td>1</td>\n",
              "      <td>1</td>\n",
              "      <td>0</td>\n",
              "      <td>0</td>\n",
              "      <td>0</td>\n",
              "      <td>0</td>\n",
              "      <td>0</td>\n",
              "      <td>0</td>\n",
              "      <td>0</td>\n",
              "      <td>1</td>\n",
              "      <td>1</td>\n",
              "      <td>0</td>\n",
              "    </tr>\n",
              "    <tr>\n",
              "      <th>1</th>\n",
              "      <td>Amelia</td>\n",
              "      <td>411 29th St, Oakland, CA 94609 â€“ Pill Hill</td>\n",
              "      <td>1</td>\n",
              "      <td>1.0</td>\n",
              "      <td>2875</td>\n",
              "      <td>502</td>\n",
              "      <td>Available Now</td>\n",
              "      <td>100% Smoke Free Community, Air Conditioning, B...</td>\n",
              "      <td>Oakland</td>\n",
              "      <td>94609</td>\n",
              "      <td>Pill Hill</td>\n",
              "      <td>2875</td>\n",
              "      <td>502.0</td>\n",
              "      <td>0</td>\n",
              "      <td>1</td>\n",
              "      <td>1</td>\n",
              "      <td>1</td>\n",
              "      <td>1</td>\n",
              "      <td>1</td>\n",
              "      <td>1</td>\n",
              "      <td>0</td>\n",
              "      <td>0</td>\n",
              "      <td>0</td>\n",
              "      <td>0</td>\n",
              "      <td>0</td>\n",
              "      <td>1</td>\n",
              "      <td>1</td>\n",
              "      <td>1</td>\n",
              "      <td>1</td>\n",
              "      <td>0</td>\n",
              "      <td>0</td>\n",
              "      <td>0</td>\n",
              "      <td>0</td>\n",
              "      <td>0</td>\n",
              "      <td>0</td>\n",
              "      <td>0</td>\n",
              "      <td>1</td>\n",
              "      <td>1</td>\n",
              "      <td>0</td>\n",
              "    </tr>\n",
              "    <tr>\n",
              "      <th>2</th>\n",
              "      <td>Amelia</td>\n",
              "      <td>411 29th St, Oakland, CA 94609 â€“ Pill Hill</td>\n",
              "      <td>1</td>\n",
              "      <td>1.0</td>\n",
              "      <td>2875</td>\n",
              "      <td>502</td>\n",
              "      <td>Available Now</td>\n",
              "      <td>100% Smoke Free Community, Air Conditioning, B...</td>\n",
              "      <td>Oakland</td>\n",
              "      <td>94609</td>\n",
              "      <td>Pill Hill</td>\n",
              "      <td>2875</td>\n",
              "      <td>502.0</td>\n",
              "      <td>0</td>\n",
              "      <td>1</td>\n",
              "      <td>1</td>\n",
              "      <td>1</td>\n",
              "      <td>1</td>\n",
              "      <td>1</td>\n",
              "      <td>1</td>\n",
              "      <td>0</td>\n",
              "      <td>0</td>\n",
              "      <td>0</td>\n",
              "      <td>0</td>\n",
              "      <td>0</td>\n",
              "      <td>1</td>\n",
              "      <td>1</td>\n",
              "      <td>1</td>\n",
              "      <td>1</td>\n",
              "      <td>0</td>\n",
              "      <td>0</td>\n",
              "      <td>0</td>\n",
              "      <td>0</td>\n",
              "      <td>0</td>\n",
              "      <td>0</td>\n",
              "      <td>0</td>\n",
              "      <td>1</td>\n",
              "      <td>1</td>\n",
              "      <td>0</td>\n",
              "    </tr>\n",
              "    <tr>\n",
              "      <th>3</th>\n",
              "      <td>Amelia</td>\n",
              "      <td>411 29th St, Oakland, CA 94609 â€“ Pill Hill</td>\n",
              "      <td>1</td>\n",
              "      <td>1.0</td>\n",
              "      <td>2875</td>\n",
              "      <td>502</td>\n",
              "      <td>Available Now</td>\n",
              "      <td>100% Smoke Free Community, Air Conditioning, B...</td>\n",
              "      <td>Oakland</td>\n",
              "      <td>94609</td>\n",
              "      <td>Pill Hill</td>\n",
              "      <td>2875</td>\n",
              "      <td>502.0</td>\n",
              "      <td>0</td>\n",
              "      <td>1</td>\n",
              "      <td>1</td>\n",
              "      <td>1</td>\n",
              "      <td>1</td>\n",
              "      <td>1</td>\n",
              "      <td>1</td>\n",
              "      <td>0</td>\n",
              "      <td>0</td>\n",
              "      <td>0</td>\n",
              "      <td>0</td>\n",
              "      <td>0</td>\n",
              "      <td>1</td>\n",
              "      <td>1</td>\n",
              "      <td>1</td>\n",
              "      <td>1</td>\n",
              "      <td>0</td>\n",
              "      <td>0</td>\n",
              "      <td>0</td>\n",
              "      <td>0</td>\n",
              "      <td>0</td>\n",
              "      <td>0</td>\n",
              "      <td>0</td>\n",
              "      <td>1</td>\n",
              "      <td>1</td>\n",
              "      <td>0</td>\n",
              "    </tr>\n",
              "    <tr>\n",
              "      <th>4</th>\n",
              "      <td>Amelia</td>\n",
              "      <td>411 29th St, Oakland, CA 94609 â€“ Pill Hill</td>\n",
              "      <td>1</td>\n",
              "      <td>1.0</td>\n",
              "      <td>2875</td>\n",
              "      <td>502</td>\n",
              "      <td>Available Now</td>\n",
              "      <td>100% Smoke Free Community, Air Conditioning, B...</td>\n",
              "      <td>Oakland</td>\n",
              "      <td>94609</td>\n",
              "      <td>Pill Hill</td>\n",
              "      <td>2875</td>\n",
              "      <td>502.0</td>\n",
              "      <td>0</td>\n",
              "      <td>1</td>\n",
              "      <td>1</td>\n",
              "      <td>1</td>\n",
              "      <td>1</td>\n",
              "      <td>1</td>\n",
              "      <td>1</td>\n",
              "      <td>0</td>\n",
              "      <td>0</td>\n",
              "      <td>0</td>\n",
              "      <td>0</td>\n",
              "      <td>0</td>\n",
              "      <td>1</td>\n",
              "      <td>1</td>\n",
              "      <td>1</td>\n",
              "      <td>1</td>\n",
              "      <td>0</td>\n",
              "      <td>0</td>\n",
              "      <td>0</td>\n",
              "      <td>0</td>\n",
              "      <td>0</td>\n",
              "      <td>0</td>\n",
              "      <td>0</td>\n",
              "      <td>1</td>\n",
              "      <td>1</td>\n",
              "      <td>0</td>\n",
              "    </tr>\n",
              "  </tbody>\n",
              "</table>\n",
              "</div>"
            ],
            "text/plain": [
              "    Title  ... Tile Floor\n",
              "0  Amelia  ...          0\n",
              "1  Amelia  ...          0\n",
              "2  Amelia  ...          0\n",
              "3  Amelia  ...          0\n",
              "4  Amelia  ...          0\n",
              "\n",
              "[5 rows x 39 columns]"
            ]
          },
          "metadata": {
            "tags": []
          },
          "execution_count": 74
        }
      ]
    },
    {
      "cell_type": "code",
      "metadata": {
        "id": "1eU-pQJlqrd1",
        "colab_type": "code",
        "colab": {
          "base_uri": "https://localhost:8080/",
          "height": 703
        },
        "outputId": "cff03e56-f3d5-4b5b-e9aa-389495f8dd8a"
      },
      "source": [
        "df.columns.tolist()"
      ],
      "execution_count": 75,
      "outputs": [
        {
          "output_type": "execute_result",
          "data": {
            "text/plain": [
              "['Title',\n",
              " 'Address',\n",
              " 'Bedrooms',\n",
              " 'Bathrooms',\n",
              " 'Rent',\n",
              " 'Square Footage',\n",
              " 'Availability',\n",
              " 'Amenities',\n",
              " 'City',\n",
              " 'Zip_Code',\n",
              " 'Neighborhood',\n",
              " 'Avg_Rent',\n",
              " 'Avg_Sqft',\n",
              " 'Bosch_Appliances',\n",
              " 'Stainless_Steel_App',\n",
              " 'Dishwasher',\n",
              " 'Microwave',\n",
              " 'Laundry',\n",
              " 'Washer/Dryer_in_unit',\n",
              " 'Terrace',\n",
              " 'Balcony',\n",
              " 'Vaulted_Ceilings',\n",
              " 'Garden',\n",
              " 'Penthouse',\n",
              " 'Concierge',\n",
              " 'Lounge',\n",
              " 'A/C',\n",
              " 'Smoke_Free',\n",
              " 'Pets_Allowed',\n",
              " 'Pool',\n",
              " 'Gym',\n",
              " 'Gated',\n",
              " 'Furnished',\n",
              " 'Garage',\n",
              " 'Wheelchair_Accessible',\n",
              " 'Carpet',\n",
              " 'Wood Floor',\n",
              " 'Plank Floor',\n",
              " 'Tile Floor']"
            ]
          },
          "metadata": {
            "tags": []
          },
          "execution_count": 75
        }
      ]
    },
    {
      "cell_type": "code",
      "metadata": {
        "id": "ZIAr_VmpZsfW",
        "colab_type": "code",
        "colab": {}
      },
      "source": [
        "#decided to keep the raw text Amenities column in the dataset in case I decide to extract any additional information from in during the EDA process\n",
        "df_clean = df.drop(['Title','Address','Rent','Square Footage','Availability'], axis =1)"
      ],
      "execution_count": 76,
      "outputs": []
    },
    {
      "cell_type": "code",
      "metadata": {
        "id": "UUwYK0uyqgMu",
        "colab_type": "code",
        "colab": {
          "base_uri": "https://localhost:8080/",
          "height": 633
        },
        "outputId": "201bae7e-ec8b-49c8-e799-e1ca4084fa6e"
      },
      "source": [
        "df_clean.isna().sum()"
      ],
      "execution_count": 77,
      "outputs": [
        {
          "output_type": "execute_result",
          "data": {
            "text/plain": [
              "Bedrooms                 0\n",
              "Bathrooms                0\n",
              "Amenities                0\n",
              "City                     0\n",
              "Zip_Code                 0\n",
              "Neighborhood             0\n",
              "Avg_Rent                 0\n",
              "Avg_Sqft                 0\n",
              "Bosch_Appliances         0\n",
              "Stainless_Steel_App      0\n",
              "Dishwasher               0\n",
              "Microwave                0\n",
              "Laundry                  0\n",
              "Washer/Dryer_in_unit     0\n",
              "Terrace                  0\n",
              "Balcony                  0\n",
              "Vaulted_Ceilings         0\n",
              "Garden                   0\n",
              "Penthouse                0\n",
              "Concierge                0\n",
              "Lounge                   0\n",
              "A/C                      0\n",
              "Smoke_Free               0\n",
              "Pets_Allowed             0\n",
              "Pool                     0\n",
              "Gym                      0\n",
              "Gated                    0\n",
              "Furnished                0\n",
              "Garage                   0\n",
              "Wheelchair_Accessible    0\n",
              "Carpet                   0\n",
              "Wood Floor               0\n",
              "Plank Floor              0\n",
              "Tile Floor               0\n",
              "dtype: int64"
            ]
          },
          "metadata": {
            "tags": []
          },
          "execution_count": 77
        }
      ]
    },
    {
      "cell_type": "code",
      "metadata": {
        "id": "xBrKbr3Eqh7u",
        "colab_type": "code",
        "colab": {
          "base_uri": "https://localhost:8080/",
          "height": 34
        },
        "outputId": "a7221e7f-35e6-48c7-c941-eebc36633e47"
      },
      "source": [
        "df_clean.shape"
      ],
      "execution_count": 78,
      "outputs": [
        {
          "output_type": "execute_result",
          "data": {
            "text/plain": [
              "(8114, 34)"
            ]
          },
          "metadata": {
            "tags": []
          },
          "execution_count": 78
        }
      ]
    },
    {
      "cell_type": "code",
      "metadata": {
        "id": "sP25yovTqjbJ",
        "colab_type": "code",
        "colab": {}
      },
      "source": [
        "# un-comment to save cleaned dataframe to csv\n",
        "#df_clean.to_csv('apartment_data_clean.csv', index = False)"
      ],
      "execution_count": 79,
      "outputs": []
    }
  ]
}