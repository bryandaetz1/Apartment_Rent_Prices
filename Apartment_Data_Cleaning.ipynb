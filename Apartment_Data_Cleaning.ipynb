{
  "nbformat": 4,
  "nbformat_minor": 0,
  "metadata": {
    "colab": {
      "name": "Apartment_Data_Cleaning",
      "provenance": [],
      "collapsed_sections": [],
      "toc_visible": true,
      "authorship_tag": "ABX9TyOKY6JL1qPFzUvuRLLFrFUm",
      "include_colab_link": true
    },
    "kernelspec": {
      "name": "python3",
      "display_name": "Python 3"
    }
  },
  "cells": [
    {
      "cell_type": "markdown",
      "metadata": {
        "id": "view-in-github",
        "colab_type": "text"
      },
      "source": [
        "<a href=\"https://colab.research.google.com/github/bryandaetz1/Apartment_Rent_Prices/blob/master/Apartment_Data_Cleaning.ipynb\" target=\"_parent\"><img src=\"https://colab.research.google.com/assets/colab-badge.svg\" alt=\"Open In Colab\"/></a>"
      ]
    },
    {
      "cell_type": "code",
      "metadata": {
        "id": "6Ntv-aj-2lip",
        "colab_type": "code",
        "colab": {}
      },
      "source": [
        "import pandas as pd\n",
        "import numpy as np\n",
        "import re"
      ],
      "execution_count": 179,
      "outputs": []
    },
    {
      "cell_type": "code",
      "metadata": {
        "id": "v5dKVxwY2nBp",
        "colab_type": "code",
        "colab": {}
      },
      "source": [
        "oak = pd.read_csv('https://raw.githubusercontent.com/bryandaetz1/Apartment_Rent_Prices/master/oakland_apartment_data.csv')\n",
        "sf = pd.read_csv('https://raw.githubusercontent.com/bryandaetz1/Apartment_Rent_Prices/master/san_francisco_apartment_data.csv')\n",
        "sj = pd.read_csv('https://raw.githubusercontent.com/bryandaetz1/Apartment_Rent_Prices/master/san_jose_apartment_data.csv')\n",
        "\n",
        "df = pd.concat([oak,sf,sj], axis = 0, sort = False)"
      ],
      "execution_count": 180,
      "outputs": []
    },
    {
      "cell_type": "code",
      "metadata": {
        "id": "PxmpipRC2pkO",
        "colab_type": "code",
        "colab": {
          "base_uri": "https://localhost:8080/",
          "height": 34
        },
        "outputId": "18783f66-85e3-4344-f9cf-c8dee08d69fe"
      },
      "source": [
        "df.shape"
      ],
      "execution_count": 181,
      "outputs": [
        {
          "output_type": "execute_result",
          "data": {
            "text/plain": [
              "(12470, 8)"
            ]
          },
          "metadata": {
            "tags": []
          },
          "execution_count": 181
        }
      ]
    },
    {
      "cell_type": "code",
      "metadata": {
        "id": "o_-3Xt0P8I_h",
        "colab_type": "code",
        "colab": {
          "base_uri": "https://localhost:8080/",
          "height": 204
        },
        "outputId": "51f53524-12b3-4588-a6b0-805cf30ea4e3"
      },
      "source": [
        "df.head()"
      ],
      "execution_count": 182,
      "outputs": [
        {
          "output_type": "execute_result",
          "data": {
            "text/html": [
              "<div>\n",
              "<style scoped>\n",
              "    .dataframe tbody tr th:only-of-type {\n",
              "        vertical-align: middle;\n",
              "    }\n",
              "\n",
              "    .dataframe tbody tr th {\n",
              "        vertical-align: top;\n",
              "    }\n",
              "\n",
              "    .dataframe thead th {\n",
              "        text-align: right;\n",
              "    }\n",
              "</style>\n",
              "<table border=\"1\" class=\"dataframe\">\n",
              "  <thead>\n",
              "    <tr style=\"text-align: right;\">\n",
              "      <th></th>\n",
              "      <th>Title</th>\n",
              "      <th>Address</th>\n",
              "      <th>Bedrooms</th>\n",
              "      <th>Bathrooms</th>\n",
              "      <th>Rent</th>\n",
              "      <th>Square Footage</th>\n",
              "      <th>Availability</th>\n",
              "      <th>Amenities</th>\n",
              "    </tr>\n",
              "  </thead>\n",
              "  <tbody>\n",
              "    <tr>\n",
              "      <th>0</th>\n",
              "      <td>Amelia</td>\n",
              "      <td>411 29th St, Oakland, CA 94609 â€“ Pill Hill</td>\n",
              "      <td>1 Bed</td>\n",
              "      <td>1 Bath</td>\n",
              "      <td>$2,875 - 2,995</td>\n",
              "      <td>502 Sq Ft</td>\n",
              "      <td>Available Now</td>\n",
              "      <td>100% Smoke Free Community, Air Conditioning, B...</td>\n",
              "    </tr>\n",
              "    <tr>\n",
              "      <th>1</th>\n",
              "      <td>Amelia</td>\n",
              "      <td>411 29th St, Oakland, CA 94609 â€“ Pill Hill</td>\n",
              "      <td>1 Bed</td>\n",
              "      <td>1 Bath</td>\n",
              "      <td>$2,875</td>\n",
              "      <td>502 Sq Ft</td>\n",
              "      <td>Available Now</td>\n",
              "      <td>100% Smoke Free Community, Air Conditioning, B...</td>\n",
              "    </tr>\n",
              "    <tr>\n",
              "      <th>2</th>\n",
              "      <td>Amelia</td>\n",
              "      <td>411 29th St, Oakland, CA 94609 â€“ Pill Hill</td>\n",
              "      <td>1 Bed</td>\n",
              "      <td>1 Bath</td>\n",
              "      <td>$2,875</td>\n",
              "      <td>502 Sq Ft</td>\n",
              "      <td>Available Now</td>\n",
              "      <td>100% Smoke Free Community, Air Conditioning, B...</td>\n",
              "    </tr>\n",
              "    <tr>\n",
              "      <th>3</th>\n",
              "      <td>Amelia</td>\n",
              "      <td>411 29th St, Oakland, CA 94609 â€“ Pill Hill</td>\n",
              "      <td>1 Bed</td>\n",
              "      <td>1 Bath</td>\n",
              "      <td>$2,875</td>\n",
              "      <td>502 Sq Ft</td>\n",
              "      <td>Available Now</td>\n",
              "      <td>100% Smoke Free Community, Air Conditioning, B...</td>\n",
              "    </tr>\n",
              "    <tr>\n",
              "      <th>4</th>\n",
              "      <td>Amelia</td>\n",
              "      <td>411 29th St, Oakland, CA 94609 â€“ Pill Hill</td>\n",
              "      <td>1 Bed</td>\n",
              "      <td>1 Bath</td>\n",
              "      <td>$2,875</td>\n",
              "      <td>502 Sq Ft</td>\n",
              "      <td>Available Now</td>\n",
              "      <td>100% Smoke Free Community, Air Conditioning, B...</td>\n",
              "    </tr>\n",
              "  </tbody>\n",
              "</table>\n",
              "</div>"
            ],
            "text/plain": [
              "    Title  ...                                          Amenities\n",
              "0  Amelia  ...  100% Smoke Free Community, Air Conditioning, B...\n",
              "1  Amelia  ...  100% Smoke Free Community, Air Conditioning, B...\n",
              "2  Amelia  ...  100% Smoke Free Community, Air Conditioning, B...\n",
              "3  Amelia  ...  100% Smoke Free Community, Air Conditioning, B...\n",
              "4  Amelia  ...  100% Smoke Free Community, Air Conditioning, B...\n",
              "\n",
              "[5 rows x 8 columns]"
            ]
          },
          "metadata": {
            "tags": []
          },
          "execution_count": 182
        }
      ]
    },
    {
      "cell_type": "code",
      "metadata": {
        "id": "7CsZIHyaboZ6",
        "colab_type": "code",
        "colab": {
          "base_uri": "https://localhost:8080/",
          "height": 170
        },
        "outputId": "15cf7294-f3d4-4ab0-8d8f-f83765adebbc"
      },
      "source": [
        "df.isna().sum()"
      ],
      "execution_count": 183,
      "outputs": [
        {
          "output_type": "execute_result",
          "data": {
            "text/plain": [
              "Title               0\n",
              "Address             0\n",
              "Bedrooms            0\n",
              "Bathrooms           9\n",
              "Rent                0\n",
              "Square Footage    375\n",
              "Availability        0\n",
              "Amenities         297\n",
              "dtype: int64"
            ]
          },
          "metadata": {
            "tags": []
          },
          "execution_count": 183
        }
      ]
    },
    {
      "cell_type": "code",
      "metadata": {
        "id": "i0kxYBn4fnP5",
        "colab_type": "code",
        "colab": {}
      },
      "source": [
        "#replacing null values in amenities column with empty strings, will address null values in bathrooms and square footage columns later\n",
        "df['Amenities'].fillna('', inplace = True)"
      ],
      "execution_count": 184,
      "outputs": []
    },
    {
      "cell_type": "markdown",
      "metadata": {
        "id": "I43TQ8yAcBNh",
        "colab_type": "text"
      },
      "source": [
        "#Cleaning Bedroom and Bathroom Columns"
      ]
    },
    {
      "cell_type": "code",
      "metadata": {
        "id": "yYN8ojpu2q70",
        "colab_type": "code",
        "colab": {
          "base_uri": "https://localhost:8080/",
          "height": 221
        },
        "outputId": "fc6392b9-7a0c-4ff9-c99c-f36d4db94416"
      },
      "source": [
        "df.Bedrooms.value_counts()"
      ],
      "execution_count": 185,
      "outputs": [
        {
          "output_type": "execute_result",
          "data": {
            "text/plain": [
              "1 Bed     5062\n",
              "2 BRs     4663\n",
              "Studio    1705\n",
              "3 BRs      836\n",
              "4 BRs      160\n",
              "5 BRs       29\n",
              "6 BRs       10\n",
              "8 BRs        2\n",
              "12 BRs       1\n",
              "7 BRs        1\n",
              "13 BRs       1\n",
              "Name: Bedrooms, dtype: int64"
            ]
          },
          "metadata": {
            "tags": []
          },
          "execution_count": 185
        }
      ]
    },
    {
      "cell_type": "code",
      "metadata": {
        "id": "25jWjKfB8hVg",
        "colab_type": "code",
        "colab": {
          "base_uri": "https://localhost:8080/",
          "height": 357
        },
        "outputId": "a4a13202-500c-4608-f2b0-392a7963f91e"
      },
      "source": [
        "df.Bathrooms.value_counts()"
      ],
      "execution_count": 186,
      "outputs": [
        {
          "output_type": "execute_result",
          "data": {
            "text/plain": [
              "1 Bath       7319\n",
              "2 Baths      4350\n",
              "1½ Baths      216\n",
              "2½ Baths      176\n",
              "3 Baths       161\n",
              "2Â½ Baths      98\n",
              "1Â½ Baths      69\n",
              "3½ Baths       33\n",
              "4 Baths        14\n",
              "0Â½ Baths       7\n",
              "4½ Baths        4\n",
              "4Â½ Baths       4\n",
              "0½ Baths        3\n",
              "5½ Baths        2\n",
              "3Â½ Baths       1\n",
              "5Â½ Baths       1\n",
              "17 Baths        1\n",
              "10 Baths        1\n",
              "3¼ Baths        1\n",
              "Name: Bathrooms, dtype: int64"
            ]
          },
          "metadata": {
            "tags": []
          },
          "execution_count": 186
        }
      ]
    },
    {
      "cell_type": "code",
      "metadata": {
        "id": "u_e-pkcY22Fm",
        "colab_type": "code",
        "colab": {}
      },
      "source": [
        "# replacing Studio with 0 bedrooms and removing all non-digits from Bedrooms column\n",
        "df.Bedrooms = pd.to_numeric(df.Bedrooms.str.replace('Studio','0').str.replace('\\D','', regex = True))\n",
        "\n",
        "# converting fractions to decimals and removing all letters from Bathrooms column\n",
        "df.Bathrooms = pd.to_numeric(df.Bathrooms.str.replace('½','.5').str.replace('¼','.25').str.replace('Â','').str.replace('[a-zA-z]','', regex = True).str.strip())\n"
      ],
      "execution_count": 187,
      "outputs": []
    },
    {
      "cell_type": "code",
      "metadata": {
        "id": "mD_1gTbW32C3",
        "colab_type": "code",
        "colab": {
          "base_uri": "https://localhost:8080/",
          "height": 221
        },
        "outputId": "8eade043-9195-453e-e607-c08baca4de31"
      },
      "source": [
        "df.Bedrooms.value_counts()"
      ],
      "execution_count": 188,
      "outputs": [
        {
          "output_type": "execute_result",
          "data": {
            "text/plain": [
              "1     5062\n",
              "2     4663\n",
              "0     1705\n",
              "3      836\n",
              "4      160\n",
              "5       29\n",
              "6       10\n",
              "8        2\n",
              "7        1\n",
              "13       1\n",
              "12       1\n",
              "Name: Bedrooms, dtype: int64"
            ]
          },
          "metadata": {
            "tags": []
          },
          "execution_count": 188
        }
      ]
    },
    {
      "cell_type": "code",
      "metadata": {
        "id": "jNWnK0zn4R9M",
        "colab_type": "code",
        "colab": {
          "base_uri": "https://localhost:8080/",
          "height": 255
        },
        "outputId": "d99c9d70-f4ad-43e5-f6d5-d63e128b01f8"
      },
      "source": [
        "df.Bathrooms.value_counts()"
      ],
      "execution_count": 189,
      "outputs": [
        {
          "output_type": "execute_result",
          "data": {
            "text/plain": [
              "1.00     7319\n",
              "2.00     4350\n",
              "1.50      285\n",
              "2.50      274\n",
              "3.00      161\n",
              "3.50       34\n",
              "4.00       14\n",
              "0.50       10\n",
              "4.50        8\n",
              "5.50        3\n",
              "3.25        1\n",
              "17.00       1\n",
              "10.00       1\n",
              "Name: Bathrooms, dtype: int64"
            ]
          },
          "metadata": {
            "tags": []
          },
          "execution_count": 189
        }
      ]
    },
    {
      "cell_type": "code",
      "metadata": {
        "id": "Q2tTjhJ0xfTa",
        "colab_type": "code",
        "colab": {
          "base_uri": "https://localhost:8080/",
          "height": 328
        },
        "outputId": "15801ff8-46aa-4f2b-83e3-5f7a6a5ca76f"
      },
      "source": [
        "#inspecting rows where number of bathrooms is missing\n",
        "df.loc[df['Bathrooms'].isna()]"
      ],
      "execution_count": 190,
      "outputs": [
        {
          "output_type": "execute_result",
          "data": {
            "text/html": [
              "<div>\n",
              "<style scoped>\n",
              "    .dataframe tbody tr th:only-of-type {\n",
              "        vertical-align: middle;\n",
              "    }\n",
              "\n",
              "    .dataframe tbody tr th {\n",
              "        vertical-align: top;\n",
              "    }\n",
              "\n",
              "    .dataframe thead th {\n",
              "        text-align: right;\n",
              "    }\n",
              "</style>\n",
              "<table border=\"1\" class=\"dataframe\">\n",
              "  <thead>\n",
              "    <tr style=\"text-align: right;\">\n",
              "      <th></th>\n",
              "      <th>Title</th>\n",
              "      <th>Address</th>\n",
              "      <th>Bedrooms</th>\n",
              "      <th>Bathrooms</th>\n",
              "      <th>Rent</th>\n",
              "      <th>Square Footage</th>\n",
              "      <th>Availability</th>\n",
              "      <th>Amenities</th>\n",
              "    </tr>\n",
              "  </thead>\n",
              "  <tbody>\n",
              "    <tr>\n",
              "      <th>2458</th>\n",
              "      <td>Aqua Via</td>\n",
              "      <td>125 2nd St, Oakland, CA 94607 â€“ Jack London ...</td>\n",
              "      <td>0</td>\n",
              "      <td>NaN</td>\n",
              "      <td>$2,598 - 5,359</td>\n",
              "      <td>790 Sq Ft</td>\n",
              "      <td>26-Oct</td>\n",
              "      <td>Air Conditioning in Every Home, Award-Winning ...</td>\n",
              "    </tr>\n",
              "    <tr>\n",
              "      <th>2459</th>\n",
              "      <td>Aqua Via</td>\n",
              "      <td>125 2nd St, Oakland, CA 94607 â€“ Jack London ...</td>\n",
              "      <td>0</td>\n",
              "      <td>NaN</td>\n",
              "      <td>$2,598 - 5,359</td>\n",
              "      <td>790 Sq Ft</td>\n",
              "      <td>26-Oct</td>\n",
              "      <td>Air Conditioning in Every Home, Award-Winning ...</td>\n",
              "    </tr>\n",
              "    <tr>\n",
              "      <th>2975</th>\n",
              "      <td>One Henry Adams</td>\n",
              "      <td>1 Henry Adams St, San Francisco, CA 94103 – Po...</td>\n",
              "      <td>1</td>\n",
              "      <td>NaN</td>\n",
              "      <td>Call for Rent</td>\n",
              "      <td>651 Sq Ft</td>\n",
              "      <td>Not Available</td>\n",
              "      <td>Courtyard, High Speed Internet Access, Roommat...</td>\n",
              "    </tr>\n",
              "    <tr>\n",
              "      <th>3788</th>\n",
              "      <td>FOUND Study Nob Hill</td>\n",
              "      <td>851 California St, San Francisco, CA 94108 – C...</td>\n",
              "      <td>1</td>\n",
              "      <td>NaN</td>\n",
              "      <td>$1,300 - 1,650</td>\n",
              "      <td>NaN</td>\n",
              "      <td>Available Now</td>\n",
              "      <td>Furnished, Built in 1910, 80 Units/4 Stories, ...</td>\n",
              "    </tr>\n",
              "    <tr>\n",
              "      <th>3789</th>\n",
              "      <td>FOUND Study Nob Hill</td>\n",
              "      <td>851 California St, San Francisco, CA 94108 – C...</td>\n",
              "      <td>1</td>\n",
              "      <td>NaN</td>\n",
              "      <td>$1,300</td>\n",
              "      <td>NaN</td>\n",
              "      <td>Available Now</td>\n",
              "      <td>Furnished, Built in 1910, 80 Units/4 Stories, ...</td>\n",
              "    </tr>\n",
              "    <tr>\n",
              "      <th>3790</th>\n",
              "      <td>FOUND Study Nob Hill</td>\n",
              "      <td>851 California St, San Francisco, CA 94108 – C...</td>\n",
              "      <td>1</td>\n",
              "      <td>NaN</td>\n",
              "      <td>$1,650</td>\n",
              "      <td>NaN</td>\n",
              "      <td>Available Now</td>\n",
              "      <td>Furnished, Built in 1910, 80 Units/4 Stories, ...</td>\n",
              "    </tr>\n",
              "    <tr>\n",
              "      <th>3791</th>\n",
              "      <td>FOUND Study Nob Hill</td>\n",
              "      <td>851 California St, San Francisco, CA 94108 – C...</td>\n",
              "      <td>1</td>\n",
              "      <td>NaN</td>\n",
              "      <td>$1,650</td>\n",
              "      <td>NaN</td>\n",
              "      <td>Available Now</td>\n",
              "      <td>Furnished, Built in 1910, 80 Units/4 Stories, ...</td>\n",
              "    </tr>\n",
              "    <tr>\n",
              "      <th>3792</th>\n",
              "      <td>FOUND Study Nob Hill</td>\n",
              "      <td>851 California St, San Francisco, CA 94108 – C...</td>\n",
              "      <td>1</td>\n",
              "      <td>NaN</td>\n",
              "      <td>$1,650</td>\n",
              "      <td>NaN</td>\n",
              "      <td>Available Now</td>\n",
              "      <td>Furnished, Built in 1910, 80 Units/4 Stories, ...</td>\n",
              "    </tr>\n",
              "    <tr>\n",
              "      <th>3982</th>\n",
              "      <td>1801 15th St</td>\n",
              "      <td>1801 15th St, San Francisco, CA 94103 – Missio...</td>\n",
              "      <td>0</td>\n",
              "      <td>NaN</td>\n",
              "      <td>Call for Rent</td>\n",
              "      <td>NaN</td>\n",
              "      <td>Available Soon</td>\n",
              "      <td>Built in 1924, 9 Units/3 Stories</td>\n",
              "    </tr>\n",
              "  </tbody>\n",
              "</table>\n",
              "</div>"
            ],
            "text/plain": [
              "                     Title  ...                                          Amenities\n",
              "2458              Aqua Via  ...  Air Conditioning in Every Home, Award-Winning ...\n",
              "2459              Aqua Via  ...  Air Conditioning in Every Home, Award-Winning ...\n",
              "2975       One Henry Adams  ...  Courtyard, High Speed Internet Access, Roommat...\n",
              "3788  FOUND Study Nob Hill  ...  Furnished, Built in 1910, 80 Units/4 Stories, ...\n",
              "3789  FOUND Study Nob Hill  ...  Furnished, Built in 1910, 80 Units/4 Stories, ...\n",
              "3790  FOUND Study Nob Hill  ...  Furnished, Built in 1910, 80 Units/4 Stories, ...\n",
              "3791  FOUND Study Nob Hill  ...  Furnished, Built in 1910, 80 Units/4 Stories, ...\n",
              "3792  FOUND Study Nob Hill  ...  Furnished, Built in 1910, 80 Units/4 Stories, ...\n",
              "3982          1801 15th St  ...                   Built in 1924, 9 Units/3 Stories\n",
              "\n",
              "[9 rows x 8 columns]"
            ]
          },
          "metadata": {
            "tags": []
          },
          "execution_count": 190
        }
      ]
    },
    {
      "cell_type": "code",
      "metadata": {
        "id": "96hY4ut5xoue",
        "colab_type": "code",
        "colab": {}
      },
      "source": [
        "# only 9 apartments don't have bathrooms listed and they are all either studios are 1 bedrooms, assuming this means 1 Bathroom\n",
        "df['Bathrooms'].fillna(1, inplace = True)"
      ],
      "execution_count": 191,
      "outputs": []
    },
    {
      "cell_type": "markdown",
      "metadata": {
        "id": "l3JuWbnicH6r",
        "colab_type": "text"
      },
      "source": [
        "# Extracting Features from Address Column"
      ]
    },
    {
      "cell_type": "code",
      "metadata": {
        "id": "nNuaSXW07Bvj",
        "colab_type": "code",
        "colab": {
          "base_uri": "https://localhost:8080/",
          "height": 221
        },
        "outputId": "887569f0-3996-41b3-c766-9ff3411b36d2"
      },
      "source": [
        "#most addresses have a special symbol â€“ that will make them easy to split, but that's not the case for all of them\n",
        "#inspecting addresses without this symbol\n",
        "df.Address.loc[df['Address'].str.contains('â€“') == False]"
      ],
      "execution_count": 192,
      "outputs": [
        {
          "output_type": "execute_result",
          "data": {
            "text/plain": [
              "0       150 Van Ness Ave, San Francisco, CA 94102 – Ci...\n",
              "1       150 Van Ness Ave, San Francisco, CA 94102 – Ci...\n",
              "2       150 Van Ness Ave, San Francisco, CA 94102 – Ci...\n",
              "3       150 Van Ness Ave, San Francisco, CA 94102 – Ci...\n",
              "4       150 Van Ness Ave, San Francisco, CA 94102 – Ci...\n",
              "                              ...                        \n",
              "4620    3092 Manuel St, San Jose, CA 95136 – South San...\n",
              "4621     3420 Borge Ct, San Jose, CA 95132 – Upper Sierra\n",
              "4622        376 N 20th St, San Jose, CA 95112 – Northside\n",
              "4623       776 Deland Ave, San Jose, CA 95128 – Rose Glen\n",
              "4624       776 Deland Ave, San Jose, CA 95128 – Rose Glen\n",
              "Name: Address, Length: 9230, dtype: object"
            ]
          },
          "metadata": {
            "tags": []
          },
          "execution_count": 192
        }
      ]
    },
    {
      "cell_type": "code",
      "metadata": {
        "id": "Zex-H21SGjFd",
        "colab_type": "code",
        "colab": {}
      },
      "source": [
        "#extracting city from address and saving it as a new column\n",
        "df['City'] = df.Address.apply(lambda x: x.split(', CA')[0]).apply(lambda x: x.split(',')[-1]).str.strip()"
      ],
      "execution_count": 193,
      "outputs": []
    },
    {
      "cell_type": "code",
      "metadata": {
        "id": "ofk4uricIp-1",
        "colab_type": "code",
        "colab": {
          "base_uri": "https://localhost:8080/",
          "height": 306
        },
        "outputId": "2ca6dfc5-4427-4975-f7a6-65b98b031c78"
      },
      "source": [
        "df['City'].value_counts()"
      ],
      "execution_count": 194,
      "outputs": [
        {
          "output_type": "execute_result",
          "data": {
            "text/plain": [
              "San Francisco    4553\n",
              "San Jose         3632\n",
              "Oakland          2446\n",
              "Milpitas          369\n",
              "Berkeley          333\n",
              "Emeryville        311\n",
              "Santa Clara       269\n",
              "Campbell          178\n",
              "Cupertino         137\n",
              "Alameda            99\n",
              "Daly City          52\n",
              "San Leandro        37\n",
              "Sunnyvale          26\n",
              "Piedmont           14\n",
              "Los Gatos          13\n",
              "Saratoga            1\n",
              "Name: City, dtype: int64"
            ]
          },
          "metadata": {
            "tags": []
          },
          "execution_count": 194
        }
      ]
    },
    {
      "cell_type": "code",
      "metadata": {
        "id": "aGcHksOtE7dV",
        "colab_type": "code",
        "colab": {}
      },
      "source": [
        "#extracting zip code from address and storing this as a new column\n",
        "df['Zip_Code'] = df.Address.apply(lambda x: x.split('CA')[-1]).apply(lambda x: x.split('â€“')[0] if 'â€“' in str(x) else x.split('–')[0]).str.strip()"
      ],
      "execution_count": 195,
      "outputs": []
    },
    {
      "cell_type": "code",
      "metadata": {
        "id": "m0EscjwFGOUq",
        "colab_type": "code",
        "colab": {
          "base_uri": "https://localhost:8080/",
          "height": 221
        },
        "outputId": "5ac45067-0267-43e6-ba24-e0d2f7e18a9e"
      },
      "source": [
        "df['Zip_Code'].value_counts()"
      ],
      "execution_count": 196,
      "outputs": [
        {
          "output_type": "execute_result",
          "data": {
            "text/plain": [
              "94612    1347\n",
              "94107    1041\n",
              "94105     850\n",
              "94103     799\n",
              "95134     658\n",
              "         ... \n",
              "94127       3\n",
              "94104       2\n",
              "95139       2\n",
              "95070       1\n",
              "94708       1\n",
              "Name: Zip_Code, Length: 89, dtype: int64"
            ]
          },
          "metadata": {
            "tags": []
          },
          "execution_count": 196
        }
      ]
    },
    {
      "cell_type": "code",
      "metadata": {
        "id": "38f168c6A6m_",
        "colab_type": "code",
        "colab": {}
      },
      "source": [
        "#extracting neighborhood from address and storing this as a new column\n",
        "df['Neighborhood'] = df.Address.apply(lambda x: x.split('â€“')[-1] if 'â€“' in str(x) else x.split('–')[-1]).str.strip()"
      ],
      "execution_count": 197,
      "outputs": []
    },
    {
      "cell_type": "code",
      "metadata": {
        "id": "Cs5aPNPLCu1z",
        "colab_type": "code",
        "colab": {
          "base_uri": "https://localhost:8080/",
          "height": 952
        },
        "outputId": "f45789c6-01d3-4e29-b4b8-aede69fe595c"
      },
      "source": [
        "#finding neighborhoods that appear most frequently repeatedly\n",
        "top_neighborhoods = df['Neighborhood'].value_counts()\n",
        "top_neighborhoods[top_neighborhoods > 50]"
      ],
      "execution_count": 198,
      "outputs": [
        {
          "output_type": "execute_result",
          "data": {
            "text/plain": [
              "Mission Bay                  723\n",
              "Lakeside                     669\n",
              "North San Jose               547\n",
              "Rincon                       543\n",
              "Northside                    467\n",
              "SoMa                         359\n",
              "Uptown Oakland               346\n",
              "Emeryville                   294\n",
              "Westlake                     283\n",
              "Potrero                      263\n",
              "Dogpatch                     245\n",
              "Santa Clara                  242\n",
              "Mission                      241\n",
              "South Market                 218\n",
              "Civic Center                 217\n",
              "Milpitas                     205\n",
              "Santa Teresa                 202\n",
              "South Beach                  176\n",
              "San Francisco                176\n",
              "Lower Haight                 175\n",
              "Jack London Square           172\n",
              "Rincon Hill                  153\n",
              "South Berkeley               146\n",
              "Financial District           142\n",
              "Oakland                      139\n",
              "Pill Hill                    139\n",
              "Buena Vista                  134\n",
              "Westwood Park                131\n",
              "River Oaks                   123\n",
              "Shafter                      123\n",
              "Lower Pacific Heights        110\n",
              "Downtown Cupertino           109\n",
              "Hamann Park                  108\n",
              "Japantown                    102\n",
              "Midtown Milpitas             100\n",
              "Sunol-Midtown                 99\n",
              "Blossom Valley/S San Jose     97\n",
              "Transbay                      94\n",
              "Garden Alameda                86\n",
              "Downtown San Jose             85\n",
              "Berryessa                     83\n",
              "Campbell                      78\n",
              "Renaissance                   77\n",
              "Sun                           77\n",
              "Hayes Valley                  75\n",
              "South San Jose                75\n",
              "West Alameda                  68\n",
              "Elmwood                       67\n",
              "Loma Linda                    63\n",
              "Mosswood                      63\n",
              "West Oakland                  61\n",
              "Parkview                      58\n",
              "Bayview                       57\n",
              "Piedmont Avenue               52\n",
              "Name: Neighborhood, dtype: int64"
            ]
          },
          "metadata": {
            "tags": []
          },
          "execution_count": 198
        }
      ]
    },
    {
      "cell_type": "markdown",
      "metadata": {
        "id": "_jWjrgNTcnop",
        "colab_type": "text"
      },
      "source": [
        "#Cleaning Rent Column"
      ]
    },
    {
      "cell_type": "code",
      "metadata": {
        "id": "prSjDzCwI4WU",
        "colab_type": "code",
        "colab": {
          "base_uri": "https://localhost:8080/",
          "height": 51
        },
        "outputId": "0dfc2b4a-b47c-48e7-f06c-6550ed36667a"
      },
      "source": [
        "#testing to see how many listings have a range for rent \n",
        "print('Number of Listings with Rent Range:', len(df[df['Rent'].str.contains('-')]))\n",
        "print('Number of Listings with No Rent Listed:', len(df[df['Rent'].str.contains('Call')]))\n"
      ],
      "execution_count": 199,
      "outputs": [
        {
          "output_type": "stream",
          "text": [
            "Number of Listings with Rent Range: 4525\n",
            "Number of Listings with No Rent Listed: 1746\n"
          ],
          "name": "stdout"
        }
      ]
    },
    {
      "cell_type": "code",
      "metadata": {
        "id": "afBGyBn4hOSc",
        "colab_type": "code",
        "colab": {}
      },
      "source": [
        "# dropping rows where rent isn't listed\n",
        "df.drop(df.loc[df['Rent'].str.contains('Call')].index, axis = 0, inplace = True)\n",
        "\n",
        "#removing dollar signs, commas and / Person from rent column\n",
        "df['Rent'] = df['Rent'].str.replace('$','').str.replace(',','').str.replace('/ Person','')"
      ],
      "execution_count": 200,
      "outputs": []
    },
    {
      "cell_type": "code",
      "metadata": {
        "id": "e5H5b0vAqBBF",
        "colab_type": "code",
        "colab": {
          "base_uri": "https://localhost:8080/",
          "height": 34
        },
        "outputId": "854fda4b-36a0-4df8-e5ee-1e572155e145"
      },
      "source": [
        "df.shape"
      ],
      "execution_count": 201,
      "outputs": [
        {
          "output_type": "execute_result",
          "data": {
            "text/plain": [
              "(8124, 11)"
            ]
          },
          "metadata": {
            "tags": []
          },
          "execution_count": 201
        }
      ]
    },
    {
      "cell_type": "code",
      "metadata": {
        "id": "BLKlwhndpQo2",
        "colab_type": "code",
        "colab": {}
      },
      "source": [
        "# creating new column with average rents for listings where there is a rent range, and the rent amount for listings with just one rent amount\n",
        "avg_rent = []\n",
        "for x in df['Rent']:\n",
        "  if '-' in x:\n",
        "    avg = round((int(x.split('-')[0]) + int(x.split('-')[-1])) / 2)  #rounding up since rent prices generally don't include decimals\n",
        "    avg_rent.append(avg)\n",
        "  else:\n",
        "    avg_rent.append(x)\n",
        "\n",
        "df['Avg_Rent'] = pd.to_numeric(avg_rent)"
      ],
      "execution_count": 202,
      "outputs": []
    },
    {
      "cell_type": "code",
      "metadata": {
        "id": "vI6MHvmn9FA6",
        "colab_type": "code",
        "colab": {
          "base_uri": "https://localhost:8080/",
          "height": 359
        },
        "outputId": "ac06dfc2-0f37-4e45-b130-03868eccd65f"
      },
      "source": [
        "#making sure this worked\n",
        "df.loc[df['Rent'].str.contains('-'), ['Rent','Avg_Rent']].head(10)"
      ],
      "execution_count": 203,
      "outputs": [
        {
          "output_type": "execute_result",
          "data": {
            "text/html": [
              "<div>\n",
              "<style scoped>\n",
              "    .dataframe tbody tr th:only-of-type {\n",
              "        vertical-align: middle;\n",
              "    }\n",
              "\n",
              "    .dataframe tbody tr th {\n",
              "        vertical-align: top;\n",
              "    }\n",
              "\n",
              "    .dataframe thead th {\n",
              "        text-align: right;\n",
              "    }\n",
              "</style>\n",
              "<table border=\"1\" class=\"dataframe\">\n",
              "  <thead>\n",
              "    <tr style=\"text-align: right;\">\n",
              "      <th></th>\n",
              "      <th>Rent</th>\n",
              "      <th>Avg_Rent</th>\n",
              "    </tr>\n",
              "  </thead>\n",
              "  <tbody>\n",
              "    <tr>\n",
              "      <th>0</th>\n",
              "      <td>2875 - 2995</td>\n",
              "      <td>2935</td>\n",
              "    </tr>\n",
              "    <tr>\n",
              "      <th>65</th>\n",
              "      <td>3230 - 3245</td>\n",
              "      <td>3238</td>\n",
              "    </tr>\n",
              "    <tr>\n",
              "      <th>68</th>\n",
              "      <td>3495 - 3520</td>\n",
              "      <td>3508</td>\n",
              "    </tr>\n",
              "    <tr>\n",
              "      <th>83</th>\n",
              "      <td>2555 - 2783</td>\n",
              "      <td>2669</td>\n",
              "    </tr>\n",
              "    <tr>\n",
              "      <th>88</th>\n",
              "      <td>2577 - 2827</td>\n",
              "      <td>2702</td>\n",
              "    </tr>\n",
              "    <tr>\n",
              "      <th>90</th>\n",
              "      <td>2631 - 3107</td>\n",
              "      <td>2869</td>\n",
              "    </tr>\n",
              "    <tr>\n",
              "      <th>99</th>\n",
              "      <td>2755 - 3217</td>\n",
              "      <td>2986</td>\n",
              "    </tr>\n",
              "    <tr>\n",
              "      <th>107</th>\n",
              "      <td>2884 - 3053</td>\n",
              "      <td>2968</td>\n",
              "    </tr>\n",
              "    <tr>\n",
              "      <th>108</th>\n",
              "      <td>2884 - 2938</td>\n",
              "      <td>2911</td>\n",
              "    </tr>\n",
              "    <tr>\n",
              "      <th>109</th>\n",
              "      <td>2894 - 2948</td>\n",
              "      <td>2921</td>\n",
              "    </tr>\n",
              "  </tbody>\n",
              "</table>\n",
              "</div>"
            ],
            "text/plain": [
              "            Rent  Avg_Rent\n",
              "0    2875 - 2995      2935\n",
              "65   3230 - 3245      3238\n",
              "68   3495 - 3520      3508\n",
              "83   2555 - 2783      2669\n",
              "88   2577 - 2827      2702\n",
              "90   2631 - 3107      2869\n",
              "99   2755 - 3217      2986\n",
              "107  2884 - 3053      2968\n",
              "108  2884 - 2938      2911\n",
              "109  2894 - 2948      2921"
            ]
          },
          "metadata": {
            "tags": []
          },
          "execution_count": 203
        }
      ]
    },
    {
      "cell_type": "markdown",
      "metadata": {
        "id": "hhZsGuQJc_nS",
        "colab_type": "text"
      },
      "source": [
        "#Cleaning Square Footage Column"
      ]
    },
    {
      "cell_type": "code",
      "metadata": {
        "id": "1Y90LDWLyGKo",
        "colab_type": "code",
        "colab": {
          "base_uri": "https://localhost:8080/",
          "height": 238
        },
        "outputId": "94ba3dad-8f71-4e9a-8115-438cc9bc2d9c"
      },
      "source": [
        "df.isna().sum()"
      ],
      "execution_count": 204,
      "outputs": [
        {
          "output_type": "execute_result",
          "data": {
            "text/plain": [
              "Title               0\n",
              "Address             0\n",
              "Bedrooms            0\n",
              "Bathrooms           0\n",
              "Rent                0\n",
              "Square Footage    192\n",
              "Availability        0\n",
              "Amenities           0\n",
              "City                0\n",
              "Zip_Code            0\n",
              "Neighborhood        0\n",
              "Avg_Rent            0\n",
              "dtype: int64"
            ]
          },
          "metadata": {
            "tags": []
          },
          "execution_count": 204
        }
      ]
    },
    {
      "cell_type": "code",
      "metadata": {
        "id": "xJLrQ3cxMkmh",
        "colab_type": "code",
        "colab": {}
      },
      "source": [
        "#removing letters, commas and extra whitespace from square footage column\n",
        "df['Square Footage'] = df['Square Footage'].str.replace('[a-zA-z]','',regex = True).str.replace(',','').str.strip()"
      ],
      "execution_count": 205,
      "outputs": []
    },
    {
      "cell_type": "code",
      "metadata": {
        "id": "JSLLrVTzyKlZ",
        "colab_type": "code",
        "colab": {}
      },
      "source": [
        "# creating new column with average square footage for listings where there is a sqft range, and the square footage for listings with just one sqft amount\n",
        "avg_sqft = []\n",
        "for x in df['Square Footage']:\n",
        "  if '-' in str(x):\n",
        "    avg = round((int(x.split('-')[0]) + int(x.split('-')[-1])) / 2)\n",
        "    avg_sqft.append(avg)\n",
        "  else:\n",
        "    avg_sqft.append(x)\n",
        "df['Avg_Sqft'] = pd.to_numeric(avg_sqft)\n"
      ],
      "execution_count": 206,
      "outputs": []
    },
    {
      "cell_type": "code",
      "metadata": {
        "id": "Ff0E-aFvMEqI",
        "colab_type": "code",
        "colab": {
          "base_uri": "https://localhost:8080/",
          "height": 359
        },
        "outputId": "3080501e-5143-4ea1-ec9b-5984c7cd73a3"
      },
      "source": [
        "#making sure this worked\n",
        "df.loc[df['Square Footage'].str.contains('-', na=False), ['Square Footage','Avg_Sqft']].head(10)"
      ],
      "execution_count": 207,
      "outputs": [
        {
          "output_type": "execute_result",
          "data": {
            "text/html": [
              "<div>\n",
              "<style scoped>\n",
              "    .dataframe tbody tr th:only-of-type {\n",
              "        vertical-align: middle;\n",
              "    }\n",
              "\n",
              "    .dataframe tbody tr th {\n",
              "        vertical-align: top;\n",
              "    }\n",
              "\n",
              "    .dataframe thead th {\n",
              "        text-align: right;\n",
              "    }\n",
              "</style>\n",
              "<table border=\"1\" class=\"dataframe\">\n",
              "  <thead>\n",
              "    <tr style=\"text-align: right;\">\n",
              "      <th></th>\n",
              "      <th>Square Footage</th>\n",
              "      <th>Avg_Sqft</th>\n",
              "    </tr>\n",
              "  </thead>\n",
              "  <tbody>\n",
              "    <tr>\n",
              "      <th>164</th>\n",
              "      <td>455 - 469</td>\n",
              "      <td>462.0</td>\n",
              "    </tr>\n",
              "    <tr>\n",
              "      <th>171</th>\n",
              "      <td>530 - 601</td>\n",
              "      <td>566.0</td>\n",
              "    </tr>\n",
              "    <tr>\n",
              "      <th>177</th>\n",
              "      <td>676 - 721</td>\n",
              "      <td>698.0</td>\n",
              "    </tr>\n",
              "    <tr>\n",
              "      <th>201</th>\n",
              "      <td>526 - 570</td>\n",
              "      <td>548.0</td>\n",
              "    </tr>\n",
              "    <tr>\n",
              "      <th>202</th>\n",
              "      <td>526 - 570</td>\n",
              "      <td>548.0</td>\n",
              "    </tr>\n",
              "    <tr>\n",
              "      <th>203</th>\n",
              "      <td>526 - 570</td>\n",
              "      <td>548.0</td>\n",
              "    </tr>\n",
              "    <tr>\n",
              "      <th>204</th>\n",
              "      <td>610 - 721</td>\n",
              "      <td>666.0</td>\n",
              "    </tr>\n",
              "    <tr>\n",
              "      <th>205</th>\n",
              "      <td>610 - 721</td>\n",
              "      <td>666.0</td>\n",
              "    </tr>\n",
              "    <tr>\n",
              "      <th>206</th>\n",
              "      <td>526 - 572</td>\n",
              "      <td>549.0</td>\n",
              "    </tr>\n",
              "    <tr>\n",
              "      <th>207</th>\n",
              "      <td>526 - 572</td>\n",
              "      <td>549.0</td>\n",
              "    </tr>\n",
              "  </tbody>\n",
              "</table>\n",
              "</div>"
            ],
            "text/plain": [
              "    Square Footage  Avg_Sqft\n",
              "164      455 - 469     462.0\n",
              "171      530 - 601     566.0\n",
              "177      676 - 721     698.0\n",
              "201      526 - 570     548.0\n",
              "202      526 - 570     548.0\n",
              "203      526 - 570     548.0\n",
              "204      610 - 721     666.0\n",
              "205      610 - 721     666.0\n",
              "206      526 - 572     549.0\n",
              "207      526 - 572     549.0"
            ]
          },
          "metadata": {
            "tags": []
          },
          "execution_count": 207
        }
      ]
    },
    {
      "cell_type": "code",
      "metadata": {
        "id": "UxbWT2z5kbQB",
        "colab_type": "code",
        "colab": {
          "base_uri": "https://localhost:8080/",
          "height": 153
        },
        "outputId": "ca0acb16-c4dd-42fe-b0f2-001f03d955da"
      },
      "source": [
        "#getting a sense of how many missing square footage values there are for each bedroom size\n",
        "df.loc[df['Avg_Sqft'].isna()]['Bedrooms'].value_counts()"
      ],
      "execution_count": 208,
      "outputs": [
        {
          "output_type": "execute_result",
          "data": {
            "text/plain": [
              "1    59\n",
              "2    50\n",
              "0    40\n",
              "3    31\n",
              "4    10\n",
              "7     1\n",
              "6     1\n",
              "Name: Bedrooms, dtype: int64"
            ]
          },
          "metadata": {
            "tags": []
          },
          "execution_count": 208
        }
      ]
    },
    {
      "cell_type": "code",
      "metadata": {
        "id": "o-mXEdq_jwzY",
        "colab_type": "code",
        "colab": {
          "base_uri": "https://localhost:8080/",
          "height": 390
        },
        "outputId": "6b792505-66a8-44c1-fa8a-7094aba05713"
      },
      "source": [
        "#getting average square footage by bedroom size\n",
        "averages = round(df.groupby('Bedrooms', as_index = False)['Avg_Sqft'].mean())\n",
        "averages"
      ],
      "execution_count": 209,
      "outputs": [
        {
          "output_type": "execute_result",
          "data": {
            "text/html": [
              "<div>\n",
              "<style scoped>\n",
              "    .dataframe tbody tr th:only-of-type {\n",
              "        vertical-align: middle;\n",
              "    }\n",
              "\n",
              "    .dataframe tbody tr th {\n",
              "        vertical-align: top;\n",
              "    }\n",
              "\n",
              "    .dataframe thead th {\n",
              "        text-align: right;\n",
              "    }\n",
              "</style>\n",
              "<table border=\"1\" class=\"dataframe\">\n",
              "  <thead>\n",
              "    <tr style=\"text-align: right;\">\n",
              "      <th></th>\n",
              "      <th>Bedrooms</th>\n",
              "      <th>Avg_Sqft</th>\n",
              "    </tr>\n",
              "  </thead>\n",
              "  <tbody>\n",
              "    <tr>\n",
              "      <th>0</th>\n",
              "      <td>0</td>\n",
              "      <td>496.0</td>\n",
              "    </tr>\n",
              "    <tr>\n",
              "      <th>1</th>\n",
              "      <td>1</td>\n",
              "      <td>718.0</td>\n",
              "    </tr>\n",
              "    <tr>\n",
              "      <th>2</th>\n",
              "      <td>2</td>\n",
              "      <td>1114.0</td>\n",
              "    </tr>\n",
              "    <tr>\n",
              "      <th>3</th>\n",
              "      <td>3</td>\n",
              "      <td>1518.0</td>\n",
              "    </tr>\n",
              "    <tr>\n",
              "      <th>4</th>\n",
              "      <td>4</td>\n",
              "      <td>1899.0</td>\n",
              "    </tr>\n",
              "    <tr>\n",
              "      <th>5</th>\n",
              "      <td>5</td>\n",
              "      <td>2318.0</td>\n",
              "    </tr>\n",
              "    <tr>\n",
              "      <th>6</th>\n",
              "      <td>6</td>\n",
              "      <td>1430.0</td>\n",
              "    </tr>\n",
              "    <tr>\n",
              "      <th>7</th>\n",
              "      <td>7</td>\n",
              "      <td>NaN</td>\n",
              "    </tr>\n",
              "    <tr>\n",
              "      <th>8</th>\n",
              "      <td>8</td>\n",
              "      <td>3300.0</td>\n",
              "    </tr>\n",
              "    <tr>\n",
              "      <th>9</th>\n",
              "      <td>12</td>\n",
              "      <td>2200.0</td>\n",
              "    </tr>\n",
              "    <tr>\n",
              "      <th>10</th>\n",
              "      <td>13</td>\n",
              "      <td>6272.0</td>\n",
              "    </tr>\n",
              "  </tbody>\n",
              "</table>\n",
              "</div>"
            ],
            "text/plain": [
              "    Bedrooms  Avg_Sqft\n",
              "0          0     496.0\n",
              "1          1     718.0\n",
              "2          2    1114.0\n",
              "3          3    1518.0\n",
              "4          4    1899.0\n",
              "5          5    2318.0\n",
              "6          6    1430.0\n",
              "7          7       NaN\n",
              "8          8    3300.0\n",
              "9         12    2200.0\n",
              "10        13    6272.0"
            ]
          },
          "metadata": {
            "tags": []
          },
          "execution_count": 209
        }
      ]
    },
    {
      "cell_type": "code",
      "metadata": {
        "id": "23SBkhd3l1aK",
        "colab_type": "code",
        "colab": {}
      },
      "source": [
        "#replacing null values in Avg_Sqft column with average square footage for the same bedroom size\n",
        "for i in range (0,7):\n",
        "  df.loc[(df['Avg_Sqft'].isna()) & (df['Bedrooms'] == i),'Avg_Sqft'] = averages['Avg_Sqft'][i]"
      ],
      "execution_count": 210,
      "outputs": []
    },
    {
      "cell_type": "code",
      "metadata": {
        "id": "X8NSxMTwpk1G",
        "colab_type": "code",
        "colab": {}
      },
      "source": [
        "# dropping rows where bedroom size is 7 or higher, these are outliers anyway and it will address the missing square footage value for the one 7 bedroom home/apartment that we have\n",
        "df.drop(df.loc[df['Bedrooms'] >= 7].index, axis = 0, inplace = True)"
      ],
      "execution_count": 211,
      "outputs": []
    },
    {
      "cell_type": "code",
      "metadata": {
        "id": "8rPWpbl9-ohX",
        "colab_type": "code",
        "colab": {
          "base_uri": "https://localhost:8080/",
          "height": 34
        },
        "outputId": "28a69ade-5fcb-41fe-db41-ac46fdbd0531"
      },
      "source": [
        "#verifying that null values were successfully replaced\n",
        "df.Avg_Sqft.isna().sum()"
      ],
      "execution_count": 212,
      "outputs": [
        {
          "output_type": "execute_result",
          "data": {
            "text/plain": [
              "0"
            ]
          },
          "metadata": {
            "tags": []
          },
          "execution_count": 212
        }
      ]
    },
    {
      "cell_type": "markdown",
      "metadata": {
        "id": "QuyX3zhAP52J",
        "colab_type": "text"
      },
      "source": [
        "# NLP Model for Amenities Column\n",
        "Trying to see if training an NLP model using the bag of words approach will help gain insight on useful features to extract from the Amenities column."
      ]
    },
    {
      "cell_type": "code",
      "metadata": {
        "id": "rlPVlX3rP-yj",
        "colab_type": "code",
        "colab": {
          "base_uri": "https://localhost:8080/",
          "height": 136
        },
        "outputId": "5e7ec834-fe53-4100-d766-af7e678aa0d8"
      },
      "source": [
        "from matplotlib import pyplot as plt\n",
        "import seaborn as sns\n",
        "from sklearn.feature_extraction.text import CountVectorizer\n",
        "from sklearn.metrics import confusion_matrix\n",
        "from sklearn import metrics\n",
        "from sklearn.model_selection import train_test_split\n",
        "from sklearn.metrics import mean_squared_error \n",
        "from sklearn.metrics import r2_score\n",
        "from sklearn.ensemble import RandomForestRegressor\n",
        "from nltk.stem.porter import PorterStemmer\n",
        "from nltk import word_tokenize, WordNetLemmatizer\n",
        "from nltk.corpus import stopwords\n",
        "import nltk\n",
        "nltk.download('stopwords')\n",
        "nltk.download('wordnet')\n",
        "nltk.download('punkt')"
      ],
      "execution_count": 213,
      "outputs": [
        {
          "output_type": "stream",
          "text": [
            "[nltk_data] Downloading package stopwords to /root/nltk_data...\n",
            "[nltk_data]   Package stopwords is already up-to-date!\n",
            "[nltk_data] Downloading package wordnet to /root/nltk_data...\n",
            "[nltk_data]   Package wordnet is already up-to-date!\n",
            "[nltk_data] Downloading package punkt to /root/nltk_data...\n",
            "[nltk_data]   Package punkt is already up-to-date!\n"
          ],
          "name": "stdout"
        },
        {
          "output_type": "execute_result",
          "data": {
            "text/plain": [
              "True"
            ]
          },
          "metadata": {
            "tags": []
          },
          "execution_count": 213
        }
      ]
    },
    {
      "cell_type": "code",
      "metadata": {
        "id": "_dZLdp6kQAZE",
        "colab_type": "code",
        "colab": {
          "base_uri": "https://localhost:8080/",
          "height": 279
        },
        "outputId": "7710f580-c9ac-4e81-cf02-43e7e81dc849"
      },
      "source": [
        "#plotting length of amenities descriptions\n",
        "length = df['Amenities'].str.len()\n",
        "sns.distplot(length)\n",
        "plt.show()"
      ],
      "execution_count": 214,
      "outputs": [
        {
          "output_type": "display_data",
          "data": {
            "image/png": "[encoded data removed]",
            "text/plain": [
              "<Figure size 432x288 with 1 Axes>"
            ]
          },
          "metadata": {
            "tags": [],
            "needs_background": "light"
          }
        }
      ]
    },
    {
      "cell_type": "code",
      "metadata": {
        "id": "TFifISpWQJcD",
        "colab_type": "code",
        "colab": {}
      },
      "source": [
        "#getting set of English stopwords\n",
        "stopword_set = set(stopwords.words('english'))\n",
        "\n",
        "#NLP processing\n",
        "lemma = WordNetLemmatizer()"
      ],
      "execution_count": 215,
      "outputs": []
    },
    {
      "cell_type": "code",
      "metadata": {
        "id": "8WzdtDk0QT3J",
        "colab_type": "code",
        "colab": {
          "base_uri": "https://localhost:8080/",
          "height": 207
        },
        "outputId": "c2af5926-090f-4f1a-ef83-fdc1be528f56"
      },
      "source": [
        "#clean the raw text\n",
        "amenities_text = []\n",
        "for amenity in df['Amenities']:\n",
        "  text = re.sub('[^a-zA-z]',\" \", str(amenity))\n",
        "  text = text.lower()\n",
        "  text = word_tokenize(text, language = 'english')\n",
        "  text = [lemma.lemmatize(word) for word in text if(word) not in stopword_set]\n",
        "  text = ' '.join(text)\n",
        "  amenities_text.append(text)\n",
        "\n",
        "amenities_text[:10]"
      ],
      "execution_count": 216,
      "outputs": [
        {
          "output_type": "execute_result",
          "data": {
            "text/plain": [
              "['smoke free community air conditioning bicycle storage brand new luxury living controlled access courtyard firepit dog washing station elevator fiber internet gourmet kitchen home full size washer dryer individual climate control minute great shopping amp dining motorized parking lift motorized parking lift noise reducing dual pane window noise reducing insulated dual pane window package locker pet allowed pet welcome weight restriction plank flooring quartz countertop quartz counter top tile backsplash rooftop terrace barbecue rooftop terrace downtown view secure bike parking stainless steel appliance sweeping view oakland hill sweeping view san francisco view sf oakland deposit monthly pet rent lb weight limit pet limit built unit story month month month month month month month month month month month month month month month month maintenance site online service pet care pet washing station public transportation elevator multi use room roof terrace sundeck courtyard grill patio grill bike storage individual locking bedroom private bathroom study lounge high speed internet access wi fi washer dryer unit air conditioning heating cable ready tub shower dishwasher disposal ice maker granite countertop stainless steel appliance eat kitchen kitchen microwave oven range refrigerator freezer hardwood floor vinyl flooring dining room view linen closet double pane window window covering package service property manager site',\n",
              " 'smoke free community air conditioning bicycle storage brand new luxury living controlled access courtyard firepit dog washing station elevator fiber internet gourmet kitchen home full size washer dryer individual climate control minute great shopping amp dining motorized parking lift motorized parking lift noise reducing dual pane window noise reducing insulated dual pane window package locker pet allowed pet welcome weight restriction plank flooring quartz countertop quartz counter top tile backsplash rooftop terrace barbecue rooftop terrace downtown view secure bike parking stainless steel appliance sweeping view oakland hill sweeping view san francisco view sf oakland deposit monthly pet rent lb weight limit pet limit built unit story month month month month month month month month month month month month month month month month maintenance site online service pet care pet washing station public transportation elevator multi use room roof terrace sundeck courtyard grill patio grill bike storage individual locking bedroom private bathroom study lounge high speed internet access wi fi washer dryer unit air conditioning heating cable ready tub shower dishwasher disposal ice maker granite countertop stainless steel appliance eat kitchen kitchen microwave oven range refrigerator freezer hardwood floor vinyl flooring dining room view linen closet double pane window window covering package service property manager site',\n",
              " 'smoke free community air conditioning bicycle storage brand new luxury living controlled access courtyard firepit dog washing station elevator fiber internet gourmet kitchen home full size washer dryer individual climate control minute great shopping amp dining motorized parking lift motorized parking lift noise reducing dual pane window noise reducing insulated dual pane window package locker pet allowed pet welcome weight restriction plank flooring quartz countertop quartz counter top tile backsplash rooftop terrace barbecue rooftop terrace downtown view secure bike parking stainless steel appliance sweeping view oakland hill sweeping view san francisco view sf oakland deposit monthly pet rent lb weight limit pet limit built unit story month month month month month month month month month month month month month month month month maintenance site online service pet care pet washing station public transportation elevator multi use room roof terrace sundeck courtyard grill patio grill bike storage individual locking bedroom private bathroom study lounge high speed internet access wi fi washer dryer unit air conditioning heating cable ready tub shower dishwasher disposal ice maker granite countertop stainless steel appliance eat kitchen kitchen microwave oven range refrigerator freezer hardwood floor vinyl flooring dining room view linen closet double pane window window covering package service property manager site',\n",
              " 'smoke free community air conditioning bicycle storage brand new luxury living controlled access courtyard firepit dog washing station elevator fiber internet gourmet kitchen home full size washer dryer individual climate control minute great shopping amp dining motorized parking lift motorized parking lift noise reducing dual pane window noise reducing insulated dual pane window package locker pet allowed pet welcome weight restriction plank flooring quartz countertop quartz counter top tile backsplash rooftop terrace barbecue rooftop terrace downtown view secure bike parking stainless steel appliance sweeping view oakland hill sweeping view san francisco view sf oakland deposit monthly pet rent lb weight limit pet limit built unit story month month month month month month month month month month month month month month month month maintenance site online service pet care pet washing station public transportation elevator multi use room roof terrace sundeck courtyard grill patio grill bike storage individual locking bedroom private bathroom study lounge high speed internet access wi fi washer dryer unit air conditioning heating cable ready tub shower dishwasher disposal ice maker granite countertop stainless steel appliance eat kitchen kitchen microwave oven range refrigerator freezer hardwood floor vinyl flooring dining room view linen closet double pane window window covering package service property manager site',\n",
              " 'smoke free community air conditioning bicycle storage brand new luxury living controlled access courtyard firepit dog washing station elevator fiber internet gourmet kitchen home full size washer dryer individual climate control minute great shopping amp dining motorized parking lift motorized parking lift noise reducing dual pane window noise reducing insulated dual pane window package locker pet allowed pet welcome weight restriction plank flooring quartz countertop quartz counter top tile backsplash rooftop terrace barbecue rooftop terrace downtown view secure bike parking stainless steel appliance sweeping view oakland hill sweeping view san francisco view sf oakland deposit monthly pet rent lb weight limit pet limit built unit story month month month month month month month month month month month month month month month month maintenance site online service pet care pet washing station public transportation elevator multi use room roof terrace sundeck courtyard grill patio grill bike storage individual locking bedroom private bathroom study lounge high speed internet access wi fi washer dryer unit air conditioning heating cable ready tub shower dishwasher disposal ice maker granite countertop stainless steel appliance eat kitchen kitchen microwave oven range refrigerator freezer hardwood floor vinyl flooring dining room view linen closet double pane window window covering package service property manager site',\n",
              " 'smoke free community air conditioning bicycle storage brand new luxury living controlled access courtyard firepit dog washing station elevator fiber internet gourmet kitchen home full size washer dryer individual climate control minute great shopping amp dining motorized parking lift motorized parking lift noise reducing dual pane window noise reducing insulated dual pane window package locker pet allowed pet welcome weight restriction plank flooring quartz countertop quartz counter top tile backsplash rooftop terrace barbecue rooftop terrace downtown view secure bike parking stainless steel appliance sweeping view oakland hill sweeping view san francisco view sf oakland deposit monthly pet rent lb weight limit pet limit built unit story month month month month month month month month month month month month month month month month maintenance site online service pet care pet washing station public transportation elevator multi use room roof terrace sundeck courtyard grill patio grill bike storage individual locking bedroom private bathroom study lounge high speed internet access wi fi washer dryer unit air conditioning heating cable ready tub shower dishwasher disposal ice maker granite countertop stainless steel appliance eat kitchen kitchen microwave oven range refrigerator freezer hardwood floor vinyl flooring dining room view linen closet double pane window window covering package service property manager site',\n",
              " 'smoke free community air conditioning bicycle storage brand new luxury living controlled access courtyard firepit dog washing station elevator fiber internet gourmet kitchen home full size washer dryer individual climate control minute great shopping amp dining motorized parking lift motorized parking lift noise reducing dual pane window noise reducing insulated dual pane window package locker pet allowed pet welcome weight restriction plank flooring quartz countertop quartz counter top tile backsplash rooftop terrace barbecue rooftop terrace downtown view secure bike parking stainless steel appliance sweeping view oakland hill sweeping view san francisco view sf oakland deposit monthly pet rent lb weight limit pet limit built unit story month month month month month month month month month month month month month month month month maintenance site online service pet care pet washing station public transportation elevator multi use room roof terrace sundeck courtyard grill patio grill bike storage individual locking bedroom private bathroom study lounge high speed internet access wi fi washer dryer unit air conditioning heating cable ready tub shower dishwasher disposal ice maker granite countertop stainless steel appliance eat kitchen kitchen microwave oven range refrigerator freezer hardwood floor vinyl flooring dining room view linen closet double pane window window covering package service property manager site',\n",
              " 'smoke free community air conditioning bicycle storage brand new luxury living controlled access courtyard firepit dog washing station elevator fiber internet gourmet kitchen home full size washer dryer individual climate control minute great shopping amp dining motorized parking lift motorized parking lift noise reducing dual pane window noise reducing insulated dual pane window package locker pet allowed pet welcome weight restriction plank flooring quartz countertop quartz counter top tile backsplash rooftop terrace barbecue rooftop terrace downtown view secure bike parking stainless steel appliance sweeping view oakland hill sweeping view san francisco view sf oakland deposit monthly pet rent lb weight limit pet limit built unit story month month month month month month month month month month month month month month month month maintenance site online service pet care pet washing station public transportation elevator multi use room roof terrace sundeck courtyard grill patio grill bike storage individual locking bedroom private bathroom study lounge high speed internet access wi fi washer dryer unit air conditioning heating cable ready tub shower dishwasher disposal ice maker granite countertop stainless steel appliance eat kitchen kitchen microwave oven range refrigerator freezer hardwood floor vinyl flooring dining room view linen closet double pane window window covering package service property manager site',\n",
              " 'smoke free community air conditioning bicycle storage brand new luxury living controlled access courtyard firepit dog washing station elevator fiber internet gourmet kitchen home full size washer dryer individual climate control minute great shopping amp dining motorized parking lift motorized parking lift noise reducing dual pane window noise reducing insulated dual pane window package locker pet allowed pet welcome weight restriction plank flooring quartz countertop quartz counter top tile backsplash rooftop terrace barbecue rooftop terrace downtown view secure bike parking stainless steel appliance sweeping view oakland hill sweeping view san francisco view sf oakland deposit monthly pet rent lb weight limit pet limit built unit story month month month month month month month month month month month month month month month month maintenance site online service pet care pet washing station public transportation elevator multi use room roof terrace sundeck courtyard grill patio grill bike storage individual locking bedroom private bathroom study lounge high speed internet access wi fi washer dryer unit air conditioning heating cable ready tub shower dishwasher disposal ice maker granite countertop stainless steel appliance eat kitchen kitchen microwave oven range refrigerator freezer hardwood floor vinyl flooring dining room view linen closet double pane window window covering package service property manager site',\n",
              " 'smoke free community air conditioning bicycle storage brand new luxury living controlled access courtyard firepit dog washing station elevator fiber internet gourmet kitchen home full size washer dryer individual climate control minute great shopping amp dining motorized parking lift motorized parking lift noise reducing dual pane window noise reducing insulated dual pane window package locker pet allowed pet welcome weight restriction plank flooring quartz countertop quartz counter top tile backsplash rooftop terrace barbecue rooftop terrace downtown view secure bike parking stainless steel appliance sweeping view oakland hill sweeping view san francisco view sf oakland deposit monthly pet rent lb weight limit pet limit built unit story month month month month month month month month month month month month month month month month maintenance site online service pet care pet washing station public transportation elevator multi use room roof terrace sundeck courtyard grill patio grill bike storage individual locking bedroom private bathroom study lounge high speed internet access wi fi washer dryer unit air conditioning heating cable ready tub shower dishwasher disposal ice maker granite countertop stainless steel appliance eat kitchen kitchen microwave oven range refrigerator freezer hardwood floor vinyl flooring dining room view linen closet double pane window window covering package service property manager site']"
            ]
          },
          "metadata": {
            "tags": []
          },
          "execution_count": 216
        }
      ]
    },
    {
      "cell_type": "code",
      "metadata": {
        "id": "3g0wkbnhQpHx",
        "colab_type": "code",
        "colab": {
          "base_uri": "https://localhost:8080/",
          "height": 253
        },
        "outputId": "b4e77a90-1850-4376-befc-880babd39399"
      },
      "source": [
        "#create the bag of words model\n",
        "cv = CountVectorizer(max_features = 1500)\n",
        "amenities = cv.fit_transform(amenities_text).toarray()\n",
        "\n",
        "#covert amenities to dataframe\n",
        "amenities = pd.DataFrame(amenities, columns = cv.get_feature_names())\n",
        "amenities.head()"
      ],
      "execution_count": 217,
      "outputs": [
        {
          "output_type": "execute_result",
          "data": {
            "text/html": [
              "<div>\n",
              "<style scoped>\n",
              "    .dataframe tbody tr th:only-of-type {\n",
              "        vertical-align: middle;\n",
              "    }\n",
              "\n",
              "    .dataframe tbody tr th {\n",
              "        vertical-align: top;\n",
              "    }\n",
              "\n",
              "    .dataframe thead th {\n",
              "        text-align: right;\n",
              "    }\n",
              "</style>\n",
              "<table border=\"1\" class=\"dataframe\">\n",
              "  <thead>\n",
              "    <tr style=\"text-align: right;\">\n",
              "      <th></th>\n",
              "      <th>abundant</th>\n",
              "      <th>ac</th>\n",
              "      <th>academic</th>\n",
              "      <th>accent</th>\n",
              "      <th>acceptance</th>\n",
              "      <th>accepted</th>\n",
              "      <th>accepts</th>\n",
              "      <th>access</th>\n",
              "      <th>accessible</th>\n",
              "      <th>accommodate</th>\n",
              "      <th>acre</th>\n",
              "      <th>across</th>\n",
              "      <th>activity</th>\n",
              "      <th>ada</th>\n",
              "      <th>additional</th>\n",
              "      <th>adjacent</th>\n",
              "      <th>adjustable</th>\n",
              "      <th>advantage</th>\n",
              "      <th>aerobic</th>\n",
              "      <th>aerobics</th>\n",
              "      <th>air</th>\n",
              "      <th>airport</th>\n",
              "      <th>airy</th>\n",
              "      <th>alameda</th>\n",
              "      <th>alarm</th>\n",
              "      <th>alcove</th>\n",
              "      <th>alexa</th>\n",
              "      <th>alfred</th>\n",
              "      <th>alfresco</th>\n",
              "      <th>allowed</th>\n",
              "      <th>alone</th>\n",
              "      <th>amazing</th>\n",
              "      <th>amazon</th>\n",
              "      <th>amenity</th>\n",
              "      <th>amp</th>\n",
              "      <th>ample</th>\n",
              "      <th>amtrak</th>\n",
              "      <th>apartment</th>\n",
              "      <th>apartmentratings</th>\n",
              "      <th>app</th>\n",
              "      <th>...</th>\n",
              "      <th>westfield</th>\n",
              "      <th>wet</th>\n",
              "      <th>wheel</th>\n",
              "      <th>wheelchair</th>\n",
              "      <th>whirlpool</th>\n",
              "      <th>white</th>\n",
              "      <th>whole</th>\n",
              "      <th>wi</th>\n",
              "      <th>wide</th>\n",
              "      <th>wifi</th>\n",
              "      <th>william</th>\n",
              "      <th>willow</th>\n",
              "      <th>window</th>\n",
              "      <th>wine</th>\n",
              "      <th>winning</th>\n",
              "      <th>wired</th>\n",
              "      <th>wireless</th>\n",
              "      <th>wiring</th>\n",
              "      <th>within</th>\n",
              "      <th>wood</th>\n",
              "      <th>woodstyle</th>\n",
              "      <th>wool</th>\n",
              "      <th>work</th>\n",
              "      <th>working</th>\n",
              "      <th>workshop</th>\n",
              "      <th>workspace</th>\n",
              "      <th>workstation</th>\n",
              "      <th>worthy</th>\n",
              "      <th>woven</th>\n",
              "      <th>wright</th>\n",
              "      <th>xfinity</th>\n",
              "      <th>yard</th>\n",
              "      <th>year</th>\n",
              "      <th>yelena</th>\n",
              "      <th>yoga</th>\n",
              "      <th>zen</th>\n",
              "      <th>zip</th>\n",
              "      <th>zipcar</th>\n",
              "      <th>zipcars</th>\n",
              "      <th>zone</th>\n",
              "    </tr>\n",
              "  </thead>\n",
              "  <tbody>\n",
              "    <tr>\n",
              "      <th>0</th>\n",
              "      <td>0</td>\n",
              "      <td>0</td>\n",
              "      <td>0</td>\n",
              "      <td>0</td>\n",
              "      <td>0</td>\n",
              "      <td>0</td>\n",
              "      <td>0</td>\n",
              "      <td>2</td>\n",
              "      <td>0</td>\n",
              "      <td>0</td>\n",
              "      <td>0</td>\n",
              "      <td>0</td>\n",
              "      <td>0</td>\n",
              "      <td>0</td>\n",
              "      <td>0</td>\n",
              "      <td>0</td>\n",
              "      <td>0</td>\n",
              "      <td>0</td>\n",
              "      <td>0</td>\n",
              "      <td>0</td>\n",
              "      <td>2</td>\n",
              "      <td>0</td>\n",
              "      <td>0</td>\n",
              "      <td>0</td>\n",
              "      <td>0</td>\n",
              "      <td>0</td>\n",
              "      <td>0</td>\n",
              "      <td>0</td>\n",
              "      <td>0</td>\n",
              "      <td>1</td>\n",
              "      <td>0</td>\n",
              "      <td>0</td>\n",
              "      <td>0</td>\n",
              "      <td>0</td>\n",
              "      <td>1</td>\n",
              "      <td>0</td>\n",
              "      <td>0</td>\n",
              "      <td>0</td>\n",
              "      <td>0</td>\n",
              "      <td>0</td>\n",
              "      <td>...</td>\n",
              "      <td>0</td>\n",
              "      <td>0</td>\n",
              "      <td>0</td>\n",
              "      <td>0</td>\n",
              "      <td>0</td>\n",
              "      <td>0</td>\n",
              "      <td>0</td>\n",
              "      <td>1</td>\n",
              "      <td>0</td>\n",
              "      <td>0</td>\n",
              "      <td>0</td>\n",
              "      <td>0</td>\n",
              "      <td>4</td>\n",
              "      <td>0</td>\n",
              "      <td>0</td>\n",
              "      <td>0</td>\n",
              "      <td>0</td>\n",
              "      <td>0</td>\n",
              "      <td>0</td>\n",
              "      <td>0</td>\n",
              "      <td>0</td>\n",
              "      <td>0</td>\n",
              "      <td>0</td>\n",
              "      <td>0</td>\n",
              "      <td>0</td>\n",
              "      <td>0</td>\n",
              "      <td>0</td>\n",
              "      <td>0</td>\n",
              "      <td>0</td>\n",
              "      <td>0</td>\n",
              "      <td>0</td>\n",
              "      <td>0</td>\n",
              "      <td>0</td>\n",
              "      <td>0</td>\n",
              "      <td>0</td>\n",
              "      <td>0</td>\n",
              "      <td>0</td>\n",
              "      <td>0</td>\n",
              "      <td>0</td>\n",
              "      <td>0</td>\n",
              "    </tr>\n",
              "    <tr>\n",
              "      <th>1</th>\n",
              "      <td>0</td>\n",
              "      <td>0</td>\n",
              "      <td>0</td>\n",
              "      <td>0</td>\n",
              "      <td>0</td>\n",
              "      <td>0</td>\n",
              "      <td>0</td>\n",
              "      <td>2</td>\n",
              "      <td>0</td>\n",
              "      <td>0</td>\n",
              "      <td>0</td>\n",
              "      <td>0</td>\n",
              "      <td>0</td>\n",
              "      <td>0</td>\n",
              "      <td>0</td>\n",
              "      <td>0</td>\n",
              "      <td>0</td>\n",
              "      <td>0</td>\n",
              "      <td>0</td>\n",
              "      <td>0</td>\n",
              "      <td>2</td>\n",
              "      <td>0</td>\n",
              "      <td>0</td>\n",
              "      <td>0</td>\n",
              "      <td>0</td>\n",
              "      <td>0</td>\n",
              "      <td>0</td>\n",
              "      <td>0</td>\n",
              "      <td>0</td>\n",
              "      <td>1</td>\n",
              "      <td>0</td>\n",
              "      <td>0</td>\n",
              "      <td>0</td>\n",
              "      <td>0</td>\n",
              "      <td>1</td>\n",
              "      <td>0</td>\n",
              "      <td>0</td>\n",
              "      <td>0</td>\n",
              "      <td>0</td>\n",
              "      <td>0</td>\n",
              "      <td>...</td>\n",
              "      <td>0</td>\n",
              "      <td>0</td>\n",
              "      <td>0</td>\n",
              "      <td>0</td>\n",
              "      <td>0</td>\n",
              "      <td>0</td>\n",
              "      <td>0</td>\n",
              "      <td>1</td>\n",
              "      <td>0</td>\n",
              "      <td>0</td>\n",
              "      <td>0</td>\n",
              "      <td>0</td>\n",
              "      <td>4</td>\n",
              "      <td>0</td>\n",
              "      <td>0</td>\n",
              "      <td>0</td>\n",
              "      <td>0</td>\n",
              "      <td>0</td>\n",
              "      <td>0</td>\n",
              "      <td>0</td>\n",
              "      <td>0</td>\n",
              "      <td>0</td>\n",
              "      <td>0</td>\n",
              "      <td>0</td>\n",
              "      <td>0</td>\n",
              "      <td>0</td>\n",
              "      <td>0</td>\n",
              "      <td>0</td>\n",
              "      <td>0</td>\n",
              "      <td>0</td>\n",
              "      <td>0</td>\n",
              "      <td>0</td>\n",
              "      <td>0</td>\n",
              "      <td>0</td>\n",
              "      <td>0</td>\n",
              "      <td>0</td>\n",
              "      <td>0</td>\n",
              "      <td>0</td>\n",
              "      <td>0</td>\n",
              "      <td>0</td>\n",
              "    </tr>\n",
              "    <tr>\n",
              "      <th>2</th>\n",
              "      <td>0</td>\n",
              "      <td>0</td>\n",
              "      <td>0</td>\n",
              "      <td>0</td>\n",
              "      <td>0</td>\n",
              "      <td>0</td>\n",
              "      <td>0</td>\n",
              "      <td>2</td>\n",
              "      <td>0</td>\n",
              "      <td>0</td>\n",
              "      <td>0</td>\n",
              "      <td>0</td>\n",
              "      <td>0</td>\n",
              "      <td>0</td>\n",
              "      <td>0</td>\n",
              "      <td>0</td>\n",
              "      <td>0</td>\n",
              "      <td>0</td>\n",
              "      <td>0</td>\n",
              "      <td>0</td>\n",
              "      <td>2</td>\n",
              "      <td>0</td>\n",
              "      <td>0</td>\n",
              "      <td>0</td>\n",
              "      <td>0</td>\n",
              "      <td>0</td>\n",
              "      <td>0</td>\n",
              "      <td>0</td>\n",
              "      <td>0</td>\n",
              "      <td>1</td>\n",
              "      <td>0</td>\n",
              "      <td>0</td>\n",
              "      <td>0</td>\n",
              "      <td>0</td>\n",
              "      <td>1</td>\n",
              "      <td>0</td>\n",
              "      <td>0</td>\n",
              "      <td>0</td>\n",
              "      <td>0</td>\n",
              "      <td>0</td>\n",
              "      <td>...</td>\n",
              "      <td>0</td>\n",
              "      <td>0</td>\n",
              "      <td>0</td>\n",
              "      <td>0</td>\n",
              "      <td>0</td>\n",
              "      <td>0</td>\n",
              "      <td>0</td>\n",
              "      <td>1</td>\n",
              "      <td>0</td>\n",
              "      <td>0</td>\n",
              "      <td>0</td>\n",
              "      <td>0</td>\n",
              "      <td>4</td>\n",
              "      <td>0</td>\n",
              "      <td>0</td>\n",
              "      <td>0</td>\n",
              "      <td>0</td>\n",
              "      <td>0</td>\n",
              "      <td>0</td>\n",
              "      <td>0</td>\n",
              "      <td>0</td>\n",
              "      <td>0</td>\n",
              "      <td>0</td>\n",
              "      <td>0</td>\n",
              "      <td>0</td>\n",
              "      <td>0</td>\n",
              "      <td>0</td>\n",
              "      <td>0</td>\n",
              "      <td>0</td>\n",
              "      <td>0</td>\n",
              "      <td>0</td>\n",
              "      <td>0</td>\n",
              "      <td>0</td>\n",
              "      <td>0</td>\n",
              "      <td>0</td>\n",
              "      <td>0</td>\n",
              "      <td>0</td>\n",
              "      <td>0</td>\n",
              "      <td>0</td>\n",
              "      <td>0</td>\n",
              "    </tr>\n",
              "    <tr>\n",
              "      <th>3</th>\n",
              "      <td>0</td>\n",
              "      <td>0</td>\n",
              "      <td>0</td>\n",
              "      <td>0</td>\n",
              "      <td>0</td>\n",
              "      <td>0</td>\n",
              "      <td>0</td>\n",
              "      <td>2</td>\n",
              "      <td>0</td>\n",
              "      <td>0</td>\n",
              "      <td>0</td>\n",
              "      <td>0</td>\n",
              "      <td>0</td>\n",
              "      <td>0</td>\n",
              "      <td>0</td>\n",
              "      <td>0</td>\n",
              "      <td>0</td>\n",
              "      <td>0</td>\n",
              "      <td>0</td>\n",
              "      <td>0</td>\n",
              "      <td>2</td>\n",
              "      <td>0</td>\n",
              "      <td>0</td>\n",
              "      <td>0</td>\n",
              "      <td>0</td>\n",
              "      <td>0</td>\n",
              "      <td>0</td>\n",
              "      <td>0</td>\n",
              "      <td>0</td>\n",
              "      <td>1</td>\n",
              "      <td>0</td>\n",
              "      <td>0</td>\n",
              "      <td>0</td>\n",
              "      <td>0</td>\n",
              "      <td>1</td>\n",
              "      <td>0</td>\n",
              "      <td>0</td>\n",
              "      <td>0</td>\n",
              "      <td>0</td>\n",
              "      <td>0</td>\n",
              "      <td>...</td>\n",
              "      <td>0</td>\n",
              "      <td>0</td>\n",
              "      <td>0</td>\n",
              "      <td>0</td>\n",
              "      <td>0</td>\n",
              "      <td>0</td>\n",
              "      <td>0</td>\n",
              "      <td>1</td>\n",
              "      <td>0</td>\n",
              "      <td>0</td>\n",
              "      <td>0</td>\n",
              "      <td>0</td>\n",
              "      <td>4</td>\n",
              "      <td>0</td>\n",
              "      <td>0</td>\n",
              "      <td>0</td>\n",
              "      <td>0</td>\n",
              "      <td>0</td>\n",
              "      <td>0</td>\n",
              "      <td>0</td>\n",
              "      <td>0</td>\n",
              "      <td>0</td>\n",
              "      <td>0</td>\n",
              "      <td>0</td>\n",
              "      <td>0</td>\n",
              "      <td>0</td>\n",
              "      <td>0</td>\n",
              "      <td>0</td>\n",
              "      <td>0</td>\n",
              "      <td>0</td>\n",
              "      <td>0</td>\n",
              "      <td>0</td>\n",
              "      <td>0</td>\n",
              "      <td>0</td>\n",
              "      <td>0</td>\n",
              "      <td>0</td>\n",
              "      <td>0</td>\n",
              "      <td>0</td>\n",
              "      <td>0</td>\n",
              "      <td>0</td>\n",
              "    </tr>\n",
              "    <tr>\n",
              "      <th>4</th>\n",
              "      <td>0</td>\n",
              "      <td>0</td>\n",
              "      <td>0</td>\n",
              "      <td>0</td>\n",
              "      <td>0</td>\n",
              "      <td>0</td>\n",
              "      <td>0</td>\n",
              "      <td>2</td>\n",
              "      <td>0</td>\n",
              "      <td>0</td>\n",
              "      <td>0</td>\n",
              "      <td>0</td>\n",
              "      <td>0</td>\n",
              "      <td>0</td>\n",
              "      <td>0</td>\n",
              "      <td>0</td>\n",
              "      <td>0</td>\n",
              "      <td>0</td>\n",
              "      <td>0</td>\n",
              "      <td>0</td>\n",
              "      <td>2</td>\n",
              "      <td>0</td>\n",
              "      <td>0</td>\n",
              "      <td>0</td>\n",
              "      <td>0</td>\n",
              "      <td>0</td>\n",
              "      <td>0</td>\n",
              "      <td>0</td>\n",
              "      <td>0</td>\n",
              "      <td>1</td>\n",
              "      <td>0</td>\n",
              "      <td>0</td>\n",
              "      <td>0</td>\n",
              "      <td>0</td>\n",
              "      <td>1</td>\n",
              "      <td>0</td>\n",
              "      <td>0</td>\n",
              "      <td>0</td>\n",
              "      <td>0</td>\n",
              "      <td>0</td>\n",
              "      <td>...</td>\n",
              "      <td>0</td>\n",
              "      <td>0</td>\n",
              "      <td>0</td>\n",
              "      <td>0</td>\n",
              "      <td>0</td>\n",
              "      <td>0</td>\n",
              "      <td>0</td>\n",
              "      <td>1</td>\n",
              "      <td>0</td>\n",
              "      <td>0</td>\n",
              "      <td>0</td>\n",
              "      <td>0</td>\n",
              "      <td>4</td>\n",
              "      <td>0</td>\n",
              "      <td>0</td>\n",
              "      <td>0</td>\n",
              "      <td>0</td>\n",
              "      <td>0</td>\n",
              "      <td>0</td>\n",
              "      <td>0</td>\n",
              "      <td>0</td>\n",
              "      <td>0</td>\n",
              "      <td>0</td>\n",
              "      <td>0</td>\n",
              "      <td>0</td>\n",
              "      <td>0</td>\n",
              "      <td>0</td>\n",
              "      <td>0</td>\n",
              "      <td>0</td>\n",
              "      <td>0</td>\n",
              "      <td>0</td>\n",
              "      <td>0</td>\n",
              "      <td>0</td>\n",
              "      <td>0</td>\n",
              "      <td>0</td>\n",
              "      <td>0</td>\n",
              "      <td>0</td>\n",
              "      <td>0</td>\n",
              "      <td>0</td>\n",
              "      <td>0</td>\n",
              "    </tr>\n",
              "  </tbody>\n",
              "</table>\n",
              "<p>5 rows × 1500 columns</p>\n",
              "</div>"
            ],
            "text/plain": [
              "   abundant  ac  academic  accent  acceptance  ...  zen  zip  zipcar  zipcars  zone\n",
              "0         0   0         0       0           0  ...    0    0       0        0     0\n",
              "1         0   0         0       0           0  ...    0    0       0        0     0\n",
              "2         0   0         0       0           0  ...    0    0       0        0     0\n",
              "3         0   0         0       0           0  ...    0    0       0        0     0\n",
              "4         0   0         0       0           0  ...    0    0       0        0     0\n",
              "\n",
              "[5 rows x 1500 columns]"
            ]
          },
          "metadata": {
            "tags": []
          },
          "execution_count": 217
        }
      ]
    },
    {
      "cell_type": "code",
      "metadata": {
        "id": "kNuwetmDQw0P",
        "colab_type": "code",
        "colab": {}
      },
      "source": [
        "#setting target variable and independent variables and splitting dataset for NLP model\n",
        "y = pd.to_numeric(df['Avg_Rent'])\n",
        "X = pd.concat([amenities.reset_index(drop = True), df['Bedrooms'].reset_index(drop = True)], axis = 1, sort = False)\n",
        "\n",
        "X_train, X_test, y_train, y_test = train_test_split(X, y, test_size = 0.2, random_state = 24)"
      ],
      "execution_count": 218,
      "outputs": []
    },
    {
      "cell_type": "code",
      "metadata": {
        "id": "Idrz0NCAHXuP",
        "colab_type": "code",
        "colab": {}
      },
      "source": [
        "# choosing to use random forest regression model because it's easy to see feature importances\n",
        "rf = RandomForestRegressor(n_estimators = 100)\n",
        "\n",
        "rf.fit(X_train, y_train)\n",
        "pred = rf.predict(X_test)"
      ],
      "execution_count": 219,
      "outputs": []
    },
    {
      "cell_type": "code",
      "metadata": {
        "id": "qbvgQgZ9DBTy",
        "colab_type": "code",
        "colab": {
          "base_uri": "https://localhost:8080/",
          "height": 51
        },
        "outputId": "e4686f56-ffd5-4a98-a50b-c5aa4c4ca23a"
      },
      "source": [
        "#calculating root mean squared error \n",
        "print('Random Forest Root Mean Squared Error:', np.sqrt(mean_squared_error(y_test, pred)))\n",
        "\n",
        "#calulating R**2 score\n",
        "print('Random Forest R**2 Score:', r2_score(y_test, pred))"
      ],
      "execution_count": 220,
      "outputs": [
        {
          "output_type": "stream",
          "text": [
            "Random Forest Root Mean Squared Error: 780.5489634687912\n",
            "Random Forest R**2 Score: 0.6961698584111927\n"
          ],
          "name": "stdout"
        }
      ]
    },
    {
      "cell_type": "code",
      "metadata": {
        "id": "atPW2_9mDF-3",
        "colab_type": "code",
        "colab": {
          "base_uri": "https://localhost:8080/",
          "height": 621
        },
        "outputId": "58940ee5-9d9b-4136-979b-a5c3ccc736db"
      },
      "source": [
        "# visualizing distribution of predicted values vs actual values for SalePrice\n",
        "plt.figure(figsize = (12,10))\n",
        "\n",
        "ax1 = sns.distplot(y_test, hist = False, color = 'r', label = 'Actual Values')\n",
        "ax2 = sns.distplot(pred, hist = False, color = 'b', label = 'Predicted Values')\n",
        "\n",
        "\n",
        "\n",
        "plt.title('Distribution of Predicted Values vs Actual Values for Rent Price')\n",
        "plt.xlabel('Rent Price (in dollars)')\n",
        "plt.ylabel('Proportion of Apartments')\n",
        "\n",
        "plt.show()\n",
        "plt.close()"
      ],
      "execution_count": 221,
      "outputs": [
        {
          "output_type": "display_data",
          "data": {
            "image/png": "[encoded data removed]",
            "text/plain": [
              "<Figure size 864x720 with 1 Axes>"
            ]
          },
          "metadata": {
            "tags": [],
            "needs_background": "light"
          }
        }
      ]
    },
    {
      "cell_type": "code",
      "metadata": {
        "id": "An_QreyXG2zc",
        "colab_type": "code",
        "colab": {}
      },
      "source": [
        "#getting feature importances\n",
        "feature_importances = ({'Name':[],\n",
        "                        'Score':[]})\n",
        "\n",
        "for name, score in zip(X.columns, rf.feature_importances_):\n",
        "  feature_importances['Name'].append(name)\n",
        "  feature_importances['Score'].append(score)\n",
        "\n",
        "feature_importances = pd.DataFrame(feature_importances).sort_values(['Score'], ascending = False)"
      ],
      "execution_count": 222,
      "outputs": []
    },
    {
      "cell_type": "code",
      "metadata": {
        "id": "WAP_aFWfKD7f",
        "colab_type": "code",
        "colab": {
          "base_uri": "https://localhost:8080/",
          "height": 730
        },
        "outputId": "d35f8513-4c38-4bb0-bec2-14b92175fcfe"
      },
      "source": [
        "#plotting feature importances\n",
        "f, ax = plt.subplots(figsize = (18,12))\n",
        "sns.barplot(x = 'Score', y = 'Name', data = feature_importances.head(50), orient = \"h\")\n",
        "plt.title('Bag of Words Model Feature Importances')\n",
        "plt.show()"
      ],
      "execution_count": 223,
      "outputs": [
        {
          "output_type": "display_data",
          "data": {
            "image/png": "[encoded data removed]",
            "text/plain": [
              "<Figure size 1296x864 with 1 Axes>"
            ]
          },
          "metadata": {
            "tags": [],
            "needs_background": "light"
          }
        }
      ]
    },
    {
      "cell_type": "markdown",
      "metadata": {
        "id": "iTJMZCKqNJL-",
        "colab_type": "text"
      },
      "source": [
        "#Extracting Features from Amenities Column\n",
        "Used insight gained from NLP model to extract new features from the amenities column"
      ]
    },
    {
      "cell_type": "code",
      "metadata": {
        "id": "a85tqfqbAtNN",
        "colab_type": "code",
        "colab": {
          "base_uri": "https://localhost:8080/",
          "height": 68
        },
        "outputId": "0f9ef224-d6fb-4f34-a670-ed5ef5ae8685"
      },
      "source": [
        "#whether or not apartment has Bosch appliances\n",
        "df['Bosch_Appliances'] = df.Amenities.apply(lambda x: 1 if 'bosch' in x.lower() else 0 )\n",
        "df.Bosch_Appliances.value_counts()"
      ],
      "execution_count": 224,
      "outputs": [
        {
          "output_type": "execute_result",
          "data": {
            "text/plain": [
              "0    7772\n",
              "1     342\n",
              "Name: Bosch_Appliances, dtype: int64"
            ]
          },
          "metadata": {
            "tags": []
          },
          "execution_count": 224
        }
      ]
    },
    {
      "cell_type": "code",
      "metadata": {
        "id": "lwYIeAuZEYXD",
        "colab_type": "code",
        "colab": {
          "base_uri": "https://localhost:8080/",
          "height": 68
        },
        "outputId": "4b5c32e5-0feb-4561-8533-a6a7049d7b0b"
      },
      "source": [
        "#whether the unit has stainless steel appliances\n",
        "df['Stainless_Steel_App'] = df.Amenities.apply(lambda x: 1 if 'stainless steel appliances' in x.lower()\n",
        "                                                              or 'appliances stainless' in x.lower()\n",
        "                                                              or 'stainless-steel appliances' in x.lower()\n",
        "                                                              else 0)\n",
        "df.Stainless_Steel_App.value_counts()"
      ],
      "execution_count": 225,
      "outputs": [
        {
          "output_type": "execute_result",
          "data": {
            "text/plain": [
              "0    4431\n",
              "1    3683\n",
              "Name: Stainless_Steel_App, dtype: int64"
            ]
          },
          "metadata": {
            "tags": []
          },
          "execution_count": 225
        }
      ]
    },
    {
      "cell_type": "code",
      "metadata": {
        "id": "EvyYuFdYHZQP",
        "colab_type": "code",
        "colab": {
          "base_uri": "https://localhost:8080/",
          "height": 68
        },
        "outputId": "8e87baa0-d989-4002-b34a-10e2262e5d76"
      },
      "source": [
        "#whether or not apt has a dishwasher\n",
        "df['Dishwasher'] = df.Amenities.apply(lambda x: 1 if 'dishwasher' in x.lower() else 0)\n",
        "df.Dishwasher.value_counts()"
      ],
      "execution_count": 226,
      "outputs": [
        {
          "output_type": "execute_result",
          "data": {
            "text/plain": [
              "1    5467\n",
              "0    2647\n",
              "Name: Dishwasher, dtype: int64"
            ]
          },
          "metadata": {
            "tags": []
          },
          "execution_count": 226
        }
      ]
    },
    {
      "cell_type": "code",
      "metadata": {
        "id": "rj70oDR3HZst",
        "colab_type": "code",
        "colab": {
          "base_uri": "https://localhost:8080/",
          "height": 68
        },
        "outputId": "4357229f-2b17-4574-d7a0-e0105d52b00e"
      },
      "source": [
        "#whether or not the apt has a microwave\n",
        "df['Microwave'] = df.Amenities.apply(lambda x: 1 if 'microwave' in x.lower() else 0)\n",
        "df.Microwave.value_counts()"
      ],
      "execution_count": 227,
      "outputs": [
        {
          "output_type": "execute_result",
          "data": {
            "text/plain": [
              "1    4323\n",
              "0    3791\n",
              "Name: Microwave, dtype: int64"
            ]
          },
          "metadata": {
            "tags": []
          },
          "execution_count": 227
        }
      ]
    },
    {
      "cell_type": "code",
      "metadata": {
        "id": "I-cRnSJ_BOI-",
        "colab_type": "code",
        "colab": {
          "base_uri": "https://localhost:8080/",
          "height": 68
        },
        "outputId": "aed25334-9ff2-4778-fe4e-b2aff20f7ed9"
      },
      "source": [
        "#whether or not laundry is mentioned in the list of amenities\n",
        "df['Laundry'] = df.Amenities.apply(lambda x: 1 if 'laundry' in x.lower() or 'washer' in x.lower() or 'dryer' in x.lower() else 0)\n",
        "df.Laundry.value_counts()"
      ],
      "execution_count": 228,
      "outputs": [
        {
          "output_type": "execute_result",
          "data": {
            "text/plain": [
              "1    7367\n",
              "0     747\n",
              "Name: Laundry, dtype: int64"
            ]
          },
          "metadata": {
            "tags": []
          },
          "execution_count": 228
        }
      ]
    },
    {
      "cell_type": "code",
      "metadata": {
        "id": "2usQoduEBvUE",
        "colab_type": "code",
        "colab": {
          "base_uri": "https://localhost:8080/",
          "height": 68
        },
        "outputId": "c4456c0b-84c1-44e1-81fc-c6066bfba2ba"
      },
      "source": [
        "#whether or not there is a washer and dryer in the unit\n",
        "df['Washer/Dryer_in_unit'] = df.Amenities.apply(lambda x: 1 if 'washer/dryer - in unit' in x.lower() \n",
        "                                                                or 'washer/dryer in unit' in x.lower() \n",
        "                                                                or 'washer and dryer in unit' in x.lower()\n",
        "                                                                or 'in home washer/dryer' in x.lower()\n",
        "                                                                or 'in home washer and dryer' in x.lower()\n",
        "                                                                or 'in home full-size washer and dryer' in x.lower()\n",
        "                                                                else 0)\n",
        "df['Washer/Dryer_in_unit'].value_counts()"
      ],
      "execution_count": 229,
      "outputs": [
        {
          "output_type": "execute_result",
          "data": {
            "text/plain": [
              "1    4545\n",
              "0    3569\n",
              "Name: Washer/Dryer_in_unit, dtype: int64"
            ]
          },
          "metadata": {
            "tags": []
          },
          "execution_count": 229
        }
      ]
    },
    {
      "cell_type": "code",
      "metadata": {
        "id": "quGpyl-DIgCe",
        "colab_type": "code",
        "colab": {
          "base_uri": "https://localhost:8080/",
          "height": 68
        },
        "outputId": "fcb90f2b-4f28-4721-fe71-ba4c6f61d801"
      },
      "source": [
        "#whether the apt/home has a terrace\n",
        "df['Terrace'] = df.Amenities.apply(lambda x: 1 if 'terrace' in x.lower() else 0)\n",
        "df.Terrace.value_counts()"
      ],
      "execution_count": 230,
      "outputs": [
        {
          "output_type": "execute_result",
          "data": {
            "text/plain": [
              "0    5389\n",
              "1    2725\n",
              "Name: Terrace, dtype: int64"
            ]
          },
          "metadata": {
            "tags": []
          },
          "execution_count": 230
        }
      ]
    },
    {
      "cell_type": "code",
      "metadata": {
        "id": "56VHQklYIxWV",
        "colab_type": "code",
        "colab": {
          "base_uri": "https://localhost:8080/",
          "height": 68
        },
        "outputId": "77199406-ff09-4add-d376-a99d2d403f1f"
      },
      "source": [
        "#whether the apt/home has a balcony\n",
        "df['Balcony'] = df.Amenities.apply(lambda x: 1 if 'balcony' in x.lower() else 0)\n",
        "df.Balcony.value_counts()"
      ],
      "execution_count": 231,
      "outputs": [
        {
          "output_type": "execute_result",
          "data": {
            "text/plain": [
              "1    4642\n",
              "0    3472\n",
              "Name: Balcony, dtype: int64"
            ]
          },
          "metadata": {
            "tags": []
          },
          "execution_count": 231
        }
      ]
    },
    {
      "cell_type": "code",
      "metadata": {
        "id": "0Rxo56WLI-pg",
        "colab_type": "code",
        "colab": {
          "base_uri": "https://localhost:8080/",
          "height": 68
        },
        "outputId": "1bd6148d-2670-4824-da14-8b541ff851ba"
      },
      "source": [
        "#whether or not the apt/home has vaulted ceilings\n",
        "df['Vaulted_Ceilings'] = df.Amenities.apply(lambda x: 1 if 'vaulted ceiling' in x.lower() else 0)\n",
        "df.Vaulted_Ceilings.value_counts()"
      ],
      "execution_count": 232,
      "outputs": [
        {
          "output_type": "execute_result",
          "data": {
            "text/plain": [
              "0    6557\n",
              "1    1557\n",
              "Name: Vaulted_Ceilings, dtype: int64"
            ]
          },
          "metadata": {
            "tags": []
          },
          "execution_count": 232
        }
      ]
    },
    {
      "cell_type": "code",
      "metadata": {
        "id": "1hpKDHfbJOCZ",
        "colab_type": "code",
        "colab": {
          "base_uri": "https://localhost:8080/",
          "height": 68
        },
        "outputId": "a37f535f-99e4-4343-8312-700a6c5c80b2"
      },
      "source": [
        "#whether the apt/home has a garden\n",
        "df['Garden'] = df.Amenities.apply(lambda x: 1 if 'garden' in x.lower() else 0)\n",
        "df.Garden.value_counts()"
      ],
      "execution_count": 233,
      "outputs": [
        {
          "output_type": "execute_result",
          "data": {
            "text/plain": [
              "0    7065\n",
              "1    1049\n",
              "Name: Garden, dtype: int64"
            ]
          },
          "metadata": {
            "tags": []
          },
          "execution_count": 233
        }
      ]
    },
    {
      "cell_type": "code",
      "metadata": {
        "id": "7Ek-gI2kIT2i",
        "colab_type": "code",
        "colab": {
          "base_uri": "https://localhost:8080/",
          "height": 68
        },
        "outputId": "d566c173-bcaa-4603-81e0-520db4994abb"
      },
      "source": [
        "#whether or not the apt is a penthouse\n",
        "df['Penthouse'] = df.Amenities.apply(lambda x: 1 if 'penthouse' in x.lower() else 0)\n",
        "df.Penthouse.value_counts()"
      ],
      "execution_count": 234,
      "outputs": [
        {
          "output_type": "execute_result",
          "data": {
            "text/plain": [
              "0    7473\n",
              "1     641\n",
              "Name: Penthouse, dtype: int64"
            ]
          },
          "metadata": {
            "tags": []
          },
          "execution_count": 234
        }
      ]
    },
    {
      "cell_type": "code",
      "metadata": {
        "id": "QbyGbbLBBHKk",
        "colab_type": "code",
        "colab": {
          "base_uri": "https://localhost:8080/",
          "height": 68
        },
        "outputId": "ba249566-336d-4a35-ab9b-6d543d7a5b53"
      },
      "source": [
        "#whether or not apartment complex has a concierge\n",
        "df['Concierge'] = df.Amenities.apply(lambda x: 1 if 'concierge' in x.lower() else 0) \n",
        "df.Concierge.value_counts()"
      ],
      "execution_count": 235,
      "outputs": [
        {
          "output_type": "execute_result",
          "data": {
            "text/plain": [
              "0    6098\n",
              "1    2016\n",
              "Name: Concierge, dtype: int64"
            ]
          },
          "metadata": {
            "tags": []
          },
          "execution_count": 235
        }
      ]
    },
    {
      "cell_type": "code",
      "metadata": {
        "id": "MIqY-M26FGCC",
        "colab_type": "code",
        "colab": {
          "base_uri": "https://localhost:8080/",
          "height": 68
        },
        "outputId": "319e5846-baa0-4279-d147-33e1f689e805"
      },
      "source": [
        "#whether or not apartment complex has a lounge\n",
        "df['Lounge'] = df.Amenities.apply(lambda x: 1 if 'lounge' in x.lower() or 'game room' in x.lower() else 0)\n",
        "df.Lounge.value_counts()"
      ],
      "execution_count": 236,
      "outputs": [
        {
          "output_type": "execute_result",
          "data": {
            "text/plain": [
              "1    4481\n",
              "0    3633\n",
              "Name: Lounge, dtype: int64"
            ]
          },
          "metadata": {
            "tags": []
          },
          "execution_count": 236
        }
      ]
    },
    {
      "cell_type": "code",
      "metadata": {
        "id": "FFB7G9BfFP_X",
        "colab_type": "code",
        "colab": {
          "base_uri": "https://localhost:8080/",
          "height": 68
        },
        "outputId": "445de37c-551e-4534-b573-9b04b899dcac"
      },
      "source": [
        "#whether or not apt/house has air conditioning\n",
        "df['A/C'] = df.Amenities.apply(lambda x: 1 if 'air conditioning' in x.lower() or 'a/c' in x.lower() else 0) \n",
        "df['A/C'].value_counts()"
      ],
      "execution_count": 237,
      "outputs": [
        {
          "output_type": "execute_result",
          "data": {
            "text/plain": [
              "0    4616\n",
              "1    3498\n",
              "Name: A/C, dtype: int64"
            ]
          },
          "metadata": {
            "tags": []
          },
          "execution_count": 237
        }
      ]
    },
    {
      "cell_type": "code",
      "metadata": {
        "id": "2Hr0eP18Fmqq",
        "colab_type": "code",
        "colab": {
          "base_uri": "https://localhost:8080/",
          "height": 68
        },
        "outputId": "922d9a6e-1a0a-44aa-f5fb-ab6c45c6f296"
      },
      "source": [
        "#whether or not the apartment complex is smoke free\n",
        "df['Smoke_Free'] = df.Amenities.apply(lambda x: 1 if 'smoke free' in x.lower() or 'no smoking' in x.lower() else 0)\n",
        "df.Smoke_Free.value_counts()"
      ],
      "execution_count": 238,
      "outputs": [
        {
          "output_type": "execute_result",
          "data": {
            "text/plain": [
              "0    4227\n",
              "1    3887\n",
              "Name: Smoke_Free, dtype: int64"
            ]
          },
          "metadata": {
            "tags": []
          },
          "execution_count": 238
        }
      ]
    },
    {
      "cell_type": "code",
      "metadata": {
        "id": "_BiBheUDGD6w",
        "colab_type": "code",
        "colab": {
          "base_uri": "https://localhost:8080/",
          "height": 68
        },
        "outputId": "390d938a-5184-4800-99ee-97262372cf09"
      },
      "source": [
        "#whether or not the apartment complex allows pets\n",
        "df['Pets_Allowed'] = df.Amenities.apply(lambda x: 1 if ('pets allowed' in x.lower() or 'pets welcome' in x.lower() or 'dogs allowed' in x.lower() or 'cats allowed' in x.lower()) \n",
        "                                                    and ('no pets allowed' not in x.lower() and 'no dogs allowed' not in x.lower() and 'no cats allowed' not in x.lower()) \n",
        "                                                    else 0)\n",
        "df.Pets_Allowed.value_counts()"
      ],
      "execution_count": 239,
      "outputs": [
        {
          "output_type": "execute_result",
          "data": {
            "text/plain": [
              "0    7226\n",
              "1     888\n",
              "Name: Pets_Allowed, dtype: int64"
            ]
          },
          "metadata": {
            "tags": []
          },
          "execution_count": 239
        }
      ]
    },
    {
      "cell_type": "code",
      "metadata": {
        "id": "KfhdKQq-GVbU",
        "colab_type": "code",
        "colab": {
          "base_uri": "https://localhost:8080/",
          "height": 68
        },
        "outputId": "05fd1fc1-c19f-460b-8557-74f445980c11"
      },
      "source": [
        "#whether or not the apartment complex has a pool\n",
        "df['Pool'] = df.Amenities.apply(lambda x: 1 if 'pool' in x.lower() else 0)\n",
        "df.Pool.value_counts()"
      ],
      "execution_count": 240,
      "outputs": [
        {
          "output_type": "execute_result",
          "data": {
            "text/plain": [
              "1    4210\n",
              "0    3904\n",
              "Name: Pool, dtype: int64"
            ]
          },
          "metadata": {
            "tags": []
          },
          "execution_count": 240
        }
      ]
    },
    {
      "cell_type": "code",
      "metadata": {
        "id": "1GO18Jk9GnFz",
        "colab_type": "code",
        "colab": {
          "base_uri": "https://localhost:8080/",
          "height": 68
        },
        "outputId": "03c85382-02ce-4655-af4f-c510e5483f13"
      },
      "source": [
        "#whether or not the apartment complex has a gym/fitness center/yoga studio\n",
        "df['Gym'] = df.Amenities.apply(lambda x: 1 if 'gym' in x.lower() or 'fitness center' in x.lower() or 'yoga studio' in x.lower() else 0) \n",
        "df.Gym.value_counts()"
      ],
      "execution_count": 241,
      "outputs": [
        {
          "output_type": "execute_result",
          "data": {
            "text/plain": [
              "1    5603\n",
              "0    2511\n",
              "Name: Gym, dtype: int64"
            ]
          },
          "metadata": {
            "tags": []
          },
          "execution_count": 241
        }
      ]
    },
    {
      "cell_type": "code",
      "metadata": {
        "id": "iOFAUATdG1o8",
        "colab_type": "code",
        "colab": {
          "base_uri": "https://localhost:8080/",
          "height": 68
        },
        "outputId": "fb1cf395-84cf-493b-a248-e96578cb5cc1"
      },
      "source": [
        "#whether or not the apt/house is in a gated community\n",
        "df['Gated'] = df.Amenities.apply(lambda x: 1 if 'gated' in x.lower() else 0)\n",
        "df.Gated.value_counts()"
      ],
      "execution_count": 242,
      "outputs": [
        {
          "output_type": "execute_result",
          "data": {
            "text/plain": [
              "0    5331\n",
              "1    2783\n",
              "Name: Gated, dtype: int64"
            ]
          },
          "metadata": {
            "tags": []
          },
          "execution_count": 242
        }
      ]
    },
    {
      "cell_type": "code",
      "metadata": {
        "id": "MNlwm7xkG7p-",
        "colab_type": "code",
        "colab": {
          "base_uri": "https://localhost:8080/",
          "height": 68
        },
        "outputId": "9447a890-ed60-4b96-d8cd-217ad420dba5"
      },
      "source": [
        "#whether the apt/house is furnished\n",
        "df['Furnished'] = df.Amenities.apply(lambda x: 1 if 'furnished' in x.lower() else 0)\n",
        "df.Furnished.value_counts()"
      ],
      "execution_count": 243,
      "outputs": [
        {
          "output_type": "execute_result",
          "data": {
            "text/plain": [
              "0    6439\n",
              "1    1675\n",
              "Name: Furnished, dtype: int64"
            ]
          },
          "metadata": {
            "tags": []
          },
          "execution_count": 243
        }
      ]
    },
    {
      "cell_type": "code",
      "metadata": {
        "id": "ZY_u4JXzKCH2",
        "colab_type": "code",
        "colab": {
          "base_uri": "https://localhost:8080/",
          "height": 68
        },
        "outputId": "e4912a2a-0d88-4e18-ea10-05f9986ee054"
      },
      "source": [
        "#whether the apt/house has a garage\n",
        "df['Garage'] = df.Amenities.apply(lambda x: 1 if 'garage' in x.lower() else 0)\n",
        "df.Garage.value_counts()"
      ],
      "execution_count": 244,
      "outputs": [
        {
          "output_type": "execute_result",
          "data": {
            "text/plain": [
              "0    7140\n",
              "1     974\n",
              "Name: Garage, dtype: int64"
            ]
          },
          "metadata": {
            "tags": []
          },
          "execution_count": 244
        }
      ]
    },
    {
      "cell_type": "code",
      "metadata": {
        "id": "wRjAaExRHD2l",
        "colab_type": "code",
        "colab": {
          "base_uri": "https://localhost:8080/",
          "height": 68
        },
        "outputId": "2568e4ae-a8f8-4b4e-df5a-93934a6a1487"
      },
      "source": [
        "#whether or not the apartment is wheelchair accessible\n",
        "df['Wheelchair_Accessible'] = df.Amenities.apply(lambda x: 1 if 'wheelchair accessible' in x.lower() else 0)\n",
        "df.Wheelchair_Accessible.value_counts()"
      ],
      "execution_count": 245,
      "outputs": [
        {
          "output_type": "execute_result",
          "data": {
            "text/plain": [
              "0    6444\n",
              "1    1670\n",
              "Name: Wheelchair_Accessible, dtype: int64"
            ]
          },
          "metadata": {
            "tags": []
          },
          "execution_count": 245
        }
      ]
    },
    {
      "cell_type": "code",
      "metadata": {
        "id": "Uf5ER8FDNP40",
        "colab_type": "code",
        "colab": {
          "base_uri": "https://localhost:8080/",
          "height": 102
        },
        "outputId": "df5eba01-d466-4535-89ed-4c9078e909d8"
      },
      "source": [
        "#creating features for the type of floor\n",
        "df['Carpet'] = df.Amenities.apply(lambda x: 1 if 'carpet' in x.lower() else 0)\n",
        "df['Wood Floor'] = df.Amenities.apply(lambda x: 1 if 'wood floor' in x.lower() else 0)\n",
        "df['Plank Floor'] = df.Amenities.apply(lambda x: 1 if 'plank floor' in x.lower() else 0)\n",
        "df['Tile Floor'] = df.Amenities.apply(lambda x: 1 if 'tile floor' in x.lower() else 0)\n",
        "\n",
        "df[['Carpet','Wood Floor','Plank Floor','Tile Floor']].sum()"
      ],
      "execution_count": 246,
      "outputs": [
        {
          "output_type": "execute_result",
          "data": {
            "text/plain": [
              "Carpet         2276\n",
              "Wood Floor     3449\n",
              "Plank Floor     844\n",
              "Tile Floor     1012\n",
              "dtype: int64"
            ]
          },
          "metadata": {
            "tags": []
          },
          "execution_count": 246
        }
      ]
    },
    {
      "cell_type": "code",
      "metadata": {
        "id": "xdkD4gAhVAhP",
        "colab_type": "code",
        "colab": {
          "base_uri": "https://localhost:8080/",
          "height": 751
        },
        "outputId": "6bf2a15f-21ce-43fc-8f3b-c7dc753f2904"
      },
      "source": [
        "df.head()"
      ],
      "execution_count": 247,
      "outputs": [
        {
          "output_type": "execute_result",
          "data": {
            "text/html": [
              "<div>\n",
              "<style scoped>\n",
              "    .dataframe tbody tr th:only-of-type {\n",
              "        vertical-align: middle;\n",
              "    }\n",
              "\n",
              "    .dataframe tbody tr th {\n",
              "        vertical-align: top;\n",
              "    }\n",
              "\n",
              "    .dataframe thead th {\n",
              "        text-align: right;\n",
              "    }\n",
              "</style>\n",
              "<table border=\"1\" class=\"dataframe\">\n",
              "  <thead>\n",
              "    <tr style=\"text-align: right;\">\n",
              "      <th></th>\n",
              "      <th>Title</th>\n",
              "      <th>Address</th>\n",
              "      <th>Bedrooms</th>\n",
              "      <th>Bathrooms</th>\n",
              "      <th>Rent</th>\n",
              "      <th>Square Footage</th>\n",
              "      <th>Availability</th>\n",
              "      <th>Amenities</th>\n",
              "      <th>City</th>\n",
              "      <th>Zip_Code</th>\n",
              "      <th>Neighborhood</th>\n",
              "      <th>Avg_Rent</th>\n",
              "      <th>Avg_Sqft</th>\n",
              "      <th>Bosch_Appliances</th>\n",
              "      <th>Stainless_Steel_App</th>\n",
              "      <th>Dishwasher</th>\n",
              "      <th>Microwave</th>\n",
              "      <th>Laundry</th>\n",
              "      <th>Washer/Dryer_in_unit</th>\n",
              "      <th>Terrace</th>\n",
              "      <th>Balcony</th>\n",
              "      <th>Vaulted_Ceilings</th>\n",
              "      <th>Garden</th>\n",
              "      <th>Penthouse</th>\n",
              "      <th>Concierge</th>\n",
              "      <th>Lounge</th>\n",
              "      <th>A/C</th>\n",
              "      <th>Smoke_Free</th>\n",
              "      <th>Pets_Allowed</th>\n",
              "      <th>Pool</th>\n",
              "      <th>Gym</th>\n",
              "      <th>Gated</th>\n",
              "      <th>Furnished</th>\n",
              "      <th>Garage</th>\n",
              "      <th>Wheelchair_Accessible</th>\n",
              "      <th>Carpet</th>\n",
              "      <th>Wood Floor</th>\n",
              "      <th>Plank Floor</th>\n",
              "      <th>Tile Floor</th>\n",
              "    </tr>\n",
              "  </thead>\n",
              "  <tbody>\n",
              "    <tr>\n",
              "      <th>0</th>\n",
              "      <td>Amelia</td>\n",
              "      <td>411 29th St, Oakland, CA 94609 â€“ Pill Hill</td>\n",
              "      <td>1</td>\n",
              "      <td>1.0</td>\n",
              "      <td>2875 - 2995</td>\n",
              "      <td>502</td>\n",
              "      <td>Available Now</td>\n",
              "      <td>100% Smoke Free Community, Air Conditioning, B...</td>\n",
              "      <td>Oakland</td>\n",
              "      <td>94609</td>\n",
              "      <td>Pill Hill</td>\n",
              "      <td>2935</td>\n",
              "      <td>502.0</td>\n",
              "      <td>0</td>\n",
              "      <td>1</td>\n",
              "      <td>1</td>\n",
              "      <td>1</td>\n",
              "      <td>1</td>\n",
              "      <td>1</td>\n",
              "      <td>1</td>\n",
              "      <td>0</td>\n",
              "      <td>0</td>\n",
              "      <td>0</td>\n",
              "      <td>0</td>\n",
              "      <td>0</td>\n",
              "      <td>1</td>\n",
              "      <td>1</td>\n",
              "      <td>1</td>\n",
              "      <td>1</td>\n",
              "      <td>0</td>\n",
              "      <td>0</td>\n",
              "      <td>0</td>\n",
              "      <td>0</td>\n",
              "      <td>0</td>\n",
              "      <td>0</td>\n",
              "      <td>0</td>\n",
              "      <td>1</td>\n",
              "      <td>1</td>\n",
              "      <td>0</td>\n",
              "    </tr>\n",
              "    <tr>\n",
              "      <th>1</th>\n",
              "      <td>Amelia</td>\n",
              "      <td>411 29th St, Oakland, CA 94609 â€“ Pill Hill</td>\n",
              "      <td>1</td>\n",
              "      <td>1.0</td>\n",
              "      <td>2875</td>\n",
              "      <td>502</td>\n",
              "      <td>Available Now</td>\n",
              "      <td>100% Smoke Free Community, Air Conditioning, B...</td>\n",
              "      <td>Oakland</td>\n",
              "      <td>94609</td>\n",
              "      <td>Pill Hill</td>\n",
              "      <td>2875</td>\n",
              "      <td>502.0</td>\n",
              "      <td>0</td>\n",
              "      <td>1</td>\n",
              "      <td>1</td>\n",
              "      <td>1</td>\n",
              "      <td>1</td>\n",
              "      <td>1</td>\n",
              "      <td>1</td>\n",
              "      <td>0</td>\n",
              "      <td>0</td>\n",
              "      <td>0</td>\n",
              "      <td>0</td>\n",
              "      <td>0</td>\n",
              "      <td>1</td>\n",
              "      <td>1</td>\n",
              "      <td>1</td>\n",
              "      <td>1</td>\n",
              "      <td>0</td>\n",
              "      <td>0</td>\n",
              "      <td>0</td>\n",
              "      <td>0</td>\n",
              "      <td>0</td>\n",
              "      <td>0</td>\n",
              "      <td>0</td>\n",
              "      <td>1</td>\n",
              "      <td>1</td>\n",
              "      <td>0</td>\n",
              "    </tr>\n",
              "    <tr>\n",
              "      <th>2</th>\n",
              "      <td>Amelia</td>\n",
              "      <td>411 29th St, Oakland, CA 94609 â€“ Pill Hill</td>\n",
              "      <td>1</td>\n",
              "      <td>1.0</td>\n",
              "      <td>2875</td>\n",
              "      <td>502</td>\n",
              "      <td>Available Now</td>\n",
              "      <td>100% Smoke Free Community, Air Conditioning, B...</td>\n",
              "      <td>Oakland</td>\n",
              "      <td>94609</td>\n",
              "      <td>Pill Hill</td>\n",
              "      <td>2875</td>\n",
              "      <td>502.0</td>\n",
              "      <td>0</td>\n",
              "      <td>1</td>\n",
              "      <td>1</td>\n",
              "      <td>1</td>\n",
              "      <td>1</td>\n",
              "      <td>1</td>\n",
              "      <td>1</td>\n",
              "      <td>0</td>\n",
              "      <td>0</td>\n",
              "      <td>0</td>\n",
              "      <td>0</td>\n",
              "      <td>0</td>\n",
              "      <td>1</td>\n",
              "      <td>1</td>\n",
              "      <td>1</td>\n",
              "      <td>1</td>\n",
              "      <td>0</td>\n",
              "      <td>0</td>\n",
              "      <td>0</td>\n",
              "      <td>0</td>\n",
              "      <td>0</td>\n",
              "      <td>0</td>\n",
              "      <td>0</td>\n",
              "      <td>1</td>\n",
              "      <td>1</td>\n",
              "      <td>0</td>\n",
              "    </tr>\n",
              "    <tr>\n",
              "      <th>3</th>\n",
              "      <td>Amelia</td>\n",
              "      <td>411 29th St, Oakland, CA 94609 â€“ Pill Hill</td>\n",
              "      <td>1</td>\n",
              "      <td>1.0</td>\n",
              "      <td>2875</td>\n",
              "      <td>502</td>\n",
              "      <td>Available Now</td>\n",
              "      <td>100% Smoke Free Community, Air Conditioning, B...</td>\n",
              "      <td>Oakland</td>\n",
              "      <td>94609</td>\n",
              "      <td>Pill Hill</td>\n",
              "      <td>2875</td>\n",
              "      <td>502.0</td>\n",
              "      <td>0</td>\n",
              "      <td>1</td>\n",
              "      <td>1</td>\n",
              "      <td>1</td>\n",
              "      <td>1</td>\n",
              "      <td>1</td>\n",
              "      <td>1</td>\n",
              "      <td>0</td>\n",
              "      <td>0</td>\n",
              "      <td>0</td>\n",
              "      <td>0</td>\n",
              "      <td>0</td>\n",
              "      <td>1</td>\n",
              "      <td>1</td>\n",
              "      <td>1</td>\n",
              "      <td>1</td>\n",
              "      <td>0</td>\n",
              "      <td>0</td>\n",
              "      <td>0</td>\n",
              "      <td>0</td>\n",
              "      <td>0</td>\n",
              "      <td>0</td>\n",
              "      <td>0</td>\n",
              "      <td>1</td>\n",
              "      <td>1</td>\n",
              "      <td>0</td>\n",
              "    </tr>\n",
              "    <tr>\n",
              "      <th>4</th>\n",
              "      <td>Amelia</td>\n",
              "      <td>411 29th St, Oakland, CA 94609 â€“ Pill Hill</td>\n",
              "      <td>1</td>\n",
              "      <td>1.0</td>\n",
              "      <td>2875</td>\n",
              "      <td>502</td>\n",
              "      <td>Available Now</td>\n",
              "      <td>100% Smoke Free Community, Air Conditioning, B...</td>\n",
              "      <td>Oakland</td>\n",
              "      <td>94609</td>\n",
              "      <td>Pill Hill</td>\n",
              "      <td>2875</td>\n",
              "      <td>502.0</td>\n",
              "      <td>0</td>\n",
              "      <td>1</td>\n",
              "      <td>1</td>\n",
              "      <td>1</td>\n",
              "      <td>1</td>\n",
              "      <td>1</td>\n",
              "      <td>1</td>\n",
              "      <td>0</td>\n",
              "      <td>0</td>\n",
              "      <td>0</td>\n",
              "      <td>0</td>\n",
              "      <td>0</td>\n",
              "      <td>1</td>\n",
              "      <td>1</td>\n",
              "      <td>1</td>\n",
              "      <td>1</td>\n",
              "      <td>0</td>\n",
              "      <td>0</td>\n",
              "      <td>0</td>\n",
              "      <td>0</td>\n",
              "      <td>0</td>\n",
              "      <td>0</td>\n",
              "      <td>0</td>\n",
              "      <td>1</td>\n",
              "      <td>1</td>\n",
              "      <td>0</td>\n",
              "    </tr>\n",
              "  </tbody>\n",
              "</table>\n",
              "</div>"
            ],
            "text/plain": [
              "    Title  ... Tile Floor\n",
              "0  Amelia  ...          0\n",
              "1  Amelia  ...          0\n",
              "2  Amelia  ...          0\n",
              "3  Amelia  ...          0\n",
              "4  Amelia  ...          0\n",
              "\n",
              "[5 rows x 39 columns]"
            ]
          },
          "metadata": {
            "tags": []
          },
          "execution_count": 247
        }
      ]
    },
    {
      "cell_type": "code",
      "metadata": {
        "id": "1eU-pQJlqrd1",
        "colab_type": "code",
        "colab": {
          "base_uri": "https://localhost:8080/",
          "height": 680
        },
        "outputId": "227984dd-0766-4b6b-c0d2-6310dea5dae1"
      },
      "source": [
        "df.columns.tolist()"
      ],
      "execution_count": 248,
      "outputs": [
        {
          "output_type": "execute_result",
          "data": {
            "text/plain": [
              "['Title',\n",
              " 'Address',\n",
              " 'Bedrooms',\n",
              " 'Bathrooms',\n",
              " 'Rent',\n",
              " 'Square Footage',\n",
              " 'Availability',\n",
              " 'Amenities',\n",
              " 'City',\n",
              " 'Zip_Code',\n",
              " 'Neighborhood',\n",
              " 'Avg_Rent',\n",
              " 'Avg_Sqft',\n",
              " 'Bosch_Appliances',\n",
              " 'Stainless_Steel_App',\n",
              " 'Dishwasher',\n",
              " 'Microwave',\n",
              " 'Laundry',\n",
              " 'Washer/Dryer_in_unit',\n",
              " 'Terrace',\n",
              " 'Balcony',\n",
              " 'Vaulted_Ceilings',\n",
              " 'Garden',\n",
              " 'Penthouse',\n",
              " 'Concierge',\n",
              " 'Lounge',\n",
              " 'A/C',\n",
              " 'Smoke_Free',\n",
              " 'Pets_Allowed',\n",
              " 'Pool',\n",
              " 'Gym',\n",
              " 'Gated',\n",
              " 'Furnished',\n",
              " 'Garage',\n",
              " 'Wheelchair_Accessible',\n",
              " 'Carpet',\n",
              " 'Wood Floor',\n",
              " 'Plank Floor',\n",
              " 'Tile Floor']"
            ]
          },
          "metadata": {
            "tags": []
          },
          "execution_count": 248
        }
      ]
    },
    {
      "cell_type": "code",
      "metadata": {
        "id": "ZIAr_VmpZsfW",
        "colab_type": "code",
        "colab": {}
      },
      "source": [
        "#decided to include Amenities column with raw text\n",
        "#this way I can compare an NLP model (using bag of words) to a model using specific features that I extracted from the Amenities column\n",
        "df_clean = df.drop(['Title','Address','Rent','Square Footage','Availability'], axis =1)"
      ],
      "execution_count": 249,
      "outputs": []
    },
    {
      "cell_type": "code",
      "metadata": {
        "id": "UUwYK0uyqgMu",
        "colab_type": "code",
        "colab": {
          "base_uri": "https://localhost:8080/",
          "height": 612
        },
        "outputId": "73a0645a-573b-4471-ab82-ea4c0aab79be"
      },
      "source": [
        "df_clean.isna().sum()"
      ],
      "execution_count": 250,
      "outputs": [
        {
          "output_type": "execute_result",
          "data": {
            "text/plain": [
              "Bedrooms                 0\n",
              "Bathrooms                0\n",
              "Amenities                0\n",
              "City                     0\n",
              "Zip_Code                 0\n",
              "Neighborhood             0\n",
              "Avg_Rent                 0\n",
              "Avg_Sqft                 0\n",
              "Bosch_Appliances         0\n",
              "Stainless_Steel_App      0\n",
              "Dishwasher               0\n",
              "Microwave                0\n",
              "Laundry                  0\n",
              "Washer/Dryer_in_unit     0\n",
              "Terrace                  0\n",
              "Balcony                  0\n",
              "Vaulted_Ceilings         0\n",
              "Garden                   0\n",
              "Penthouse                0\n",
              "Concierge                0\n",
              "Lounge                   0\n",
              "A/C                      0\n",
              "Smoke_Free               0\n",
              "Pets_Allowed             0\n",
              "Pool                     0\n",
              "Gym                      0\n",
              "Gated                    0\n",
              "Furnished                0\n",
              "Garage                   0\n",
              "Wheelchair_Accessible    0\n",
              "Carpet                   0\n",
              "Wood Floor               0\n",
              "Plank Floor              0\n",
              "Tile Floor               0\n",
              "dtype: int64"
            ]
          },
          "metadata": {
            "tags": []
          },
          "execution_count": 250
        }
      ]
    },
    {
      "cell_type": "code",
      "metadata": {
        "id": "xBrKbr3Eqh7u",
        "colab_type": "code",
        "colab": {
          "base_uri": "https://localhost:8080/",
          "height": 34
        },
        "outputId": "20416049-3a87-49a2-a009-7edbadc7dd03"
      },
      "source": [
        "df_clean.shape"
      ],
      "execution_count": 251,
      "outputs": [
        {
          "output_type": "execute_result",
          "data": {
            "text/plain": [
              "(8114, 34)"
            ]
          },
          "metadata": {
            "tags": []
          },
          "execution_count": 251
        }
      ]
    },
    {
      "cell_type": "code",
      "metadata": {
        "id": "sP25yovTqjbJ",
        "colab_type": "code",
        "colab": {}
      },
      "source": [
        "# un-comment to save cleaned dataframe to csv\n",
        "#df_clean.to_csv('apartment_data_clean.csv', index = False)"
      ],
      "execution_count": 253,
      "outputs": []
    }
  ]
}