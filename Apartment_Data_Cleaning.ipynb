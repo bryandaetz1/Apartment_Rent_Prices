{
  "nbformat": 4,
  "nbformat_minor": 0,
  "metadata": {
    "colab": {
      "name": "Apartment_Data_Cleaning",
      "provenance": [],
      "collapsed_sections": [],
      "toc_visible": true,
      "authorship_tag": "ABX9TyOT9XLXZOo2Nd6ryLT3ub+k",
      "include_colab_link": true
    },
    "kernelspec": {
      "name": "python3",
      "display_name": "Python 3"
    }
  },
  "cells": [
    {
      "cell_type": "markdown",
      "metadata": {
        "id": "view-in-github",
        "colab_type": "text"
      },
      "source": [
        "<a href=\"https://colab.research.google.com/github/bryandaetz1/Apartment_Rent_Prices/blob/master/Apartment_Data_Cleaning.ipynb\" target=\"_parent\"><img src=\"https://colab.research.google.com/assets/colab-badge.svg\" alt=\"Open In Colab\"/></a>"
      ]
    },
    {
      "cell_type": "code",
      "metadata": {
        "id": "6Ntv-aj-2lip",
        "colab_type": "code",
        "colab": {}
      },
      "source": [
        "import pandas as pd\n",
        "import numpy as np"
      ],
      "execution_count": 1,
      "outputs": []
    },
    {
      "cell_type": "code",
      "metadata": {
        "id": "v5dKVxwY2nBp",
        "colab_type": "code",
        "colab": {}
      },
      "source": [
        "df = pd.read_csv('https://raw.githubusercontent.com/bryandaetz1/Apartment_Rent_Prices/master/oakland_apartment_data.csv')"
      ],
      "execution_count": 2,
      "outputs": []
    },
    {
      "cell_type": "code",
      "metadata": {
        "id": "PxmpipRC2pkO",
        "colab_type": "code",
        "colab": {
          "base_uri": "https://localhost:8080/",
          "height": 34
        },
        "outputId": "c4d3bd09-32eb-4bf8-ff31-e024c9471582"
      },
      "source": [
        "df.shape"
      ],
      "execution_count": 3,
      "outputs": [
        {
          "output_type": "execute_result",
          "data": {
            "text/plain": [
              "(3240, 8)"
            ]
          },
          "metadata": {
            "tags": []
          },
          "execution_count": 3
        }
      ]
    },
    {
      "cell_type": "code",
      "metadata": {
        "id": "o_-3Xt0P8I_h",
        "colab_type": "code",
        "colab": {
          "base_uri": "https://localhost:8080/",
          "height": 296
        },
        "outputId": "675e8e67-16c6-4da7-996f-67e128c9f726"
      },
      "source": [
        "df.head()"
      ],
      "execution_count": 4,
      "outputs": [
        {
          "output_type": "execute_result",
          "data": {
            "text/html": [
              "<div>\n",
              "<style scoped>\n",
              "    .dataframe tbody tr th:only-of-type {\n",
              "        vertical-align: middle;\n",
              "    }\n",
              "\n",
              "    .dataframe tbody tr th {\n",
              "        vertical-align: top;\n",
              "    }\n",
              "\n",
              "    .dataframe thead th {\n",
              "        text-align: right;\n",
              "    }\n",
              "</style>\n",
              "<table border=\"1\" class=\"dataframe\">\n",
              "  <thead>\n",
              "    <tr style=\"text-align: right;\">\n",
              "      <th></th>\n",
              "      <th>Title</th>\n",
              "      <th>Address</th>\n",
              "      <th>Bedrooms</th>\n",
              "      <th>Bathrooms</th>\n",
              "      <th>Rent</th>\n",
              "      <th>Square Footage</th>\n",
              "      <th>Availability</th>\n",
              "      <th>Amenities</th>\n",
              "    </tr>\n",
              "  </thead>\n",
              "  <tbody>\n",
              "    <tr>\n",
              "      <th>0</th>\n",
              "      <td>Amelia</td>\n",
              "      <td>411 29th St, Oakland, CA 94609 â€“ Pill Hill</td>\n",
              "      <td>1 Bed</td>\n",
              "      <td>1 Bath</td>\n",
              "      <td>$2,875 - 2,995</td>\n",
              "      <td>502 Sq Ft</td>\n",
              "      <td>Available Now</td>\n",
              "      <td>100% Smoke Free Community, Air Conditioning, B...</td>\n",
              "    </tr>\n",
              "    <tr>\n",
              "      <th>1</th>\n",
              "      <td>Amelia</td>\n",
              "      <td>411 29th St, Oakland, CA 94609 â€“ Pill Hill</td>\n",
              "      <td>1 Bed</td>\n",
              "      <td>1 Bath</td>\n",
              "      <td>$2,875</td>\n",
              "      <td>502 Sq Ft</td>\n",
              "      <td>Available Now</td>\n",
              "      <td>100% Smoke Free Community, Air Conditioning, B...</td>\n",
              "    </tr>\n",
              "    <tr>\n",
              "      <th>2</th>\n",
              "      <td>Amelia</td>\n",
              "      <td>411 29th St, Oakland, CA 94609 â€“ Pill Hill</td>\n",
              "      <td>1 Bed</td>\n",
              "      <td>1 Bath</td>\n",
              "      <td>$2,875</td>\n",
              "      <td>502 Sq Ft</td>\n",
              "      <td>Available Now</td>\n",
              "      <td>100% Smoke Free Community, Air Conditioning, B...</td>\n",
              "    </tr>\n",
              "    <tr>\n",
              "      <th>3</th>\n",
              "      <td>Amelia</td>\n",
              "      <td>411 29th St, Oakland, CA 94609 â€“ Pill Hill</td>\n",
              "      <td>1 Bed</td>\n",
              "      <td>1 Bath</td>\n",
              "      <td>$2,875</td>\n",
              "      <td>502 Sq Ft</td>\n",
              "      <td>Available Now</td>\n",
              "      <td>100% Smoke Free Community, Air Conditioning, B...</td>\n",
              "    </tr>\n",
              "    <tr>\n",
              "      <th>4</th>\n",
              "      <td>Amelia</td>\n",
              "      <td>411 29th St, Oakland, CA 94609 â€“ Pill Hill</td>\n",
              "      <td>1 Bed</td>\n",
              "      <td>1 Bath</td>\n",
              "      <td>$2,875</td>\n",
              "      <td>502 Sq Ft</td>\n",
              "      <td>Available Now</td>\n",
              "      <td>100% Smoke Free Community, Air Conditioning, B...</td>\n",
              "    </tr>\n",
              "  </tbody>\n",
              "</table>\n",
              "</div>"
            ],
            "text/plain": [
              "    Title  ...                                          Amenities\n",
              "0  Amelia  ...  100% Smoke Free Community, Air Conditioning, B...\n",
              "1  Amelia  ...  100% Smoke Free Community, Air Conditioning, B...\n",
              "2  Amelia  ...  100% Smoke Free Community, Air Conditioning, B...\n",
              "3  Amelia  ...  100% Smoke Free Community, Air Conditioning, B...\n",
              "4  Amelia  ...  100% Smoke Free Community, Air Conditioning, B...\n",
              "\n",
              "[5 rows x 8 columns]"
            ]
          },
          "metadata": {
            "tags": []
          },
          "execution_count": 4
        }
      ]
    },
    {
      "cell_type": "code",
      "metadata": {
        "id": "7CsZIHyaboZ6",
        "colab_type": "code",
        "colab": {
          "base_uri": "https://localhost:8080/",
          "height": 175
        },
        "outputId": "471e9a3e-032d-4a14-a698-ba0f7e15637b"
      },
      "source": [
        "df.isna().sum()"
      ],
      "execution_count": 5,
      "outputs": [
        {
          "output_type": "execute_result",
          "data": {
            "text/plain": [
              "Title               0\n",
              "Address             0\n",
              "Bedrooms            0\n",
              "Bathrooms           2\n",
              "Rent                0\n",
              "Square Footage    107\n",
              "Availability        0\n",
              "Amenities         155\n",
              "dtype: int64"
            ]
          },
          "metadata": {
            "tags": []
          },
          "execution_count": 5
        }
      ]
    },
    {
      "cell_type": "code",
      "metadata": {
        "id": "i0kxYBn4fnP5",
        "colab_type": "code",
        "colab": {}
      },
      "source": [
        "#replacing null values in amenities column with empty strings, will address null values in bathrooms and square footage columns later\n",
        "df['Amenities'].fillna('', inplace = True)"
      ],
      "execution_count": 6,
      "outputs": []
    },
    {
      "cell_type": "markdown",
      "metadata": {
        "id": "I43TQ8yAcBNh",
        "colab_type": "text"
      },
      "source": [
        "#Cleaning Bedroom and Bathroom Columns"
      ]
    },
    {
      "cell_type": "code",
      "metadata": {
        "id": "yYN8ojpu2q70",
        "colab_type": "code",
        "colab": {
          "base_uri": "https://localhost:8080/",
          "height": 210
        },
        "outputId": "68a85b3b-0ee3-402f-d173-3759070c9344"
      },
      "source": [
        "df.Bedrooms.value_counts()"
      ],
      "execution_count": 7,
      "outputs": [
        {
          "output_type": "execute_result",
          "data": {
            "text/plain": [
              "1 Bed     1341\n",
              "2 BRs     1120\n",
              "Studio     474\n",
              "3 BRs      227\n",
              "4 BRs       54\n",
              "5 BRs       13\n",
              "6 BRs        8\n",
              "7 BRs        1\n",
              "8 BRs        1\n",
              "13 BRs       1\n",
              "Name: Bedrooms, dtype: int64"
            ]
          },
          "metadata": {
            "tags": []
          },
          "execution_count": 7
        }
      ]
    },
    {
      "cell_type": "code",
      "metadata": {
        "id": "25jWjKfB8hVg",
        "colab_type": "code",
        "colab": {
          "base_uri": "https://localhost:8080/",
          "height": 246
        },
        "outputId": "8090606b-cedf-4518-cf70-1dde93e64616"
      },
      "source": [
        "df.Bathrooms.value_counts()"
      ],
      "execution_count": 8,
      "outputs": [
        {
          "output_type": "execute_result",
          "data": {
            "text/plain": [
              "1 Bath       2057\n",
              "2 Baths       949\n",
              "2Â½ Baths      98\n",
              "1Â½ Baths      69\n",
              "3 Baths        49\n",
              "0Â½ Baths       7\n",
              "4Â½ Baths       4\n",
              "5Â½ Baths       1\n",
              "10 Baths        1\n",
              "3Â½ Baths       1\n",
              "17 Baths        1\n",
              "4 Baths         1\n",
              "Name: Bathrooms, dtype: int64"
            ]
          },
          "metadata": {
            "tags": []
          },
          "execution_count": 8
        }
      ]
    },
    {
      "cell_type": "code",
      "metadata": {
        "id": "u_e-pkcY22Fm",
        "colab_type": "code",
        "colab": {}
      },
      "source": [
        "# replacing Studio with 0 bedrooms and removing all non-digits from Bedrooms column\n",
        "df.Bedrooms = pd.to_numeric(df.Bedrooms.str.replace('Studio','0').str.replace('\\D','', regex = True))\n",
        "\n",
        "# converting fractions to decimals and removing all letters from Bathrooms column\n",
        "df.Bathrooms = pd.to_numeric(df.Bathrooms.str.replace('Â½','.5').str.replace('[a-zA-z]','', regex = True).str.strip())\n"
      ],
      "execution_count": 9,
      "outputs": []
    },
    {
      "cell_type": "code",
      "metadata": {
        "id": "Q2tTjhJ0xfTa",
        "colab_type": "code",
        "colab": {
          "base_uri": "https://localhost:8080/",
          "height": 157
        },
        "outputId": "22466ba2-39e5-495b-d101-4923b9470f7c"
      },
      "source": [
        "#inspecting rows where number of bathrooms is missing\n",
        "df.loc[df['Bathrooms'].isna()]"
      ],
      "execution_count": 10,
      "outputs": [
        {
          "output_type": "execute_result",
          "data": {
            "text/html": [
              "<div>\n",
              "<style scoped>\n",
              "    .dataframe tbody tr th:only-of-type {\n",
              "        vertical-align: middle;\n",
              "    }\n",
              "\n",
              "    .dataframe tbody tr th {\n",
              "        vertical-align: top;\n",
              "    }\n",
              "\n",
              "    .dataframe thead th {\n",
              "        text-align: right;\n",
              "    }\n",
              "</style>\n",
              "<table border=\"1\" class=\"dataframe\">\n",
              "  <thead>\n",
              "    <tr style=\"text-align: right;\">\n",
              "      <th></th>\n",
              "      <th>Title</th>\n",
              "      <th>Address</th>\n",
              "      <th>Bedrooms</th>\n",
              "      <th>Bathrooms</th>\n",
              "      <th>Rent</th>\n",
              "      <th>Square Footage</th>\n",
              "      <th>Availability</th>\n",
              "      <th>Amenities</th>\n",
              "    </tr>\n",
              "  </thead>\n",
              "  <tbody>\n",
              "    <tr>\n",
              "      <th>2458</th>\n",
              "      <td>Aqua Via</td>\n",
              "      <td>125 2nd St, Oakland, CA 94607 â€“ Jack London ...</td>\n",
              "      <td>0</td>\n",
              "      <td>NaN</td>\n",
              "      <td>$2,598 - 5,359</td>\n",
              "      <td>790 Sq Ft</td>\n",
              "      <td>26-Oct</td>\n",
              "      <td>Air Conditioning in Every Home, Award-Winning ...</td>\n",
              "    </tr>\n",
              "    <tr>\n",
              "      <th>2459</th>\n",
              "      <td>Aqua Via</td>\n",
              "      <td>125 2nd St, Oakland, CA 94607 â€“ Jack London ...</td>\n",
              "      <td>0</td>\n",
              "      <td>NaN</td>\n",
              "      <td>$2,598 - 5,359</td>\n",
              "      <td>790 Sq Ft</td>\n",
              "      <td>26-Oct</td>\n",
              "      <td>Air Conditioning in Every Home, Award-Winning ...</td>\n",
              "    </tr>\n",
              "  </tbody>\n",
              "</table>\n",
              "</div>"
            ],
            "text/plain": [
              "         Title  ...                                          Amenities\n",
              "2458  Aqua Via  ...  Air Conditioning in Every Home, Award-Winning ...\n",
              "2459  Aqua Via  ...  Air Conditioning in Every Home, Award-Winning ...\n",
              "\n",
              "[2 rows x 8 columns]"
            ]
          },
          "metadata": {
            "tags": []
          },
          "execution_count": 10
        }
      ]
    },
    {
      "cell_type": "code",
      "metadata": {
        "id": "96hY4ut5xoue",
        "colab_type": "code",
        "colab": {}
      },
      "source": [
        "# only 2 apartments don't have bathrooms listed and both are studios, assuming this means 1 Bathroom\n",
        "df['Bathrooms'].fillna(1, inplace = True)"
      ],
      "execution_count": 11,
      "outputs": []
    },
    {
      "cell_type": "markdown",
      "metadata": {
        "id": "l3JuWbnicH6r",
        "colab_type": "text"
      },
      "source": [
        "# Extracting Features from Address Column"
      ]
    },
    {
      "cell_type": "code",
      "metadata": {
        "id": "Zex-H21SGjFd",
        "colab_type": "code",
        "colab": {}
      },
      "source": [
        "#extracting city from address and saving it as a new column\n",
        "df['City'] = df.Address.apply(lambda x: x.split(', CA')[0]).apply(lambda x: x.split(',')[-1]).str.strip()"
      ],
      "execution_count": 12,
      "outputs": []
    },
    {
      "cell_type": "code",
      "metadata": {
        "id": "ofk4uricIp-1",
        "colab_type": "code",
        "colab": {
          "base_uri": "https://localhost:8080/",
          "height": 140
        },
        "outputId": "c144d68e-95f3-49db-a429-86cb4f99769a"
      },
      "source": [
        "df['City'].value_counts()"
      ],
      "execution_count": 13,
      "outputs": [
        {
          "output_type": "execute_result",
          "data": {
            "text/plain": [
              "Oakland        2446\n",
              "Berkeley        333\n",
              "Emeryville      311\n",
              "Alameda          99\n",
              "San Leandro      37\n",
              "Piedmont         14\n",
              "Name: City, dtype: int64"
            ]
          },
          "metadata": {
            "tags": []
          },
          "execution_count": 13
        }
      ]
    },
    {
      "cell_type": "code",
      "metadata": {
        "id": "aGcHksOtE7dV",
        "colab_type": "code",
        "colab": {}
      },
      "source": [
        "#extracting zip code from address and storing this as a new column\n",
        "df['Zip_Code'] = df.Address.apply(lambda x: x.split('CA')[-1]).apply(lambda x: x.split('â€“')[0]).str.strip()"
      ],
      "execution_count": 14,
      "outputs": []
    },
    {
      "cell_type": "code",
      "metadata": {
        "id": "m0EscjwFGOUq",
        "colab_type": "code",
        "colab": {
          "base_uri": "https://localhost:8080/",
          "height": 457
        },
        "outputId": "6cd3e8c4-ad41-43f7-b161-5b1b399719c6"
      },
      "source": [
        "df['Zip_Code'].value_counts()"
      ],
      "execution_count": 15,
      "outputs": [
        {
          "output_type": "execute_result",
          "data": {
            "text/plain": [
              "94612    1347\n",
              "94608     374\n",
              "94609     326\n",
              "94607     241\n",
              "94704     217\n",
              "94606     150\n",
              "94611     134\n",
              "94501      87\n",
              "94610      62\n",
              "94702      39\n",
              "94705      38\n",
              "94577      37\n",
              "94619      34\n",
              "94601      28\n",
              "94605      24\n",
              "94621      21\n",
              "94703      18\n",
              "94602      18\n",
              "94709      17\n",
              "94502      12\n",
              "94618       7\n",
              "94603       5\n",
              "94710       3\n",
              "94708       1\n",
              "Name: Zip_Code, dtype: int64"
            ]
          },
          "metadata": {
            "tags": []
          },
          "execution_count": 15
        }
      ]
    },
    {
      "cell_type": "code",
      "metadata": {
        "id": "38f168c6A6m_",
        "colab_type": "code",
        "colab": {}
      },
      "source": [
        "#extracting neighborhood from address and storing this as a new column\n",
        "df['Neighborhood'] = df.Address.apply(lambda x: x.split('â€“')[-1]).str.strip()"
      ],
      "execution_count": 16,
      "outputs": []
    },
    {
      "cell_type": "code",
      "metadata": {
        "id": "Cs5aPNPLCu1z",
        "colab_type": "code",
        "colab": {
          "base_uri": "https://localhost:8080/",
          "height": 281
        },
        "outputId": "e19ea777-5199-4e91-e0eb-13e538176f3a"
      },
      "source": [
        "#finding neighborhoods that appear most frequently repeatedly\n",
        "top_neighborhoods = df['Neighborhood'].value_counts()\n",
        "top_neighborhoods[top_neighborhoods > 50]"
      ],
      "execution_count": 17,
      "outputs": [
        {
          "output_type": "execute_result",
          "data": {
            "text/plain": [
              "Lakeside              669\n",
              "Uptown Oakland        346\n",
              "Emeryville            294\n",
              "Westlake              268\n",
              "Jack London Square    172\n",
              "South Berkeley        146\n",
              "Pill Hill             139\n",
              "Oakland               139\n",
              "Shafter               123\n",
              "West Alameda           68\n",
              "Elmwood                67\n",
              "Mosswood               63\n",
              "West Oakland           61\n",
              "Piedmont Avenue        52\n",
              "Name: Neighborhood, dtype: int64"
            ]
          },
          "metadata": {
            "tags": []
          },
          "execution_count": 17
        }
      ]
    },
    {
      "cell_type": "markdown",
      "metadata": {
        "id": "_jWjrgNTcnop",
        "colab_type": "text"
      },
      "source": [
        "#Cleaning Rent Column"
      ]
    },
    {
      "cell_type": "code",
      "metadata": {
        "id": "prSjDzCwI4WU",
        "colab_type": "code",
        "colab": {
          "base_uri": "https://localhost:8080/",
          "height": 52
        },
        "outputId": "64338238-61d4-4dd9-e362-52619cb8de05"
      },
      "source": [
        "#testing to see how many listings have a range for rent \n",
        "print('Number of Listings with Rent Range:', len(df[df['Rent'].str.contains('-')]))\n",
        "print('Number of Listings with No Rent Listed:', len(df[df['Rent'].str.contains('Call')]))\n"
      ],
      "execution_count": 18,
      "outputs": [
        {
          "output_type": "stream",
          "text": [
            "Number of Listings with Rent Range: 1049\n",
            "Number of Listings with No Rent Listed: 273\n"
          ],
          "name": "stdout"
        }
      ]
    },
    {
      "cell_type": "code",
      "metadata": {
        "id": "afBGyBn4hOSc",
        "colab_type": "code",
        "colab": {}
      },
      "source": [
        "# dropping rows where rent isn't listed\n",
        "df.drop(df.loc[df['Rent'].str.contains('Call')].index, axis = 0, inplace = True)\n",
        "\n",
        "#removing dollar signs, commas and / Person from rent column\n",
        "df['Rent'] = df['Rent'].str.replace('$','').str.replace(',','').str.replace('/ Person','')"
      ],
      "execution_count": 19,
      "outputs": []
    },
    {
      "cell_type": "code",
      "metadata": {
        "id": "e5H5b0vAqBBF",
        "colab_type": "code",
        "colab": {
          "base_uri": "https://localhost:8080/",
          "height": 34
        },
        "outputId": "f226224d-c03b-4ca9-9a58-2e03d122cd98"
      },
      "source": [
        "df.shape"
      ],
      "execution_count": 20,
      "outputs": [
        {
          "output_type": "execute_result",
          "data": {
            "text/plain": [
              "(2967, 11)"
            ]
          },
          "metadata": {
            "tags": []
          },
          "execution_count": 20
        }
      ]
    },
    {
      "cell_type": "code",
      "metadata": {
        "id": "BLKlwhndpQo2",
        "colab_type": "code",
        "colab": {}
      },
      "source": [
        "# creating new column with average rents for listings where there is a rent range, and the rent amount for listings with just one rent amount\n",
        "avg_rent = []\n",
        "for x in df['Rent']:\n",
        "  if '-' in x:\n",
        "    avg = round((int(x.split('-')[0]) + int(x.split('-')[-1])) / 2)  #rounding up since rent prices generally don't include decimals\n",
        "    avg_rent.append(avg)\n",
        "  else:\n",
        "    avg_rent.append(x)\n",
        "\n",
        "df['Avg_Rent'] = avg_rent"
      ],
      "execution_count": 21,
      "outputs": []
    },
    {
      "cell_type": "markdown",
      "metadata": {
        "id": "hhZsGuQJc_nS",
        "colab_type": "text"
      },
      "source": [
        "#Cleaning Square Footage Column"
      ]
    },
    {
      "cell_type": "code",
      "metadata": {
        "id": "1Y90LDWLyGKo",
        "colab_type": "code",
        "colab": {
          "base_uri": "https://localhost:8080/",
          "height": 246
        },
        "outputId": "cea5913a-c837-4f6b-8df9-e1c75c095bff"
      },
      "source": [
        "df.isna().sum()"
      ],
      "execution_count": 22,
      "outputs": [
        {
          "output_type": "execute_result",
          "data": {
            "text/plain": [
              "Title               0\n",
              "Address             0\n",
              "Bedrooms            0\n",
              "Bathrooms           0\n",
              "Rent                0\n",
              "Square Footage    103\n",
              "Availability        0\n",
              "Amenities           0\n",
              "City                0\n",
              "Zip_Code            0\n",
              "Neighborhood        0\n",
              "Avg_Rent            0\n",
              "dtype: int64"
            ]
          },
          "metadata": {
            "tags": []
          },
          "execution_count": 22
        }
      ]
    },
    {
      "cell_type": "code",
      "metadata": {
        "id": "xJLrQ3cxMkmh",
        "colab_type": "code",
        "colab": {}
      },
      "source": [
        "#removing letters, commas and extra whitespace from square footage column\n",
        "df['Square Footage'] = df['Square Footage'].str.replace('[a-zA-z]','',regex = True).str.replace(',','').str.strip()"
      ],
      "execution_count": 23,
      "outputs": []
    },
    {
      "cell_type": "code",
      "metadata": {
        "id": "JSLLrVTzyKlZ",
        "colab_type": "code",
        "colab": {}
      },
      "source": [
        "# creating new column with average square footage for listings where there is a sqft range, and the square footage for listings with just one sqft amount\n",
        "avg_sqft = []\n",
        "for x in df['Square Footage']:\n",
        "  if '-' in str(x):\n",
        "    avg = round((int(x.split('-')[0]) + int(x.split('-')[-1])) / 2)\n",
        "    avg_sqft.append(avg)\n",
        "  else:\n",
        "    avg_sqft.append(x)\n",
        "df['Avg_Sqft'] = pd.to_numeric(avg_sqft)\n"
      ],
      "execution_count": 24,
      "outputs": []
    },
    {
      "cell_type": "code",
      "metadata": {
        "id": "Ff0E-aFvMEqI",
        "colab_type": "code",
        "colab": {
          "base_uri": "https://localhost:8080/",
          "height": 474
        },
        "outputId": "7dc84f01-8203-45eb-8f4d-4804f026b57e"
      },
      "source": [
        "df['Avg_Sqft'].tail(25)"
      ],
      "execution_count": 25,
      "outputs": [
        {
          "output_type": "execute_result",
          "data": {
            "text/plain": [
              "3215     432.0\n",
              "3216     432.0\n",
              "3217       NaN\n",
              "3218     432.0\n",
              "3219     666.0\n",
              "3220     785.0\n",
              "3221       NaN\n",
              "3222       NaN\n",
              "3223     470.0\n",
              "3224    1400.0\n",
              "3225    1063.0\n",
              "3226     432.0\n",
              "3227       NaN\n",
              "3228    1750.0\n",
              "3229       NaN\n",
              "3230       NaN\n",
              "3231     800.0\n",
              "3232    1150.0\n",
              "3233     930.0\n",
              "3234       NaN\n",
              "3235       NaN\n",
              "3236     885.0\n",
              "3237     715.0\n",
              "3238     885.0\n",
              "3239     700.0\n",
              "Name: Avg_Sqft, dtype: float64"
            ]
          },
          "metadata": {
            "tags": []
          },
          "execution_count": 25
        }
      ]
    },
    {
      "cell_type": "code",
      "metadata": {
        "id": "UxbWT2z5kbQB",
        "colab_type": "code",
        "colab": {
          "base_uri": "https://localhost:8080/",
          "height": 158
        },
        "outputId": "f05f79f5-3ab9-465b-9f5b-e9888f18cdc9"
      },
      "source": [
        "#getting a sense of how many missing square footage values there are for each bedroom size\n",
        "df.loc[df['Avg_Sqft'].isna()]['Bedrooms'].value_counts()"
      ],
      "execution_count": 26,
      "outputs": [
        {
          "output_type": "execute_result",
          "data": {
            "text/plain": [
              "1    42\n",
              "2    26\n",
              "3    21\n",
              "4     6\n",
              "0     6\n",
              "7     1\n",
              "6     1\n",
              "Name: Bedrooms, dtype: int64"
            ]
          },
          "metadata": {
            "tags": []
          },
          "execution_count": 26
        }
      ]
    },
    {
      "cell_type": "code",
      "metadata": {
        "id": "o-mXEdq_jwzY",
        "colab_type": "code",
        "colab": {
          "base_uri": "https://localhost:8080/",
          "height": 343
        },
        "outputId": "794d7dc8-4284-482b-dd28-201fb96af6aa"
      },
      "source": [
        "#getting average square footage by bedroom size\n",
        "averages = round(df.groupby('Bedrooms', as_index = False)['Avg_Sqft'].mean())\n",
        "averages"
      ],
      "execution_count": 27,
      "outputs": [
        {
          "output_type": "execute_result",
          "data": {
            "text/html": [
              "<div>\n",
              "<style scoped>\n",
              "    .dataframe tbody tr th:only-of-type {\n",
              "        vertical-align: middle;\n",
              "    }\n",
              "\n",
              "    .dataframe tbody tr th {\n",
              "        vertical-align: top;\n",
              "    }\n",
              "\n",
              "    .dataframe thead th {\n",
              "        text-align: right;\n",
              "    }\n",
              "</style>\n",
              "<table border=\"1\" class=\"dataframe\">\n",
              "  <thead>\n",
              "    <tr style=\"text-align: right;\">\n",
              "      <th></th>\n",
              "      <th>Bedrooms</th>\n",
              "      <th>Avg_Sqft</th>\n",
              "    </tr>\n",
              "  </thead>\n",
              "  <tbody>\n",
              "    <tr>\n",
              "      <th>0</th>\n",
              "      <td>0</td>\n",
              "      <td>501.0</td>\n",
              "    </tr>\n",
              "    <tr>\n",
              "      <th>1</th>\n",
              "      <td>1</td>\n",
              "      <td>695.0</td>\n",
              "    </tr>\n",
              "    <tr>\n",
              "      <th>2</th>\n",
              "      <td>2</td>\n",
              "      <td>1037.0</td>\n",
              "    </tr>\n",
              "    <tr>\n",
              "      <th>3</th>\n",
              "      <td>3</td>\n",
              "      <td>1376.0</td>\n",
              "    </tr>\n",
              "    <tr>\n",
              "      <th>4</th>\n",
              "      <td>4</td>\n",
              "      <td>1710.0</td>\n",
              "    </tr>\n",
              "    <tr>\n",
              "      <th>5</th>\n",
              "      <td>5</td>\n",
              "      <td>2102.0</td>\n",
              "    </tr>\n",
              "    <tr>\n",
              "      <th>6</th>\n",
              "      <td>6</td>\n",
              "      <td>1926.0</td>\n",
              "    </tr>\n",
              "    <tr>\n",
              "      <th>7</th>\n",
              "      <td>7</td>\n",
              "      <td>NaN</td>\n",
              "    </tr>\n",
              "    <tr>\n",
              "      <th>8</th>\n",
              "      <td>8</td>\n",
              "      <td>2976.0</td>\n",
              "    </tr>\n",
              "    <tr>\n",
              "      <th>9</th>\n",
              "      <td>13</td>\n",
              "      <td>6272.0</td>\n",
              "    </tr>\n",
              "  </tbody>\n",
              "</table>\n",
              "</div>"
            ],
            "text/plain": [
              "   Bedrooms  Avg_Sqft\n",
              "0         0     501.0\n",
              "1         1     695.0\n",
              "2         2    1037.0\n",
              "3         3    1376.0\n",
              "4         4    1710.0\n",
              "5         5    2102.0\n",
              "6         6    1926.0\n",
              "7         7       NaN\n",
              "8         8    2976.0\n",
              "9        13    6272.0"
            ]
          },
          "metadata": {
            "tags": []
          },
          "execution_count": 27
        }
      ]
    },
    {
      "cell_type": "code",
      "metadata": {
        "id": "23SBkhd3l1aK",
        "colab_type": "code",
        "colab": {}
      },
      "source": [
        "#replacing null values in Avg_Sqft column with average square footage for the same bedroom size\n",
        "for i in range (0,7):\n",
        "  df.loc[(df['Avg_Sqft'].isna()) & (df['Bedrooms'] == i),'Avg_Sqft'] = averages['Avg_Sqft'][i]"
      ],
      "execution_count": 28,
      "outputs": []
    },
    {
      "cell_type": "code",
      "metadata": {
        "id": "X8NSxMTwpk1G",
        "colab_type": "code",
        "colab": {}
      },
      "source": [
        "# dropping rows where bedroom size is 7 or higher, these are outliers anyway and it will address the missing square footage value for the one 7 bedroom home/apartment that we have\n",
        "df.drop(df.loc[df['Bedrooms'] >= 7].index, axis = 0, inplace = True)"
      ],
      "execution_count": 29,
      "outputs": []
    },
    {
      "cell_type": "markdown",
      "metadata": {
        "id": "QuyX3zhAP52J",
        "colab_type": "text"
      },
      "source": [
        "# NLP Model for Amenities Column\n",
        "Trying to see if training an NLP model using the bag of words approach will help gain insight on useful features to extract from the Amenities column."
      ]
    },
    {
      "cell_type": "code",
      "metadata": {
        "id": "rlPVlX3rP-yj",
        "colab_type": "code",
        "colab": {
          "base_uri": "https://localhost:8080/",
          "height": 195
        },
        "outputId": "be942d13-4a20-4733-ea80-10f5ba9af5ed"
      },
      "source": [
        "from matplotlib import pyplot as plt\n",
        "import seaborn as sns\n",
        "from sklearn.feature_extraction.text import CountVectorizer\n",
        "from sklearn.metrics import confusion_matrix\n",
        "from sklearn import metrics\n",
        "from sklearn.model_selection import train_test_split\n",
        "from sklearn.metrics import mean_squared_error \n",
        "from sklearn.metrics import r2_score\n",
        "from sklearn.ensemble import RandomForestRegressor\n",
        "from nltk.stem.porter import PorterStemmer\n",
        "from nltk import word_tokenize, WordNetLemmatizer\n",
        "from nltk.corpus import stopwords\n",
        "import nltk\n",
        "import re \n",
        "import nltk\n",
        "nltk.download('stopwords')\n",
        "nltk.download('wordnet')\n",
        "nltk.download('punkt')"
      ],
      "execution_count": 30,
      "outputs": [
        {
          "output_type": "stream",
          "text": [
            "/usr/local/lib/python3.6/dist-packages/statsmodels/tools/_testing.py:19: FutureWarning: pandas.util.testing is deprecated. Use the functions in the public API at pandas.testing instead.\n",
            "  import pandas.util.testing as tm\n"
          ],
          "name": "stderr"
        },
        {
          "output_type": "stream",
          "text": [
            "[nltk_data] Downloading package stopwords to /root/nltk_data...\n",
            "[nltk_data]   Unzipping corpora/stopwords.zip.\n",
            "[nltk_data] Downloading package wordnet to /root/nltk_data...\n",
            "[nltk_data]   Unzipping corpora/wordnet.zip.\n",
            "[nltk_data] Downloading package punkt to /root/nltk_data...\n",
            "[nltk_data]   Unzipping tokenizers/punkt.zip.\n"
          ],
          "name": "stdout"
        },
        {
          "output_type": "execute_result",
          "data": {
            "text/plain": [
              "True"
            ]
          },
          "metadata": {
            "tags": []
          },
          "execution_count": 30
        }
      ]
    },
    {
      "cell_type": "code",
      "metadata": {
        "id": "_dZLdp6kQAZE",
        "colab_type": "code",
        "colab": {
          "base_uri": "https://localhost:8080/",
          "height": 279
        },
        "outputId": "8009e288-5d9a-4411-8db2-3a6b4039a562"
      },
      "source": [
        "#plotting length of amenities descriptions\n",
        "length = df['Amenities'].str.len()\n",
        "sns.distplot(length)\n",
        "plt.show()"
      ],
      "execution_count": 31,
      "outputs": [
        {
          "output_type": "display_data",
          "data": {
            "image/png": "[encoded data removed]",
            "text/plain": [
              "<Figure size 432x288 with 1 Axes>"
            ]
          },
          "metadata": {
            "tags": [],
            "needs_background": "light"
          }
        }
      ]
    },
    {
      "cell_type": "code",
      "metadata": {
        "id": "TFifISpWQJcD",
        "colab_type": "code",
        "colab": {}
      },
      "source": [
        "#getting set of English stopwords\n",
        "stopword_set = set(stopwords.words('english'))\n",
        "\n",
        "#NLP processing\n",
        "lemma = WordNetLemmatizer()"
      ],
      "execution_count": 32,
      "outputs": []
    },
    {
      "cell_type": "code",
      "metadata": {
        "id": "8WzdtDk0QT3J",
        "colab_type": "code",
        "colab": {
          "base_uri": "https://localhost:8080/",
          "height": 213
        },
        "outputId": "044706e3-12f7-450e-9717-a2e96cb7ba10"
      },
      "source": [
        "#clean the raw text\n",
        "amenities_text = []\n",
        "for amenity in df['Amenities']:\n",
        "  text = re.sub('[^a-zA-z]',\" \", str(amenity))\n",
        "  text = text.lower()\n",
        "  text = word_tokenize(text, language = 'english')\n",
        "  text = [lemma.lemmatize(word) for word in text if(word) not in stopword_set]\n",
        "  text = ' '.join(text)\n",
        "  amenities_text.append(text)\n",
        "\n",
        "amenities_text[:10]"
      ],
      "execution_count": 33,
      "outputs": [
        {
          "output_type": "execute_result",
          "data": {
            "text/plain": [
              "['smoke free community air conditioning bicycle storage brand new luxury living controlled access courtyard firepit dog washing station elevator fiber internet gourmet kitchen home full size washer dryer individual climate control minute great shopping amp dining motorized parking lift motorized parking lift noise reducing dual pane window noise reducing insulated dual pane window package locker pet allowed pet welcome weight restriction plank flooring quartz countertop quartz counter top tile backsplash rooftop terrace barbecue rooftop terrace downtown view secure bike parking stainless steel appliance sweeping view oakland hill sweeping view san francisco view sf oakland deposit monthly pet rent lb weight limit pet limit built unit story month month month month month month month month month month month month month month month month maintenance site online service pet care pet washing station public transportation elevator multi use room roof terrace sundeck courtyard grill patio grill bike storage individual locking bedroom private bathroom study lounge high speed internet access wi fi washer dryer unit air conditioning heating cable ready tub shower dishwasher disposal ice maker granite countertop stainless steel appliance eat kitchen kitchen microwave oven range refrigerator freezer hardwood floor vinyl flooring dining room view linen closet double pane window window covering package service property manager site',\n",
              " 'smoke free community air conditioning bicycle storage brand new luxury living controlled access courtyard firepit dog washing station elevator fiber internet gourmet kitchen home full size washer dryer individual climate control minute great shopping amp dining motorized parking lift motorized parking lift noise reducing dual pane window noise reducing insulated dual pane window package locker pet allowed pet welcome weight restriction plank flooring quartz countertop quartz counter top tile backsplash rooftop terrace barbecue rooftop terrace downtown view secure bike parking stainless steel appliance sweeping view oakland hill sweeping view san francisco view sf oakland deposit monthly pet rent lb weight limit pet limit built unit story month month month month month month month month month month month month month month month month maintenance site online service pet care pet washing station public transportation elevator multi use room roof terrace sundeck courtyard grill patio grill bike storage individual locking bedroom private bathroom study lounge high speed internet access wi fi washer dryer unit air conditioning heating cable ready tub shower dishwasher disposal ice maker granite countertop stainless steel appliance eat kitchen kitchen microwave oven range refrigerator freezer hardwood floor vinyl flooring dining room view linen closet double pane window window covering package service property manager site',\n",
              " 'smoke free community air conditioning bicycle storage brand new luxury living controlled access courtyard firepit dog washing station elevator fiber internet gourmet kitchen home full size washer dryer individual climate control minute great shopping amp dining motorized parking lift motorized parking lift noise reducing dual pane window noise reducing insulated dual pane window package locker pet allowed pet welcome weight restriction plank flooring quartz countertop quartz counter top tile backsplash rooftop terrace barbecue rooftop terrace downtown view secure bike parking stainless steel appliance sweeping view oakland hill sweeping view san francisco view sf oakland deposit monthly pet rent lb weight limit pet limit built unit story month month month month month month month month month month month month month month month month maintenance site online service pet care pet washing station public transportation elevator multi use room roof terrace sundeck courtyard grill patio grill bike storage individual locking bedroom private bathroom study lounge high speed internet access wi fi washer dryer unit air conditioning heating cable ready tub shower dishwasher disposal ice maker granite countertop stainless steel appliance eat kitchen kitchen microwave oven range refrigerator freezer hardwood floor vinyl flooring dining room view linen closet double pane window window covering package service property manager site',\n",
              " 'smoke free community air conditioning bicycle storage brand new luxury living controlled access courtyard firepit dog washing station elevator fiber internet gourmet kitchen home full size washer dryer individual climate control minute great shopping amp dining motorized parking lift motorized parking lift noise reducing dual pane window noise reducing insulated dual pane window package locker pet allowed pet welcome weight restriction plank flooring quartz countertop quartz counter top tile backsplash rooftop terrace barbecue rooftop terrace downtown view secure bike parking stainless steel appliance sweeping view oakland hill sweeping view san francisco view sf oakland deposit monthly pet rent lb weight limit pet limit built unit story month month month month month month month month month month month month month month month month maintenance site online service pet care pet washing station public transportation elevator multi use room roof terrace sundeck courtyard grill patio grill bike storage individual locking bedroom private bathroom study lounge high speed internet access wi fi washer dryer unit air conditioning heating cable ready tub shower dishwasher disposal ice maker granite countertop stainless steel appliance eat kitchen kitchen microwave oven range refrigerator freezer hardwood floor vinyl flooring dining room view linen closet double pane window window covering package service property manager site',\n",
              " 'smoke free community air conditioning bicycle storage brand new luxury living controlled access courtyard firepit dog washing station elevator fiber internet gourmet kitchen home full size washer dryer individual climate control minute great shopping amp dining motorized parking lift motorized parking lift noise reducing dual pane window noise reducing insulated dual pane window package locker pet allowed pet welcome weight restriction plank flooring quartz countertop quartz counter top tile backsplash rooftop terrace barbecue rooftop terrace downtown view secure bike parking stainless steel appliance sweeping view oakland hill sweeping view san francisco view sf oakland deposit monthly pet rent lb weight limit pet limit built unit story month month month month month month month month month month month month month month month month maintenance site online service pet care pet washing station public transportation elevator multi use room roof terrace sundeck courtyard grill patio grill bike storage individual locking bedroom private bathroom study lounge high speed internet access wi fi washer dryer unit air conditioning heating cable ready tub shower dishwasher disposal ice maker granite countertop stainless steel appliance eat kitchen kitchen microwave oven range refrigerator freezer hardwood floor vinyl flooring dining room view linen closet double pane window window covering package service property manager site',\n",
              " 'smoke free community air conditioning bicycle storage brand new luxury living controlled access courtyard firepit dog washing station elevator fiber internet gourmet kitchen home full size washer dryer individual climate control minute great shopping amp dining motorized parking lift motorized parking lift noise reducing dual pane window noise reducing insulated dual pane window package locker pet allowed pet welcome weight restriction plank flooring quartz countertop quartz counter top tile backsplash rooftop terrace barbecue rooftop terrace downtown view secure bike parking stainless steel appliance sweeping view oakland hill sweeping view san francisco view sf oakland deposit monthly pet rent lb weight limit pet limit built unit story month month month month month month month month month month month month month month month month maintenance site online service pet care pet washing station public transportation elevator multi use room roof terrace sundeck courtyard grill patio grill bike storage individual locking bedroom private bathroom study lounge high speed internet access wi fi washer dryer unit air conditioning heating cable ready tub shower dishwasher disposal ice maker granite countertop stainless steel appliance eat kitchen kitchen microwave oven range refrigerator freezer hardwood floor vinyl flooring dining room view linen closet double pane window window covering package service property manager site',\n",
              " 'smoke free community air conditioning bicycle storage brand new luxury living controlled access courtyard firepit dog washing station elevator fiber internet gourmet kitchen home full size washer dryer individual climate control minute great shopping amp dining motorized parking lift motorized parking lift noise reducing dual pane window noise reducing insulated dual pane window package locker pet allowed pet welcome weight restriction plank flooring quartz countertop quartz counter top tile backsplash rooftop terrace barbecue rooftop terrace downtown view secure bike parking stainless steel appliance sweeping view oakland hill sweeping view san francisco view sf oakland deposit monthly pet rent lb weight limit pet limit built unit story month month month month month month month month month month month month month month month month maintenance site online service pet care pet washing station public transportation elevator multi use room roof terrace sundeck courtyard grill patio grill bike storage individual locking bedroom private bathroom study lounge high speed internet access wi fi washer dryer unit air conditioning heating cable ready tub shower dishwasher disposal ice maker granite countertop stainless steel appliance eat kitchen kitchen microwave oven range refrigerator freezer hardwood floor vinyl flooring dining room view linen closet double pane window window covering package service property manager site',\n",
              " 'smoke free community air conditioning bicycle storage brand new luxury living controlled access courtyard firepit dog washing station elevator fiber internet gourmet kitchen home full size washer dryer individual climate control minute great shopping amp dining motorized parking lift motorized parking lift noise reducing dual pane window noise reducing insulated dual pane window package locker pet allowed pet welcome weight restriction plank flooring quartz countertop quartz counter top tile backsplash rooftop terrace barbecue rooftop terrace downtown view secure bike parking stainless steel appliance sweeping view oakland hill sweeping view san francisco view sf oakland deposit monthly pet rent lb weight limit pet limit built unit story month month month month month month month month month month month month month month month month maintenance site online service pet care pet washing station public transportation elevator multi use room roof terrace sundeck courtyard grill patio grill bike storage individual locking bedroom private bathroom study lounge high speed internet access wi fi washer dryer unit air conditioning heating cable ready tub shower dishwasher disposal ice maker granite countertop stainless steel appliance eat kitchen kitchen microwave oven range refrigerator freezer hardwood floor vinyl flooring dining room view linen closet double pane window window covering package service property manager site',\n",
              " 'smoke free community air conditioning bicycle storage brand new luxury living controlled access courtyard firepit dog washing station elevator fiber internet gourmet kitchen home full size washer dryer individual climate control minute great shopping amp dining motorized parking lift motorized parking lift noise reducing dual pane window noise reducing insulated dual pane window package locker pet allowed pet welcome weight restriction plank flooring quartz countertop quartz counter top tile backsplash rooftop terrace barbecue rooftop terrace downtown view secure bike parking stainless steel appliance sweeping view oakland hill sweeping view san francisco view sf oakland deposit monthly pet rent lb weight limit pet limit built unit story month month month month month month month month month month month month month month month month maintenance site online service pet care pet washing station public transportation elevator multi use room roof terrace sundeck courtyard grill patio grill bike storage individual locking bedroom private bathroom study lounge high speed internet access wi fi washer dryer unit air conditioning heating cable ready tub shower dishwasher disposal ice maker granite countertop stainless steel appliance eat kitchen kitchen microwave oven range refrigerator freezer hardwood floor vinyl flooring dining room view linen closet double pane window window covering package service property manager site',\n",
              " 'smoke free community air conditioning bicycle storage brand new luxury living controlled access courtyard firepit dog washing station elevator fiber internet gourmet kitchen home full size washer dryer individual climate control minute great shopping amp dining motorized parking lift motorized parking lift noise reducing dual pane window noise reducing insulated dual pane window package locker pet allowed pet welcome weight restriction plank flooring quartz countertop quartz counter top tile backsplash rooftop terrace barbecue rooftop terrace downtown view secure bike parking stainless steel appliance sweeping view oakland hill sweeping view san francisco view sf oakland deposit monthly pet rent lb weight limit pet limit built unit story month month month month month month month month month month month month month month month month maintenance site online service pet care pet washing station public transportation elevator multi use room roof terrace sundeck courtyard grill patio grill bike storage individual locking bedroom private bathroom study lounge high speed internet access wi fi washer dryer unit air conditioning heating cable ready tub shower dishwasher disposal ice maker granite countertop stainless steel appliance eat kitchen kitchen microwave oven range refrigerator freezer hardwood floor vinyl flooring dining room view linen closet double pane window window covering package service property manager site']"
            ]
          },
          "metadata": {
            "tags": []
          },
          "execution_count": 33
        }
      ]
    },
    {
      "cell_type": "code",
      "metadata": {
        "id": "3g0wkbnhQpHx",
        "colab_type": "code",
        "colab": {
          "base_uri": "https://localhost:8080/",
          "height": 244
        },
        "outputId": "6a7abc55-194a-409b-cf01-c77fd5be897c"
      },
      "source": [
        "#create the bag of words model\n",
        "cv = CountVectorizer(max_features = 1500)\n",
        "amenities = cv.fit_transform(amenities_text).toarray()\n",
        "\n",
        "#covert amenities to dataframe\n",
        "amenities = pd.DataFrame(amenities, columns = cv.get_feature_names())\n",
        "amenities.head()"
      ],
      "execution_count": 34,
      "outputs": [
        {
          "output_type": "execute_result",
          "data": {
            "text/html": [
              "<div>\n",
              "<style scoped>\n",
              "    .dataframe tbody tr th:only-of-type {\n",
              "        vertical-align: middle;\n",
              "    }\n",
              "\n",
              "    .dataframe tbody tr th {\n",
              "        vertical-align: top;\n",
              "    }\n",
              "\n",
              "    .dataframe thead th {\n",
              "        text-align: right;\n",
              "    }\n",
              "</style>\n",
              "<table border=\"1\" class=\"dataframe\">\n",
              "  <thead>\n",
              "    <tr style=\"text-align: right;\">\n",
              "      <th></th>\n",
              "      <th>ac</th>\n",
              "      <th>academic</th>\n",
              "      <th>accent</th>\n",
              "      <th>acceptance</th>\n",
              "      <th>access</th>\n",
              "      <th>accessible</th>\n",
              "      <th>accommodate</th>\n",
              "      <th>accommodation</th>\n",
              "      <th>ace</th>\n",
              "      <th>acre</th>\n",
              "      <th>across</th>\n",
              "      <th>active</th>\n",
              "      <th>activity</th>\n",
              "      <th>ada</th>\n",
              "      <th>adam</th>\n",
              "      <th>additional</th>\n",
              "      <th>adjacent</th>\n",
              "      <th>aging</th>\n",
              "      <th>air</th>\n",
              "      <th>airy</th>\n",
              "      <th>alameda</th>\n",
              "      <th>alarm</th>\n",
              "      <th>alcove</th>\n",
              "      <th>alert</th>\n",
              "      <th>alexa</th>\n",
              "      <th>alfred</th>\n",
              "      <th>allowed</th>\n",
              "      <th>alternate</th>\n",
              "      <th>amazing</th>\n",
              "      <th>amazon</th>\n",
              "      <th>amen</th>\n",
              "      <th>ameni</th>\n",
              "      <th>ameniti</th>\n",
              "      <th>amenitie</th>\n",
              "      <th>amenity</th>\n",
              "      <th>amp</th>\n",
              "      <th>ample</th>\n",
              "      <th>amtrak</th>\n",
              "      <th>apartment</th>\n",
              "      <th>apartmentratings</th>\n",
              "      <th>...</th>\n",
              "      <th>waste</th>\n",
              "      <th>watch</th>\n",
              "      <th>water</th>\n",
              "      <th>waterfront</th>\n",
              "      <th>way</th>\n",
              "      <th>webpass</th>\n",
              "      <th>website</th>\n",
              "      <th>weight</th>\n",
              "      <th>welcome</th>\n",
              "      <th>well</th>\n",
              "      <th>wet</th>\n",
              "      <th>wheelchair</th>\n",
              "      <th>whirlpool</th>\n",
              "      <th>whirpool</th>\n",
              "      <th>white</th>\n",
              "      <th>whole</th>\n",
              "      <th>wi</th>\n",
              "      <th>wide</th>\n",
              "      <th>wifi</th>\n",
              "      <th>wii</th>\n",
              "      <th>william</th>\n",
              "      <th>window</th>\n",
              "      <th>wine</th>\n",
              "      <th>winning</th>\n",
              "      <th>wired</th>\n",
              "      <th>wireless</th>\n",
              "      <th>within</th>\n",
              "      <th>wood</th>\n",
              "      <th>woodstyle</th>\n",
              "      <th>woof</th>\n",
              "      <th>work</th>\n",
              "      <th>working</th>\n",
              "      <th>workshop</th>\n",
              "      <th>yar</th>\n",
              "      <th>yard</th>\n",
              "      <th>year</th>\n",
              "      <th>yelena</th>\n",
              "      <th>yoga</th>\n",
              "      <th>zen</th>\n",
              "      <th>zipcar</th>\n",
              "    </tr>\n",
              "  </thead>\n",
              "  <tbody>\n",
              "    <tr>\n",
              "      <th>0</th>\n",
              "      <td>0</td>\n",
              "      <td>0</td>\n",
              "      <td>0</td>\n",
              "      <td>0</td>\n",
              "      <td>2</td>\n",
              "      <td>0</td>\n",
              "      <td>0</td>\n",
              "      <td>0</td>\n",
              "      <td>0</td>\n",
              "      <td>0</td>\n",
              "      <td>0</td>\n",
              "      <td>0</td>\n",
              "      <td>0</td>\n",
              "      <td>0</td>\n",
              "      <td>0</td>\n",
              "      <td>0</td>\n",
              "      <td>0</td>\n",
              "      <td>0</td>\n",
              "      <td>2</td>\n",
              "      <td>0</td>\n",
              "      <td>0</td>\n",
              "      <td>0</td>\n",
              "      <td>0</td>\n",
              "      <td>0</td>\n",
              "      <td>0</td>\n",
              "      <td>0</td>\n",
              "      <td>1</td>\n",
              "      <td>0</td>\n",
              "      <td>0</td>\n",
              "      <td>0</td>\n",
              "      <td>0</td>\n",
              "      <td>0</td>\n",
              "      <td>0</td>\n",
              "      <td>0</td>\n",
              "      <td>0</td>\n",
              "      <td>1</td>\n",
              "      <td>0</td>\n",
              "      <td>0</td>\n",
              "      <td>0</td>\n",
              "      <td>0</td>\n",
              "      <td>...</td>\n",
              "      <td>0</td>\n",
              "      <td>0</td>\n",
              "      <td>0</td>\n",
              "      <td>0</td>\n",
              "      <td>0</td>\n",
              "      <td>0</td>\n",
              "      <td>0</td>\n",
              "      <td>2</td>\n",
              "      <td>1</td>\n",
              "      <td>0</td>\n",
              "      <td>0</td>\n",
              "      <td>0</td>\n",
              "      <td>0</td>\n",
              "      <td>0</td>\n",
              "      <td>0</td>\n",
              "      <td>0</td>\n",
              "      <td>1</td>\n",
              "      <td>0</td>\n",
              "      <td>0</td>\n",
              "      <td>0</td>\n",
              "      <td>0</td>\n",
              "      <td>4</td>\n",
              "      <td>0</td>\n",
              "      <td>0</td>\n",
              "      <td>0</td>\n",
              "      <td>0</td>\n",
              "      <td>0</td>\n",
              "      <td>0</td>\n",
              "      <td>0</td>\n",
              "      <td>0</td>\n",
              "      <td>0</td>\n",
              "      <td>0</td>\n",
              "      <td>0</td>\n",
              "      <td>0</td>\n",
              "      <td>0</td>\n",
              "      <td>0</td>\n",
              "      <td>0</td>\n",
              "      <td>0</td>\n",
              "      <td>0</td>\n",
              "      <td>0</td>\n",
              "    </tr>\n",
              "    <tr>\n",
              "      <th>1</th>\n",
              "      <td>0</td>\n",
              "      <td>0</td>\n",
              "      <td>0</td>\n",
              "      <td>0</td>\n",
              "      <td>2</td>\n",
              "      <td>0</td>\n",
              "      <td>0</td>\n",
              "      <td>0</td>\n",
              "      <td>0</td>\n",
              "      <td>0</td>\n",
              "      <td>0</td>\n",
              "      <td>0</td>\n",
              "      <td>0</td>\n",
              "      <td>0</td>\n",
              "      <td>0</td>\n",
              "      <td>0</td>\n",
              "      <td>0</td>\n",
              "      <td>0</td>\n",
              "      <td>2</td>\n",
              "      <td>0</td>\n",
              "      <td>0</td>\n",
              "      <td>0</td>\n",
              "      <td>0</td>\n",
              "      <td>0</td>\n",
              "      <td>0</td>\n",
              "      <td>0</td>\n",
              "      <td>1</td>\n",
              "      <td>0</td>\n",
              "      <td>0</td>\n",
              "      <td>0</td>\n",
              "      <td>0</td>\n",
              "      <td>0</td>\n",
              "      <td>0</td>\n",
              "      <td>0</td>\n",
              "      <td>0</td>\n",
              "      <td>1</td>\n",
              "      <td>0</td>\n",
              "      <td>0</td>\n",
              "      <td>0</td>\n",
              "      <td>0</td>\n",
              "      <td>...</td>\n",
              "      <td>0</td>\n",
              "      <td>0</td>\n",
              "      <td>0</td>\n",
              "      <td>0</td>\n",
              "      <td>0</td>\n",
              "      <td>0</td>\n",
              "      <td>0</td>\n",
              "      <td>2</td>\n",
              "      <td>1</td>\n",
              "      <td>0</td>\n",
              "      <td>0</td>\n",
              "      <td>0</td>\n",
              "      <td>0</td>\n",
              "      <td>0</td>\n",
              "      <td>0</td>\n",
              "      <td>0</td>\n",
              "      <td>1</td>\n",
              "      <td>0</td>\n",
              "      <td>0</td>\n",
              "      <td>0</td>\n",
              "      <td>0</td>\n",
              "      <td>4</td>\n",
              "      <td>0</td>\n",
              "      <td>0</td>\n",
              "      <td>0</td>\n",
              "      <td>0</td>\n",
              "      <td>0</td>\n",
              "      <td>0</td>\n",
              "      <td>0</td>\n",
              "      <td>0</td>\n",
              "      <td>0</td>\n",
              "      <td>0</td>\n",
              "      <td>0</td>\n",
              "      <td>0</td>\n",
              "      <td>0</td>\n",
              "      <td>0</td>\n",
              "      <td>0</td>\n",
              "      <td>0</td>\n",
              "      <td>0</td>\n",
              "      <td>0</td>\n",
              "    </tr>\n",
              "    <tr>\n",
              "      <th>2</th>\n",
              "      <td>0</td>\n",
              "      <td>0</td>\n",
              "      <td>0</td>\n",
              "      <td>0</td>\n",
              "      <td>2</td>\n",
              "      <td>0</td>\n",
              "      <td>0</td>\n",
              "      <td>0</td>\n",
              "      <td>0</td>\n",
              "      <td>0</td>\n",
              "      <td>0</td>\n",
              "      <td>0</td>\n",
              "      <td>0</td>\n",
              "      <td>0</td>\n",
              "      <td>0</td>\n",
              "      <td>0</td>\n",
              "      <td>0</td>\n",
              "      <td>0</td>\n",
              "      <td>2</td>\n",
              "      <td>0</td>\n",
              "      <td>0</td>\n",
              "      <td>0</td>\n",
              "      <td>0</td>\n",
              "      <td>0</td>\n",
              "      <td>0</td>\n",
              "      <td>0</td>\n",
              "      <td>1</td>\n",
              "      <td>0</td>\n",
              "      <td>0</td>\n",
              "      <td>0</td>\n",
              "      <td>0</td>\n",
              "      <td>0</td>\n",
              "      <td>0</td>\n",
              "      <td>0</td>\n",
              "      <td>0</td>\n",
              "      <td>1</td>\n",
              "      <td>0</td>\n",
              "      <td>0</td>\n",
              "      <td>0</td>\n",
              "      <td>0</td>\n",
              "      <td>...</td>\n",
              "      <td>0</td>\n",
              "      <td>0</td>\n",
              "      <td>0</td>\n",
              "      <td>0</td>\n",
              "      <td>0</td>\n",
              "      <td>0</td>\n",
              "      <td>0</td>\n",
              "      <td>2</td>\n",
              "      <td>1</td>\n",
              "      <td>0</td>\n",
              "      <td>0</td>\n",
              "      <td>0</td>\n",
              "      <td>0</td>\n",
              "      <td>0</td>\n",
              "      <td>0</td>\n",
              "      <td>0</td>\n",
              "      <td>1</td>\n",
              "      <td>0</td>\n",
              "      <td>0</td>\n",
              "      <td>0</td>\n",
              "      <td>0</td>\n",
              "      <td>4</td>\n",
              "      <td>0</td>\n",
              "      <td>0</td>\n",
              "      <td>0</td>\n",
              "      <td>0</td>\n",
              "      <td>0</td>\n",
              "      <td>0</td>\n",
              "      <td>0</td>\n",
              "      <td>0</td>\n",
              "      <td>0</td>\n",
              "      <td>0</td>\n",
              "      <td>0</td>\n",
              "      <td>0</td>\n",
              "      <td>0</td>\n",
              "      <td>0</td>\n",
              "      <td>0</td>\n",
              "      <td>0</td>\n",
              "      <td>0</td>\n",
              "      <td>0</td>\n",
              "    </tr>\n",
              "    <tr>\n",
              "      <th>3</th>\n",
              "      <td>0</td>\n",
              "      <td>0</td>\n",
              "      <td>0</td>\n",
              "      <td>0</td>\n",
              "      <td>2</td>\n",
              "      <td>0</td>\n",
              "      <td>0</td>\n",
              "      <td>0</td>\n",
              "      <td>0</td>\n",
              "      <td>0</td>\n",
              "      <td>0</td>\n",
              "      <td>0</td>\n",
              "      <td>0</td>\n",
              "      <td>0</td>\n",
              "      <td>0</td>\n",
              "      <td>0</td>\n",
              "      <td>0</td>\n",
              "      <td>0</td>\n",
              "      <td>2</td>\n",
              "      <td>0</td>\n",
              "      <td>0</td>\n",
              "      <td>0</td>\n",
              "      <td>0</td>\n",
              "      <td>0</td>\n",
              "      <td>0</td>\n",
              "      <td>0</td>\n",
              "      <td>1</td>\n",
              "      <td>0</td>\n",
              "      <td>0</td>\n",
              "      <td>0</td>\n",
              "      <td>0</td>\n",
              "      <td>0</td>\n",
              "      <td>0</td>\n",
              "      <td>0</td>\n",
              "      <td>0</td>\n",
              "      <td>1</td>\n",
              "      <td>0</td>\n",
              "      <td>0</td>\n",
              "      <td>0</td>\n",
              "      <td>0</td>\n",
              "      <td>...</td>\n",
              "      <td>0</td>\n",
              "      <td>0</td>\n",
              "      <td>0</td>\n",
              "      <td>0</td>\n",
              "      <td>0</td>\n",
              "      <td>0</td>\n",
              "      <td>0</td>\n",
              "      <td>2</td>\n",
              "      <td>1</td>\n",
              "      <td>0</td>\n",
              "      <td>0</td>\n",
              "      <td>0</td>\n",
              "      <td>0</td>\n",
              "      <td>0</td>\n",
              "      <td>0</td>\n",
              "      <td>0</td>\n",
              "      <td>1</td>\n",
              "      <td>0</td>\n",
              "      <td>0</td>\n",
              "      <td>0</td>\n",
              "      <td>0</td>\n",
              "      <td>4</td>\n",
              "      <td>0</td>\n",
              "      <td>0</td>\n",
              "      <td>0</td>\n",
              "      <td>0</td>\n",
              "      <td>0</td>\n",
              "      <td>0</td>\n",
              "      <td>0</td>\n",
              "      <td>0</td>\n",
              "      <td>0</td>\n",
              "      <td>0</td>\n",
              "      <td>0</td>\n",
              "      <td>0</td>\n",
              "      <td>0</td>\n",
              "      <td>0</td>\n",
              "      <td>0</td>\n",
              "      <td>0</td>\n",
              "      <td>0</td>\n",
              "      <td>0</td>\n",
              "    </tr>\n",
              "    <tr>\n",
              "      <th>4</th>\n",
              "      <td>0</td>\n",
              "      <td>0</td>\n",
              "      <td>0</td>\n",
              "      <td>0</td>\n",
              "      <td>2</td>\n",
              "      <td>0</td>\n",
              "      <td>0</td>\n",
              "      <td>0</td>\n",
              "      <td>0</td>\n",
              "      <td>0</td>\n",
              "      <td>0</td>\n",
              "      <td>0</td>\n",
              "      <td>0</td>\n",
              "      <td>0</td>\n",
              "      <td>0</td>\n",
              "      <td>0</td>\n",
              "      <td>0</td>\n",
              "      <td>0</td>\n",
              "      <td>2</td>\n",
              "      <td>0</td>\n",
              "      <td>0</td>\n",
              "      <td>0</td>\n",
              "      <td>0</td>\n",
              "      <td>0</td>\n",
              "      <td>0</td>\n",
              "      <td>0</td>\n",
              "      <td>1</td>\n",
              "      <td>0</td>\n",
              "      <td>0</td>\n",
              "      <td>0</td>\n",
              "      <td>0</td>\n",
              "      <td>0</td>\n",
              "      <td>0</td>\n",
              "      <td>0</td>\n",
              "      <td>0</td>\n",
              "      <td>1</td>\n",
              "      <td>0</td>\n",
              "      <td>0</td>\n",
              "      <td>0</td>\n",
              "      <td>0</td>\n",
              "      <td>...</td>\n",
              "      <td>0</td>\n",
              "      <td>0</td>\n",
              "      <td>0</td>\n",
              "      <td>0</td>\n",
              "      <td>0</td>\n",
              "      <td>0</td>\n",
              "      <td>0</td>\n",
              "      <td>2</td>\n",
              "      <td>1</td>\n",
              "      <td>0</td>\n",
              "      <td>0</td>\n",
              "      <td>0</td>\n",
              "      <td>0</td>\n",
              "      <td>0</td>\n",
              "      <td>0</td>\n",
              "      <td>0</td>\n",
              "      <td>1</td>\n",
              "      <td>0</td>\n",
              "      <td>0</td>\n",
              "      <td>0</td>\n",
              "      <td>0</td>\n",
              "      <td>4</td>\n",
              "      <td>0</td>\n",
              "      <td>0</td>\n",
              "      <td>0</td>\n",
              "      <td>0</td>\n",
              "      <td>0</td>\n",
              "      <td>0</td>\n",
              "      <td>0</td>\n",
              "      <td>0</td>\n",
              "      <td>0</td>\n",
              "      <td>0</td>\n",
              "      <td>0</td>\n",
              "      <td>0</td>\n",
              "      <td>0</td>\n",
              "      <td>0</td>\n",
              "      <td>0</td>\n",
              "      <td>0</td>\n",
              "      <td>0</td>\n",
              "      <td>0</td>\n",
              "    </tr>\n",
              "  </tbody>\n",
              "</table>\n",
              "<p>5 rows × 1035 columns</p>\n",
              "</div>"
            ],
            "text/plain": [
              "   ac  academic  accent  acceptance  access  ...  year  yelena  yoga  zen  zipcar\n",
              "0   0         0       0           0       2  ...     0       0     0    0       0\n",
              "1   0         0       0           0       2  ...     0       0     0    0       0\n",
              "2   0         0       0           0       2  ...     0       0     0    0       0\n",
              "3   0         0       0           0       2  ...     0       0     0    0       0\n",
              "4   0         0       0           0       2  ...     0       0     0    0       0\n",
              "\n",
              "[5 rows x 1035 columns]"
            ]
          },
          "metadata": {
            "tags": []
          },
          "execution_count": 34
        }
      ]
    },
    {
      "cell_type": "code",
      "metadata": {
        "id": "kNuwetmDQw0P",
        "colab_type": "code",
        "colab": {}
      },
      "source": [
        "#setting target variable and independent variables and splitting dataset for NLP model\n",
        "y = pd.to_numeric(df['Avg_Rent'])\n",
        "X = pd.concat([amenities.reset_index(drop = True), df['Bedrooms'].reset_index(drop = True)], axis = 1, sort = False)\n",
        "\n",
        "X_train, X_test, y_train, y_test = train_test_split(X, y, test_size = 0.2, random_state = 24)"
      ],
      "execution_count": 35,
      "outputs": []
    },
    {
      "cell_type": "code",
      "metadata": {
        "id": "Idrz0NCAHXuP",
        "colab_type": "code",
        "colab": {}
      },
      "source": [
        "# choosing to use random forest regression model because it's easy to see feature importances\n",
        "rf = RandomForestRegressor(n_estimators = 100)\n",
        "\n",
        "rf.fit(X_train, y_train)\n",
        "pred = rf.predict(X_test)"
      ],
      "execution_count": 36,
      "outputs": []
    },
    {
      "cell_type": "code",
      "metadata": {
        "id": "qbvgQgZ9DBTy",
        "colab_type": "code",
        "colab": {
          "base_uri": "https://localhost:8080/",
          "height": 52
        },
        "outputId": "c1d5b29c-6e73-4f15-b479-0fc8e13acf9e"
      },
      "source": [
        "#calculating root mean squared error \n",
        "print('Random Forest Root Mean Squared Error:', np.sqrt(mean_squared_error(y_test, pred)))\n",
        "\n",
        "#calulating R**2 score\n",
        "print('Random Forest R**2 Score:', r2_score(y_test, pred))"
      ],
      "execution_count": 37,
      "outputs": [
        {
          "output_type": "stream",
          "text": [
            "Random Forest Root Mean Squared Error: 612.3400690943187\n",
            "Random Forest R**2 Score: 0.7713720475745787\n"
          ],
          "name": "stdout"
        }
      ]
    },
    {
      "cell_type": "code",
      "metadata": {
        "id": "atPW2_9mDF-3",
        "colab_type": "code",
        "colab": {
          "base_uri": "https://localhost:8080/",
          "height": 621
        },
        "outputId": "c87764c3-d435-4b0e-f9fc-f6a0f3558586"
      },
      "source": [
        "# visualizing distribution of predicted values vs actual values for SalePrice\n",
        "plt.figure(figsize = (12,10))\n",
        "\n",
        "ax1 = sns.distplot(y_test, hist = False, color = 'r', label = 'Actual Values')\n",
        "ax2 = sns.distplot(pred, hist = False, color = 'b', label = 'RF Predicted Values')\n",
        "\n",
        "\n",
        "\n",
        "plt.title('Distribution of Predicted Values vs Actual Values for Rent Price')\n",
        "plt.xlabel('Rent Price (in dollars)')\n",
        "plt.ylabel('Proportion of Apartments')\n",
        "\n",
        "plt.show()\n",
        "plt.close()"
      ],
      "execution_count": 38,
      "outputs": [
        {
          "output_type": "display_data",
          "data": {
            "image/png": "[encoded data removed]",
            "text/plain": [
              "<Figure size 864x720 with 1 Axes>"
            ]
          },
          "metadata": {
            "tags": [],
            "needs_background": "light"
          }
        }
      ]
    },
    {
      "cell_type": "code",
      "metadata": {
        "id": "An_QreyXG2zc",
        "colab_type": "code",
        "colab": {}
      },
      "source": [
        "#getting feature importances\n",
        "feature_importances = ({'Name':[],\n",
        "                        'Score':[]})\n",
        "\n",
        "for name, score in zip(X.columns, rf.feature_importances_):\n",
        "  feature_importances['Name'].append(name)\n",
        "  feature_importances['Score'].append(score)\n",
        "\n",
        "feature_importances = pd.DataFrame(feature_importances).sort_values(['Score'], ascending = False)"
      ],
      "execution_count": 39,
      "outputs": []
    },
    {
      "cell_type": "code",
      "metadata": {
        "id": "WAP_aFWfKD7f",
        "colab_type": "code",
        "colab": {
          "base_uri": "https://localhost:8080/",
          "height": 714
        },
        "outputId": "2568507a-1961-4763-c14f-c32b8eceaa0c"
      },
      "source": [
        "#plotting feature importances\n",
        "f, ax = plt.subplots(figsize = (18,12))\n",
        "sns.barplot(x = 'Score', y = 'Name', data = feature_importances.head(50), orient = \"h\")\n",
        "plt.show()"
      ],
      "execution_count": 40,
      "outputs": [
        {
          "output_type": "display_data",
          "data": {
            "image/png": "[encoded data removed]",
            "text/plain": [
              "<Figure size 1296x864 with 1 Axes>"
            ]
          },
          "metadata": {
            "tags": [],
            "needs_background": "light"
          }
        }
      ]
    },
    {
      "cell_type": "markdown",
      "metadata": {
        "id": "iTJMZCKqNJL-",
        "colab_type": "text"
      },
      "source": [
        "#Extracting Features from Amenities Column\n",
        "Used insight gained from NLP model to extract new features from the amenities column"
      ]
    },
    {
      "cell_type": "code",
      "metadata": {
        "id": "Uf5ER8FDNP40",
        "colab_type": "code",
        "colab": {
          "base_uri": "https://localhost:8080/",
          "height": 316
        },
        "outputId": "064e91f5-c85d-4b2b-e131-7df2ab065b50"
      },
      "source": [
        "df['Concierge'] = df.Amenities.apply(lambda x: 1 if 'concierge' in x.lower() else 0)  #whether or not apartment complex has a concierge\n",
        "\n",
        "df['Lounge'] = df.Amenities.apply(lambda x: 1 if 'lounge' in x.lower() else 0)  #whether or not apartment complex has a lounge\n",
        "\n",
        "df['A/C'] = df.Amenities.apply(lambda x: 1 if 'air conditioning' in x.lower() or 'a/c' in x.lower() else 0)  #whether or not apt/house has air conditioning\n",
        "\n",
        "df['Smoke Free'] = df.Amenities.apply(lambda x: 1 if 'smoke free' in x.lower() else 0)  #whether or not the apartment complex is smoke free\n",
        "\n",
        "df['Pets Allowed'] = df.Amenities.apply(lambda x: 1 if 'pets allowed' in x.lower() or 'pets welcome' in x.lower() or 'dogs allowed' in x.lower() or 'cats allowed' in x.lower() else 0) #whether or not the apartment complex allows pets\n",
        "\n",
        "df['Pool'] = df.Amenities.apply(lambda x: 1 if 'pool' in x.lower() else 0)  #whether or not the apartment complex has a pool\n",
        "\n",
        "df['Gym'] = df.Amenities.apply(lambda x: 1 if 'gym' in x.lower() or 'fitness center' in x.lower() or 'yoga studio' in x.lower() else 0)  #whether or not the apartment complex has a gym/fitness center/yoga studio\n",
        "\n",
        "df['Laundry'] = df.Amenities.apply(lambda x: 1 if 'laundry' in x.lower() or 'washer' in x.lower() or 'dryer' in x.lower() else 0) #whether or not laundry is mentioned in the list of amenities\n",
        "\n",
        "df['Gated'] = df.Amenities.apply(lambda x: 1 if 'gated' in x.lower() else 0)  #whether or not the apt/house is in a gated community\n",
        "\n",
        "df['Furnished'] = df.Amenities.apply(lambda x: 1 if 'furnished' in x.lower() else 0) #whether or not the apt/house is furnished\n",
        "\n",
        "df['Wheelchair Accessible'] = df.Amenities.apply(lambda x: 1 if 'wheelchair accessible' in x.lower() else 0)  #whether or not the apartment is wheelchair accessible\n",
        "\n",
        "df['Dishwasher'] = df.Amenities.apply(lambda x: 1 if 'dishwasher' in x.lower() else 0)  #whether or not apt has a dishwasher\n",
        "\n",
        "#creating features for the type of floor\n",
        "df['Carpet'] = df.Amenities.apply(lambda x: 1 if 'carpet' in x.lower() else 0)\n",
        "df['Wood Floor'] = df.Amenities.apply(lambda x: 1 if 'wood floor' in x.lower() else 0)\n",
        "df['Plank Floor'] = df.Amenities.apply(lambda x: 1 if 'plank floor' in x.lower() else 0)\n",
        "df['Tile Floor'] = df.Amenities.apply(lambda x: 1 if 'tile floor' in x.lower() else 0)\n",
        "\n",
        "df[['Concierge','Lounge','A/C','Smoke Free','Pets Allowed','Pool','Gym','Laundry','Gated','Furnished','Wheelchair Accessible','Dishwasher','Carpet','Wood Floor','Plank Floor','Tile Floor']].sum()"
      ],
      "execution_count": 41,
      "outputs": [
        {
          "output_type": "execute_result",
          "data": {
            "text/plain": [
              "Concierge                 998\n",
              "Lounge                   2004\n",
              "A/C                      1071\n",
              "Smoke Free               1040\n",
              "Pets Allowed              662\n",
              "Pool                     1300\n",
              "Gym                      1872\n",
              "Laundry                  2685\n",
              "Gated                    1402\n",
              "Furnished                 580\n",
              "Wheelchair Accessible     396\n",
              "Dishwasher               1869\n",
              "Carpet                    511\n",
              "Wood Floor               1366\n",
              "Plank Floor               335\n",
              "Tile Floor                445\n",
              "dtype: int64"
            ]
          },
          "metadata": {
            "tags": []
          },
          "execution_count": 41
        }
      ]
    },
    {
      "cell_type": "code",
      "metadata": {
        "id": "xdkD4gAhVAhP",
        "colab_type": "code",
        "colab": {
          "base_uri": "https://localhost:8080/",
          "height": 736
        },
        "outputId": "44f6b667-c149-4879-c18f-ea549b435284"
      },
      "source": [
        "df.head()"
      ],
      "execution_count": 42,
      "outputs": [
        {
          "output_type": "execute_result",
          "data": {
            "text/html": [
              "<div>\n",
              "<style scoped>\n",
              "    .dataframe tbody tr th:only-of-type {\n",
              "        vertical-align: middle;\n",
              "    }\n",
              "\n",
              "    .dataframe tbody tr th {\n",
              "        vertical-align: top;\n",
              "    }\n",
              "\n",
              "    .dataframe thead th {\n",
              "        text-align: right;\n",
              "    }\n",
              "</style>\n",
              "<table border=\"1\" class=\"dataframe\">\n",
              "  <thead>\n",
              "    <tr style=\"text-align: right;\">\n",
              "      <th></th>\n",
              "      <th>Title</th>\n",
              "      <th>Address</th>\n",
              "      <th>Bedrooms</th>\n",
              "      <th>Bathrooms</th>\n",
              "      <th>Rent</th>\n",
              "      <th>Square Footage</th>\n",
              "      <th>Availability</th>\n",
              "      <th>Amenities</th>\n",
              "      <th>City</th>\n",
              "      <th>Zip_Code</th>\n",
              "      <th>Neighborhood</th>\n",
              "      <th>Avg_Rent</th>\n",
              "      <th>Avg_Sqft</th>\n",
              "      <th>Concierge</th>\n",
              "      <th>Lounge</th>\n",
              "      <th>A/C</th>\n",
              "      <th>Smoke Free</th>\n",
              "      <th>Pets Allowed</th>\n",
              "      <th>Pool</th>\n",
              "      <th>Gym</th>\n",
              "      <th>Laundry</th>\n",
              "      <th>Gated</th>\n",
              "      <th>Furnished</th>\n",
              "      <th>Wheelchair Accessible</th>\n",
              "      <th>Dishwasher</th>\n",
              "      <th>Carpet</th>\n",
              "      <th>Wood Floor</th>\n",
              "      <th>Plank Floor</th>\n",
              "      <th>Tile Floor</th>\n",
              "    </tr>\n",
              "  </thead>\n",
              "  <tbody>\n",
              "    <tr>\n",
              "      <th>0</th>\n",
              "      <td>Amelia</td>\n",
              "      <td>411 29th St, Oakland, CA 94609 â€“ Pill Hill</td>\n",
              "      <td>1</td>\n",
              "      <td>1.0</td>\n",
              "      <td>2875 - 2995</td>\n",
              "      <td>502</td>\n",
              "      <td>Available Now</td>\n",
              "      <td>100% Smoke Free Community, Air Conditioning, B...</td>\n",
              "      <td>Oakland</td>\n",
              "      <td>94609</td>\n",
              "      <td>Pill Hill</td>\n",
              "      <td>2935</td>\n",
              "      <td>502.0</td>\n",
              "      <td>0</td>\n",
              "      <td>1</td>\n",
              "      <td>1</td>\n",
              "      <td>1</td>\n",
              "      <td>1</td>\n",
              "      <td>0</td>\n",
              "      <td>0</td>\n",
              "      <td>1</td>\n",
              "      <td>0</td>\n",
              "      <td>0</td>\n",
              "      <td>0</td>\n",
              "      <td>1</td>\n",
              "      <td>0</td>\n",
              "      <td>1</td>\n",
              "      <td>1</td>\n",
              "      <td>0</td>\n",
              "    </tr>\n",
              "    <tr>\n",
              "      <th>1</th>\n",
              "      <td>Amelia</td>\n",
              "      <td>411 29th St, Oakland, CA 94609 â€“ Pill Hill</td>\n",
              "      <td>1</td>\n",
              "      <td>1.0</td>\n",
              "      <td>2875</td>\n",
              "      <td>502</td>\n",
              "      <td>Available Now</td>\n",
              "      <td>100% Smoke Free Community, Air Conditioning, B...</td>\n",
              "      <td>Oakland</td>\n",
              "      <td>94609</td>\n",
              "      <td>Pill Hill</td>\n",
              "      <td>2875</td>\n",
              "      <td>502.0</td>\n",
              "      <td>0</td>\n",
              "      <td>1</td>\n",
              "      <td>1</td>\n",
              "      <td>1</td>\n",
              "      <td>1</td>\n",
              "      <td>0</td>\n",
              "      <td>0</td>\n",
              "      <td>1</td>\n",
              "      <td>0</td>\n",
              "      <td>0</td>\n",
              "      <td>0</td>\n",
              "      <td>1</td>\n",
              "      <td>0</td>\n",
              "      <td>1</td>\n",
              "      <td>1</td>\n",
              "      <td>0</td>\n",
              "    </tr>\n",
              "    <tr>\n",
              "      <th>2</th>\n",
              "      <td>Amelia</td>\n",
              "      <td>411 29th St, Oakland, CA 94609 â€“ Pill Hill</td>\n",
              "      <td>1</td>\n",
              "      <td>1.0</td>\n",
              "      <td>2875</td>\n",
              "      <td>502</td>\n",
              "      <td>Available Now</td>\n",
              "      <td>100% Smoke Free Community, Air Conditioning, B...</td>\n",
              "      <td>Oakland</td>\n",
              "      <td>94609</td>\n",
              "      <td>Pill Hill</td>\n",
              "      <td>2875</td>\n",
              "      <td>502.0</td>\n",
              "      <td>0</td>\n",
              "      <td>1</td>\n",
              "      <td>1</td>\n",
              "      <td>1</td>\n",
              "      <td>1</td>\n",
              "      <td>0</td>\n",
              "      <td>0</td>\n",
              "      <td>1</td>\n",
              "      <td>0</td>\n",
              "      <td>0</td>\n",
              "      <td>0</td>\n",
              "      <td>1</td>\n",
              "      <td>0</td>\n",
              "      <td>1</td>\n",
              "      <td>1</td>\n",
              "      <td>0</td>\n",
              "    </tr>\n",
              "    <tr>\n",
              "      <th>3</th>\n",
              "      <td>Amelia</td>\n",
              "      <td>411 29th St, Oakland, CA 94609 â€“ Pill Hill</td>\n",
              "      <td>1</td>\n",
              "      <td>1.0</td>\n",
              "      <td>2875</td>\n",
              "      <td>502</td>\n",
              "      <td>Available Now</td>\n",
              "      <td>100% Smoke Free Community, Air Conditioning, B...</td>\n",
              "      <td>Oakland</td>\n",
              "      <td>94609</td>\n",
              "      <td>Pill Hill</td>\n",
              "      <td>2875</td>\n",
              "      <td>502.0</td>\n",
              "      <td>0</td>\n",
              "      <td>1</td>\n",
              "      <td>1</td>\n",
              "      <td>1</td>\n",
              "      <td>1</td>\n",
              "      <td>0</td>\n",
              "      <td>0</td>\n",
              "      <td>1</td>\n",
              "      <td>0</td>\n",
              "      <td>0</td>\n",
              "      <td>0</td>\n",
              "      <td>1</td>\n",
              "      <td>0</td>\n",
              "      <td>1</td>\n",
              "      <td>1</td>\n",
              "      <td>0</td>\n",
              "    </tr>\n",
              "    <tr>\n",
              "      <th>4</th>\n",
              "      <td>Amelia</td>\n",
              "      <td>411 29th St, Oakland, CA 94609 â€“ Pill Hill</td>\n",
              "      <td>1</td>\n",
              "      <td>1.0</td>\n",
              "      <td>2875</td>\n",
              "      <td>502</td>\n",
              "      <td>Available Now</td>\n",
              "      <td>100% Smoke Free Community, Air Conditioning, B...</td>\n",
              "      <td>Oakland</td>\n",
              "      <td>94609</td>\n",
              "      <td>Pill Hill</td>\n",
              "      <td>2875</td>\n",
              "      <td>502.0</td>\n",
              "      <td>0</td>\n",
              "      <td>1</td>\n",
              "      <td>1</td>\n",
              "      <td>1</td>\n",
              "      <td>1</td>\n",
              "      <td>0</td>\n",
              "      <td>0</td>\n",
              "      <td>1</td>\n",
              "      <td>0</td>\n",
              "      <td>0</td>\n",
              "      <td>0</td>\n",
              "      <td>1</td>\n",
              "      <td>0</td>\n",
              "      <td>1</td>\n",
              "      <td>1</td>\n",
              "      <td>0</td>\n",
              "    </tr>\n",
              "  </tbody>\n",
              "</table>\n",
              "</div>"
            ],
            "text/plain": [
              "    Title  ... Tile Floor\n",
              "0  Amelia  ...          0\n",
              "1  Amelia  ...          0\n",
              "2  Amelia  ...          0\n",
              "3  Amelia  ...          0\n",
              "4  Amelia  ...          0\n",
              "\n",
              "[5 rows x 29 columns]"
            ]
          },
          "metadata": {
            "tags": []
          },
          "execution_count": 42
        }
      ]
    },
    {
      "cell_type": "code",
      "metadata": {
        "id": "1eU-pQJlqrd1",
        "colab_type": "code",
        "colab": {
          "base_uri": "https://localhost:8080/",
          "height": 527
        },
        "outputId": "f2e3cb80-b139-4395-e2e9-abbb45b12741"
      },
      "source": [
        "df.columns.tolist()"
      ],
      "execution_count": 43,
      "outputs": [
        {
          "output_type": "execute_result",
          "data": {
            "text/plain": [
              "['Title',\n",
              " 'Address',\n",
              " 'Bedrooms',\n",
              " 'Bathrooms',\n",
              " 'Rent',\n",
              " 'Square Footage',\n",
              " 'Availability',\n",
              " 'Amenities',\n",
              " 'City',\n",
              " 'Zip_Code',\n",
              " 'Neighborhood',\n",
              " 'Avg_Rent',\n",
              " 'Avg_Sqft',\n",
              " 'Concierge',\n",
              " 'Lounge',\n",
              " 'A/C',\n",
              " 'Smoke Free',\n",
              " 'Pets Allowed',\n",
              " 'Pool',\n",
              " 'Gym',\n",
              " 'Laundry',\n",
              " 'Gated',\n",
              " 'Furnished',\n",
              " 'Wheelchair Accessible',\n",
              " 'Dishwasher',\n",
              " 'Carpet',\n",
              " 'Wood Floor',\n",
              " 'Plank Floor',\n",
              " 'Tile Floor']"
            ]
          },
          "metadata": {
            "tags": []
          },
          "execution_count": 43
        }
      ]
    },
    {
      "cell_type": "code",
      "metadata": {
        "id": "ZIAr_VmpZsfW",
        "colab_type": "code",
        "colab": {
          "base_uri": "https://localhost:8080/",
          "height": 439
        },
        "outputId": "e7359fc4-91cc-4a9b-8731-04cc76cffd88"
      },
      "source": [
        "#decided to include Amenities column with raw text\n",
        "#this way I can compare an NLP model (using bag of words) to a model using specific features that I extracted from the Amenities column\n",
        "df_clean = df.drop(['Title','Address','Rent','Square Footage','Availability'], axis =1)\n",
        "df_clean.columns.tolist()"
      ],
      "execution_count": 44,
      "outputs": [
        {
          "output_type": "execute_result",
          "data": {
            "text/plain": [
              "['Bedrooms',\n",
              " 'Bathrooms',\n",
              " 'Amenities',\n",
              " 'City',\n",
              " 'Zip_Code',\n",
              " 'Neighborhood',\n",
              " 'Avg_Rent',\n",
              " 'Avg_Sqft',\n",
              " 'Concierge',\n",
              " 'Lounge',\n",
              " 'A/C',\n",
              " 'Smoke Free',\n",
              " 'Pets Allowed',\n",
              " 'Pool',\n",
              " 'Gym',\n",
              " 'Laundry',\n",
              " 'Gated',\n",
              " 'Furnished',\n",
              " 'Wheelchair Accessible',\n",
              " 'Dishwasher',\n",
              " 'Carpet',\n",
              " 'Wood Floor',\n",
              " 'Plank Floor',\n",
              " 'Tile Floor']"
            ]
          },
          "metadata": {
            "tags": []
          },
          "execution_count": 44
        }
      ]
    },
    {
      "cell_type": "code",
      "metadata": {
        "id": "UUwYK0uyqgMu",
        "colab_type": "code",
        "colab": {
          "base_uri": "https://localhost:8080/",
          "height": 457
        },
        "outputId": "69b53cd9-b40b-44ca-ecc0-79d55eefb2f5"
      },
      "source": [
        "df_clean.isna().sum()"
      ],
      "execution_count": 45,
      "outputs": [
        {
          "output_type": "execute_result",
          "data": {
            "text/plain": [
              "Bedrooms                 0\n",
              "Bathrooms                0\n",
              "Amenities                0\n",
              "City                     0\n",
              "Zip_Code                 0\n",
              "Neighborhood             0\n",
              "Avg_Rent                 0\n",
              "Avg_Sqft                 0\n",
              "Concierge                0\n",
              "Lounge                   0\n",
              "A/C                      0\n",
              "Smoke Free               0\n",
              "Pets Allowed             0\n",
              "Pool                     0\n",
              "Gym                      0\n",
              "Laundry                  0\n",
              "Gated                    0\n",
              "Furnished                0\n",
              "Wheelchair Accessible    0\n",
              "Dishwasher               0\n",
              "Carpet                   0\n",
              "Wood Floor               0\n",
              "Plank Floor              0\n",
              "Tile Floor               0\n",
              "dtype: int64"
            ]
          },
          "metadata": {
            "tags": []
          },
          "execution_count": 45
        }
      ]
    },
    {
      "cell_type": "code",
      "metadata": {
        "id": "xBrKbr3Eqh7u",
        "colab_type": "code",
        "colab": {
          "base_uri": "https://localhost:8080/",
          "height": 34
        },
        "outputId": "9c588d59-fbc0-4269-b2b2-656873a7ff96"
      },
      "source": [
        "df_clean.shape"
      ],
      "execution_count": 46,
      "outputs": [
        {
          "output_type": "execute_result",
          "data": {
            "text/plain": [
              "(2964, 24)"
            ]
          },
          "metadata": {
            "tags": []
          },
          "execution_count": 46
        }
      ]
    },
    {
      "cell_type": "code",
      "metadata": {
        "id": "sP25yovTqjbJ",
        "colab_type": "code",
        "colab": {}
      },
      "source": [
        "# un-comment to save cleaned dataframe to csv\n",
        "#df_clean.to_csv('apartment_data_clean.csv', index = False)"
      ],
      "execution_count": 48,
      "outputs": []
    }
  ]
}